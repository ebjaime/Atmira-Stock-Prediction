{
 "cells": [
  {
   "cell_type": "code",
   "execution_count": 1,
   "metadata": {},
   "outputs": [],
   "source": [
    "import pandas as pd\n",
    "import numpy as np\n",
    "import matplotlib.pyplot as plt\n",
    "from datetime import datetime \n",
    "\n",
    "random_seed = 42"
   ]
  },
  {
   "cell_type": "code",
   "execution_count": 2,
   "metadata": {},
   "outputs": [],
   "source": [
    "date_parser = lambda x : datetime.strptime(x, \"%d/%m/%Y %H:%M:%S\")\n",
    "df = pd.read_csv(\"./data/Modelar_UH2021.txt\", sep=\"|\", parse_dates=['fecha'],\n",
    "                 date_parser=date_parser)"
   ]
  },
  {
   "cell_type": "markdown",
   "metadata": {},
   "source": [
    "Se puede ver que se leen las fechas para algunas filas mal quitando el parser y comparando los valores únicos de las fechas del principio y del final, donde se ve que están cambiados de posición."
   ]
  },
  {
   "cell_type": "markdown",
   "metadata": {},
   "source": [
    "## 1. Análisis de Datos"
   ]
  },
  {
   "cell_type": "code",
   "execution_count": 3,
   "metadata": {},
   "outputs": [
    {
     "name": "stdout",
     "output_type": "stream",
     "text": [
      "<class 'pandas.core.frame.DataFrame'>\n",
      "RangeIndex: 4045022 entries, 0 to 4045021\n",
      "Data columns (total 11 columns):\n",
      " #   Column             Dtype         \n",
      "---  ------             -----         \n",
      " 0   fecha              datetime64[ns]\n",
      " 1   id                 int64         \n",
      " 2   visitas            int64         \n",
      " 3   categoria_uno      object        \n",
      " 4   categoria_dos      float64       \n",
      " 5   estado             object        \n",
      " 6   precio             object        \n",
      " 7   dia_atipico        int64         \n",
      " 8   campaña            int64         \n",
      " 9   antiguedad         float64       \n",
      " 10  unidades_vendidas  int64         \n",
      "dtypes: datetime64[ns](1), float64(2), int64(5), object(3)\n",
      "memory usage: 339.5+ MB\n"
     ]
    }
   ],
   "source": [
    "df.info()"
   ]
  },
  {
   "cell_type": "code",
   "execution_count": 4,
   "metadata": {},
   "outputs": [
    {
     "data": {
      "text/html": [
       "<div>\n",
       "<style scoped>\n",
       "    .dataframe tbody tr th:only-of-type {\n",
       "        vertical-align: middle;\n",
       "    }\n",
       "\n",
       "    .dataframe tbody tr th {\n",
       "        vertical-align: top;\n",
       "    }\n",
       "\n",
       "    .dataframe thead th {\n",
       "        text-align: right;\n",
       "    }\n",
       "</style>\n",
       "<table border=\"1\" class=\"dataframe\">\n",
       "  <thead>\n",
       "    <tr style=\"text-align: right;\">\n",
       "      <th></th>\n",
       "      <th>fecha</th>\n",
       "      <th>id</th>\n",
       "      <th>visitas</th>\n",
       "      <th>categoria_uno</th>\n",
       "      <th>categoria_dos</th>\n",
       "      <th>estado</th>\n",
       "      <th>precio</th>\n",
       "      <th>dia_atipico</th>\n",
       "      <th>campaña</th>\n",
       "      <th>antiguedad</th>\n",
       "      <th>unidades_vendidas</th>\n",
       "    </tr>\n",
       "  </thead>\n",
       "  <tbody>\n",
       "    <tr>\n",
       "      <th>0</th>\n",
       "      <td>2015-06-01</td>\n",
       "      <td>21972</td>\n",
       "      <td>0</td>\n",
       "      <td>C</td>\n",
       "      <td>75.0</td>\n",
       "      <td>No Rotura</td>\n",
       "      <td>NaN</td>\n",
       "      <td>0</td>\n",
       "      <td>0</td>\n",
       "      <td>5241.0</td>\n",
       "      <td>0</td>\n",
       "    </tr>\n",
       "    <tr>\n",
       "      <th>1</th>\n",
       "      <td>2015-06-01</td>\n",
       "      <td>23910</td>\n",
       "      <td>5</td>\n",
       "      <td>C</td>\n",
       "      <td>170.0</td>\n",
       "      <td>No Rotura</td>\n",
       "      <td>6,07</td>\n",
       "      <td>0</td>\n",
       "      <td>0</td>\n",
       "      <td>5241.0</td>\n",
       "      <td>3</td>\n",
       "    </tr>\n",
       "    <tr>\n",
       "      <th>2</th>\n",
       "      <td>2015-06-01</td>\n",
       "      <td>24306</td>\n",
       "      <td>13</td>\n",
       "      <td>A</td>\n",
       "      <td>46.0</td>\n",
       "      <td>No Rotura</td>\n",
       "      <td>NaN</td>\n",
       "      <td>0</td>\n",
       "      <td>0</td>\n",
       "      <td>NaN</td>\n",
       "      <td>0</td>\n",
       "    </tr>\n",
       "    <tr>\n",
       "      <th>3</th>\n",
       "      <td>2015-06-01</td>\n",
       "      <td>24306</td>\n",
       "      <td>13</td>\n",
       "      <td>A</td>\n",
       "      <td>46.0</td>\n",
       "      <td>No Rotura</td>\n",
       "      <td>NaN</td>\n",
       "      <td>0</td>\n",
       "      <td>0</td>\n",
       "      <td>NaN</td>\n",
       "      <td>0</td>\n",
       "    </tr>\n",
       "    <tr>\n",
       "      <th>4</th>\n",
       "      <td>2015-06-01</td>\n",
       "      <td>27144</td>\n",
       "      <td>15</td>\n",
       "      <td>E</td>\n",
       "      <td>230.0</td>\n",
       "      <td>No Rotura</td>\n",
       "      <td>NaN</td>\n",
       "      <td>0</td>\n",
       "      <td>0</td>\n",
       "      <td>4064.0</td>\n",
       "      <td>0</td>\n",
       "    </tr>\n",
       "  </tbody>\n",
       "</table>\n",
       "</div>"
      ],
      "text/plain": [
       "       fecha     id  visitas categoria_uno  categoria_dos     estado precio  \\\n",
       "0 2015-06-01  21972        0             C           75.0  No Rotura    NaN   \n",
       "1 2015-06-01  23910        5             C          170.0  No Rotura   6,07   \n",
       "2 2015-06-01  24306       13             A           46.0  No Rotura    NaN   \n",
       "3 2015-06-01  24306       13             A           46.0  No Rotura    NaN   \n",
       "4 2015-06-01  27144       15             E          230.0  No Rotura    NaN   \n",
       "\n",
       "   dia_atipico  campaña  antiguedad  unidades_vendidas  \n",
       "0            0        0      5241.0                  0  \n",
       "1            0        0      5241.0                  3  \n",
       "2            0        0         NaN                  0  \n",
       "3            0        0         NaN                  0  \n",
       "4            0        0      4064.0                  0  "
      ]
     },
     "execution_count": 4,
     "metadata": {},
     "output_type": "execute_result"
    }
   ],
   "source": [
    "df.head()"
   ]
  },
  {
   "cell_type": "markdown",
   "metadata": {},
   "source": [
    "* Atributo `fecha`"
   ]
  },
  {
   "cell_type": "code",
   "execution_count": 5,
   "metadata": {
    "scrolled": true
   },
   "outputs": [
    {
     "name": "stdout",
     "output_type": "stream",
     "text": [
      "Numero de días en el dataset:  487\n"
     ]
    }
   ],
   "source": [
    "print(\"Numero de días en el dataset: \",len(df['fecha'].unique()))"
   ]
  },
  {
   "cell_type": "code",
   "execution_count": 6,
   "metadata": {
    "scrolled": true
   },
   "outputs": [
    {
     "data": {
      "text/plain": [
       "array(['2016-09-24T00:00:00.000000000', '2016-09-25T00:00:00.000000000',\n",
       "       '2016-09-26T00:00:00.000000000', '2016-09-27T00:00:00.000000000',\n",
       "       '2016-09-28T00:00:00.000000000', '2016-09-29T00:00:00.000000000',\n",
       "       '2016-09-30T00:00:00.000000000'], dtype='datetime64[ns]')"
      ]
     },
     "execution_count": 6,
     "metadata": {},
     "output_type": "execute_result"
    }
   ],
   "source": [
    "df['fecha'].unique()[480:]"
   ]
  },
  {
   "cell_type": "code",
   "execution_count": 7,
   "metadata": {
    "scrolled": false
   },
   "outputs": [
    {
     "data": {
      "text/plain": [
       "array(['2015-06-01T00:00:00.000000000', '2015-06-02T00:00:00.000000000',\n",
       "       '2015-06-03T00:00:00.000000000', '2015-06-04T00:00:00.000000000',\n",
       "       '2015-06-05T00:00:00.000000000', '2015-06-06T00:00:00.000000000',\n",
       "       '2015-06-07T00:00:00.000000000', '2015-06-08T00:00:00.000000000',\n",
       "       '2015-06-09T00:00:00.000000000', '2015-06-10T00:00:00.000000000'],\n",
       "      dtype='datetime64[ns]')"
      ]
     },
     "execution_count": 7,
     "metadata": {},
     "output_type": "execute_result"
    }
   ],
   "source": [
    "df['fecha'].unique()[:10]"
   ]
  },
  {
   "cell_type": "markdown",
   "metadata": {},
   "source": [
    "* Atributos `categoria_uno` y `estado`"
   ]
  },
  {
   "cell_type": "code",
   "execution_count": 8,
   "metadata": {
    "scrolled": true
   },
   "outputs": [
    {
     "data": {
      "text/plain": [
       "A    1571062\n",
       "K     581478\n",
       "H     489922\n",
       "F     458267\n",
       "E     322394\n",
       "G     174346\n",
       "C     173372\n",
       "L     115419\n",
       "B      78407\n",
       "I      67206\n",
       "O       7305\n",
       "N       5357\n",
       "D        487\n",
       "Name: categoria_uno, dtype: int64"
      ]
     },
     "execution_count": 8,
     "metadata": {},
     "output_type": "execute_result"
    }
   ],
   "source": [
    "df[\"categoria_uno\"].value_counts()"
   ]
  },
  {
   "cell_type": "code",
   "execution_count": 9,
   "metadata": {},
   "outputs": [
    {
     "data": {
      "text/plain": [
       "No Rotura    3388184\n",
       "Rotura        606530\n",
       "Transito       50308\n",
       "Name: estado, dtype: int64"
      ]
     },
     "execution_count": 9,
     "metadata": {},
     "output_type": "execute_result"
    }
   ],
   "source": [
    "df[\"estado\"].value_counts()"
   ]
  },
  {
   "cell_type": "code",
   "execution_count": 10,
   "metadata": {},
   "outputs": [],
   "source": [
    "df['estado'] = df['estado'].astype('category')\n",
    "df['categoria_uno'] = df['categoria_uno'].astype('category')"
   ]
  },
  {
   "cell_type": "markdown",
   "metadata": {},
   "source": [
    "En lugar de que sean objetos, que sean categorías que es un tipo más eficiente para estos tipos de datos"
   ]
  },
  {
   "cell_type": "code",
   "execution_count": 11,
   "metadata": {},
   "outputs": [
    {
     "data": {
      "text/plain": [
       "CategoricalDtype(categories=['A', 'B', 'C', 'D', 'E', 'F', 'G', 'H', 'I', 'K', 'L', 'N',\n",
       "                  'O'],\n",
       "                 ordered=False)"
      ]
     },
     "execution_count": 11,
     "metadata": {},
     "output_type": "execute_result"
    }
   ],
   "source": [
    "df['categoria_uno'].dtype"
   ]
  },
  {
   "cell_type": "code",
   "execution_count": 12,
   "metadata": {},
   "outputs": [
    {
     "data": {
      "text/plain": [
       "CategoricalDtype(categories=['No Rotura', 'Rotura', 'Transito'], ordered=False)"
      ]
     },
     "execution_count": 12,
     "metadata": {},
     "output_type": "execute_result"
    }
   ],
   "source": [
    "df[\"estado\"].dtype"
   ]
  },
  {
   "cell_type": "markdown",
   "metadata": {},
   "source": [
    "* Atributo `categoria_dos`"
   ]
  },
  {
   "cell_type": "code",
   "execution_count": 13,
   "metadata": {},
   "outputs": [
    {
     "name": "stdout",
     "output_type": "stream",
     "text": [
      "Número de categorías en 'categoria_dos': 182\n"
     ]
    }
   ],
   "source": [
    "print(\"Número de categorías en 'categoria_dos':\", df['categoria_dos'].nunique())"
   ]
  },
  {
   "cell_type": "markdown",
   "metadata": {},
   "source": [
    "* Atributo `precio`"
   ]
  },
  {
   "cell_type": "markdown",
   "metadata": {},
   "source": [
    "El precio se detecta como tipo `object` porque usa la coma en vez del punto. Se modifica para poder hacer operaciones con él."
   ]
  },
  {
   "cell_type": "code",
   "execution_count": 14,
   "metadata": {},
   "outputs": [],
   "source": [
    "df[\"precio\"] = df[\"precio\"].str.replace(\",\", \".\").astype(float)"
   ]
  },
  {
   "cell_type": "code",
   "execution_count": 15,
   "metadata": {},
   "outputs": [
    {
     "data": {
      "text/plain": [
       "dtype('float64')"
      ]
     },
     "execution_count": 15,
     "metadata": {},
     "output_type": "execute_result"
    }
   ],
   "source": [
    "df[\"precio\"].dtype"
   ]
  },
  {
   "cell_type": "code",
   "execution_count": 16,
   "metadata": {},
   "outputs": [
    {
     "data": {
      "text/plain": [
       "(175.78, 3.57, 34.24319426208051, 23.309432664059635)"
      ]
     },
     "execution_count": 16,
     "metadata": {},
     "output_type": "execute_result"
    }
   ],
   "source": [
    "df[\"precio\"].max(), df[\"precio\"].min(), df[\"precio\"].mean(), df[\"precio\"].std()"
   ]
  },
  {
   "cell_type": "markdown",
   "metadata": {},
   "source": [
    "* Atributo `dia_atipico`"
   ]
  },
  {
   "cell_type": "code",
   "execution_count": 17,
   "metadata": {},
   "outputs": [
    {
     "data": {
      "text/plain": [
       " 0    3505132\n",
       " 1     398688\n",
       "-1     141202\n",
       "Name: dia_atipico, dtype: int64"
      ]
     },
     "execution_count": 17,
     "metadata": {},
     "output_type": "execute_result"
    }
   ],
   "source": [
    "df[\"dia_atipico\"].value_counts()"
   ]
  },
  {
   "cell_type": "markdown",
   "metadata": {},
   "source": [
    "* Atributo `campaña`"
   ]
  },
  {
   "cell_type": "code",
   "execution_count": 18,
   "metadata": {
    "scrolled": true
   },
   "outputs": [
    {
     "data": {
      "text/plain": [
       "0    4033689\n",
       "1      11333\n",
       "Name: campaña, dtype: int64"
      ]
     },
     "execution_count": 18,
     "metadata": {},
     "output_type": "execute_result"
    }
   ],
   "source": [
    "df[\"campaña\"].value_counts()"
   ]
  },
  {
   "cell_type": "markdown",
   "metadata": {},
   "source": [
    " "
   ]
  },
  {
   "cell_type": "code",
   "execution_count": 19,
   "metadata": {},
   "outputs": [
    {
     "data": {
      "text/html": [
       "<div>\n",
       "<style scoped>\n",
       "    .dataframe tbody tr th:only-of-type {\n",
       "        vertical-align: middle;\n",
       "    }\n",
       "\n",
       "    .dataframe tbody tr th {\n",
       "        vertical-align: top;\n",
       "    }\n",
       "\n",
       "    .dataframe thead th {\n",
       "        text-align: right;\n",
       "    }\n",
       "</style>\n",
       "<table border=\"1\" class=\"dataframe\">\n",
       "  <thead>\n",
       "    <tr style=\"text-align: right;\">\n",
       "      <th></th>\n",
       "      <th>id</th>\n",
       "      <th>visitas</th>\n",
       "      <th>categoria_dos</th>\n",
       "      <th>precio</th>\n",
       "      <th>dia_atipico</th>\n",
       "      <th>campaña</th>\n",
       "      <th>antiguedad</th>\n",
       "      <th>unidades_vendidas</th>\n",
       "    </tr>\n",
       "  </thead>\n",
       "  <tbody>\n",
       "    <tr>\n",
       "      <th>count</th>\n",
       "      <td>4.045022e+06</td>\n",
       "      <td>4.045022e+06</td>\n",
       "      <td>4.039178e+06</td>\n",
       "      <td>1.402111e+06</td>\n",
       "      <td>4.045022e+06</td>\n",
       "      <td>4.045022e+06</td>\n",
       "      <td>3.170857e+06</td>\n",
       "      <td>4.045022e+06</td>\n",
       "    </tr>\n",
       "    <tr>\n",
       "      <th>mean</th>\n",
       "      <td>2.745180e+05</td>\n",
       "      <td>1.721371e+02</td>\n",
       "      <td>2.016524e+02</td>\n",
       "      <td>3.424319e+01</td>\n",
       "      <td>6.365503e-02</td>\n",
       "      <td>2.801715e-03</td>\n",
       "      <td>1.011114e+03</td>\n",
       "      <td>4.693434e+00</td>\n",
       "    </tr>\n",
       "    <tr>\n",
       "      <th>std</th>\n",
       "      <td>8.336719e+04</td>\n",
       "      <td>6.889116e+02</td>\n",
       "      <td>1.179997e+02</td>\n",
       "      <td>2.330943e+01</td>\n",
       "      <td>3.597475e-01</td>\n",
       "      <td>5.285704e-02</td>\n",
       "      <td>7.162509e+02</td>\n",
       "      <td>2.237403e+01</td>\n",
       "    </tr>\n",
       "    <tr>\n",
       "      <th>min</th>\n",
       "      <td>2.197200e+04</td>\n",
       "      <td>0.000000e+00</td>\n",
       "      <td>2.000000e+00</td>\n",
       "      <td>3.570000e+00</td>\n",
       "      <td>-1.000000e+00</td>\n",
       "      <td>0.000000e+00</td>\n",
       "      <td>1.260000e+02</td>\n",
       "      <td>0.000000e+00</td>\n",
       "    </tr>\n",
       "    <tr>\n",
       "      <th>25%</th>\n",
       "      <td>2.122940e+05</td>\n",
       "      <td>7.000000e+00</td>\n",
       "      <td>8.200000e+01</td>\n",
       "      <td>1.652000e+01</td>\n",
       "      <td>0.000000e+00</td>\n",
       "      <td>0.000000e+00</td>\n",
       "      <td>5.240000e+02</td>\n",
       "      <td>0.000000e+00</td>\n",
       "    </tr>\n",
       "    <tr>\n",
       "      <th>50%</th>\n",
       "      <td>2.926720e+05</td>\n",
       "      <td>3.500000e+01</td>\n",
       "      <td>2.360000e+02</td>\n",
       "      <td>2.689000e+01</td>\n",
       "      <td>0.000000e+00</td>\n",
       "      <td>0.000000e+00</td>\n",
       "      <td>7.950000e+02</td>\n",
       "      <td>0.000000e+00</td>\n",
       "    </tr>\n",
       "    <tr>\n",
       "      <th>75%</th>\n",
       "      <td>3.379000e+05</td>\n",
       "      <td>1.300000e+02</td>\n",
       "      <td>3.070000e+02</td>\n",
       "      <td>4.535000e+01</td>\n",
       "      <td>0.000000e+00</td>\n",
       "      <td>0.000000e+00</td>\n",
       "      <td>1.244000e+03</td>\n",
       "      <td>3.000000e+00</td>\n",
       "    </tr>\n",
       "    <tr>\n",
       "      <th>max</th>\n",
       "      <td>4.586600e+05</td>\n",
       "      <td>1.200450e+05</td>\n",
       "      <td>3.430000e+02</td>\n",
       "      <td>1.757800e+02</td>\n",
       "      <td>1.000000e+00</td>\n",
       "      <td>1.000000e+00</td>\n",
       "      <td>5.310000e+03</td>\n",
       "      <td>4.881000e+03</td>\n",
       "    </tr>\n",
       "  </tbody>\n",
       "</table>\n",
       "</div>"
      ],
      "text/plain": [
       "                 id       visitas  categoria_dos        precio   dia_atipico  \\\n",
       "count  4.045022e+06  4.045022e+06   4.039178e+06  1.402111e+06  4.045022e+06   \n",
       "mean   2.745180e+05  1.721371e+02   2.016524e+02  3.424319e+01  6.365503e-02   \n",
       "std    8.336719e+04  6.889116e+02   1.179997e+02  2.330943e+01  3.597475e-01   \n",
       "min    2.197200e+04  0.000000e+00   2.000000e+00  3.570000e+00 -1.000000e+00   \n",
       "25%    2.122940e+05  7.000000e+00   8.200000e+01  1.652000e+01  0.000000e+00   \n",
       "50%    2.926720e+05  3.500000e+01   2.360000e+02  2.689000e+01  0.000000e+00   \n",
       "75%    3.379000e+05  1.300000e+02   3.070000e+02  4.535000e+01  0.000000e+00   \n",
       "max    4.586600e+05  1.200450e+05   3.430000e+02  1.757800e+02  1.000000e+00   \n",
       "\n",
       "            campaña    antiguedad  unidades_vendidas  \n",
       "count  4.045022e+06  3.170857e+06       4.045022e+06  \n",
       "mean   2.801715e-03  1.011114e+03       4.693434e+00  \n",
       "std    5.285704e-02  7.162509e+02       2.237403e+01  \n",
       "min    0.000000e+00  1.260000e+02       0.000000e+00  \n",
       "25%    0.000000e+00  5.240000e+02       0.000000e+00  \n",
       "50%    0.000000e+00  7.950000e+02       0.000000e+00  \n",
       "75%    0.000000e+00  1.244000e+03       3.000000e+00  \n",
       "max    1.000000e+00  5.310000e+03       4.881000e+03  "
      ]
     },
     "execution_count": 19,
     "metadata": {},
     "output_type": "execute_result"
    }
   ],
   "source": [
    "df.describe(include=['int64', 'float64', 'object'])"
   ]
  },
  {
   "cell_type": "code",
   "execution_count": 20,
   "metadata": {
    "scrolled": false
   },
   "outputs": [
    {
     "data": {
      "image/png": "[encoded data removed]",
      "text/plain": [
       "<Figure size 1440x1440 with 9 Axes>"
      ]
     },
     "metadata": {
      "needs_background": "light"
     },
     "output_type": "display_data"
    }
   ],
   "source": [
    "df.hist(bins=30, figsize=(20,20))\n",
    "plt.show()"
   ]
  },
  {
   "cell_type": "markdown",
   "metadata": {},
   "source": [
    " "
   ]
  },
  {
   "cell_type": "markdown",
   "metadata": {},
   "source": [
    "## 2. Preprocesamiento de Datos"
   ]
  },
  {
   "cell_type": "markdown",
   "metadata": {},
   "source": [
    "### Duplicados"
   ]
  },
  {
   "cell_type": "markdown",
   "metadata": {},
   "source": [
    "**¿Puede haber varias entradas de un mismo id en un mismo día?**"
   ]
  },
  {
   "cell_type": "code",
   "execution_count": 21,
   "metadata": {},
   "outputs": [],
   "source": [
    "df2 = df.groupby(['fecha', 'id'])"
   ]
  },
  {
   "cell_type": "code",
   "execution_count": 22,
   "metadata": {},
   "outputs": [
    {
     "data": {
      "text/plain": [
       "fecha       id    \n",
       "2015-06-01  21972     1\n",
       "            23910     1\n",
       "            24306     2\n",
       "            27144     1\n",
       "            27504     1\n",
       "                     ..\n",
       "2016-09-30  456982    1\n",
       "            457416    1\n",
       "            457422    1\n",
       "            458650    1\n",
       "            458660    2\n",
       "Length: 2029816, dtype: int64"
      ]
     },
     "execution_count": 22,
     "metadata": {},
     "output_type": "execute_result"
    }
   ],
   "source": [
    "df2.size()"
   ]
  },
  {
   "cell_type": "markdown",
   "metadata": {},
   "source": [
    "Por ejemplo `id` = 24306 para `fecha` = 2015-06-01"
   ]
  },
  {
   "cell_type": "code",
   "execution_count": 23,
   "metadata": {},
   "outputs": [
    {
     "data": {
      "text/html": [
       "<div>\n",
       "<style scoped>\n",
       "    .dataframe tbody tr th:only-of-type {\n",
       "        vertical-align: middle;\n",
       "    }\n",
       "\n",
       "    .dataframe tbody tr th {\n",
       "        vertical-align: top;\n",
       "    }\n",
       "\n",
       "    .dataframe thead th {\n",
       "        text-align: right;\n",
       "    }\n",
       "</style>\n",
       "<table border=\"1\" class=\"dataframe\">\n",
       "  <thead>\n",
       "    <tr style=\"text-align: right;\">\n",
       "      <th></th>\n",
       "      <th>fecha</th>\n",
       "      <th>id</th>\n",
       "      <th>visitas</th>\n",
       "      <th>categoria_uno</th>\n",
       "      <th>categoria_dos</th>\n",
       "      <th>estado</th>\n",
       "      <th>precio</th>\n",
       "      <th>dia_atipico</th>\n",
       "      <th>campaña</th>\n",
       "      <th>antiguedad</th>\n",
       "      <th>unidades_vendidas</th>\n",
       "    </tr>\n",
       "  </thead>\n",
       "  <tbody>\n",
       "    <tr>\n",
       "      <th>2</th>\n",
       "      <td>2015-06-01</td>\n",
       "      <td>24306</td>\n",
       "      <td>13</td>\n",
       "      <td>A</td>\n",
       "      <td>46.0</td>\n",
       "      <td>No Rotura</td>\n",
       "      <td>NaN</td>\n",
       "      <td>0</td>\n",
       "      <td>0</td>\n",
       "      <td>NaN</td>\n",
       "      <td>0</td>\n",
       "    </tr>\n",
       "    <tr>\n",
       "      <th>3</th>\n",
       "      <td>2015-06-01</td>\n",
       "      <td>24306</td>\n",
       "      <td>13</td>\n",
       "      <td>A</td>\n",
       "      <td>46.0</td>\n",
       "      <td>No Rotura</td>\n",
       "      <td>NaN</td>\n",
       "      <td>0</td>\n",
       "      <td>0</td>\n",
       "      <td>NaN</td>\n",
       "      <td>0</td>\n",
       "    </tr>\n",
       "  </tbody>\n",
       "</table>\n",
       "</div>"
      ],
      "text/plain": [
       "       fecha     id  visitas categoria_uno  categoria_dos     estado  precio  \\\n",
       "2 2015-06-01  24306       13             A           46.0  No Rotura     NaN   \n",
       "3 2015-06-01  24306       13             A           46.0  No Rotura     NaN   \n",
       "\n",
       "   dia_atipico  campaña  antiguedad  unidades_vendidas  \n",
       "2            0        0         NaN                  0  \n",
       "3            0        0         NaN                  0  "
      ]
     },
     "execution_count": 23,
     "metadata": {},
     "output_type": "execute_result"
    }
   ],
   "source": [
    "df.loc[(df.fecha==\"2015-06-01\") & (df.id==24306)]"
   ]
  },
  {
   "cell_type": "code",
   "execution_count": 24,
   "metadata": {},
   "outputs": [
    {
     "data": {
      "text/plain": [
       "677904"
      ]
     },
     "execution_count": 24,
     "metadata": {},
     "output_type": "execute_result"
    }
   ],
   "source": [
    "sum(list(df2.size() > 1))"
   ]
  },
  {
   "cell_type": "code",
   "execution_count": 25,
   "metadata": {
    "scrolled": true
   },
   "outputs": [
    {
     "data": {
      "text/plain": [
       "2004985"
      ]
     },
     "execution_count": 25,
     "metadata": {},
     "output_type": "execute_result"
    }
   ],
   "source": [
    "len(df[df.duplicated()])"
   ]
  },
  {
   "cell_type": "markdown",
   "metadata": {},
   "source": [
    "Hay filas repetidas en el dataset. En concreto **677904 casos**, haciendo un total de **2004985 filas**.\n",
    "\n",
    "Se procede a eliminar los casos duplicados."
   ]
  },
  {
   "cell_type": "code",
   "execution_count": 26,
   "metadata": {},
   "outputs": [
    {
     "name": "stdout",
     "output_type": "stream",
     "text": [
      "Número de filas tras eliminar duplicados:  2040037\n"
     ]
    }
   ],
   "source": [
    "df_duplicates_removed = df.drop_duplicates(keep=\"first\")\n",
    "print(\"Número de filas tras eliminar duplicados: \", len(df_duplicates_removed))"
   ]
  },
  {
   "cell_type": "markdown",
   "metadata": {},
   "source": [
    "### Missing values"
   ]
  },
  {
   "cell_type": "markdown",
   "metadata": {},
   "source": [
    "Comprobamos qué categorías tienen valores `null`."
   ]
  },
  {
   "cell_type": "code",
   "execution_count": 27,
   "metadata": {},
   "outputs": [
    {
     "data": {
      "text/plain": [
       "fecha                False\n",
       "id                   False\n",
       "visitas              False\n",
       "categoria_uno        False\n",
       "categoria_dos         True\n",
       "estado               False\n",
       "precio                True\n",
       "dia_atipico          False\n",
       "campaña              False\n",
       "antiguedad            True\n",
       "unidades_vendidas    False\n",
       "dtype: bool"
      ]
     },
     "execution_count": 27,
     "metadata": {},
     "output_type": "execute_result"
    }
   ],
   "source": [
    "df_duplicates_removed.isnull().any()"
   ]
  },
  {
   "cell_type": "code",
   "execution_count": 28,
   "metadata": {
    "scrolled": true
   },
   "outputs": [
    {
     "name": "stdout",
     "output_type": "stream",
     "text": [
      "Porcentaje (%) de valores null: \n"
     ]
    },
    {
     "data": {
      "text/plain": [
       "fecha                 0.000000\n",
       "id                    0.000000\n",
       "visitas               0.000000\n",
       "categoria_uno         0.000000\n",
       "categoria_dos         0.215339\n",
       "estado                0.000000\n",
       "precio               68.620618\n",
       "dia_atipico           0.000000\n",
       "campaña               0.000000\n",
       "antiguedad           23.568935\n",
       "unidades_vendidas     0.000000\n",
       "dtype: float64"
      ]
     },
     "execution_count": 28,
     "metadata": {},
     "output_type": "execute_result"
    }
   ],
   "source": [
    "print(\"Porcentaje (%) de valores null: \")\n",
    "100 * df_duplicates_removed.isnull().sum() / len(df_duplicates_removed)"
   ]
  },
  {
   "cell_type": "markdown",
   "metadata": {},
   "source": [
    "Los atributos `categoria_dos`, `precio` y `antiguedad` tienen *missing values*. En la información del dataset nos dicen que para `precio` hay que completarlo con el valor de la fecha anterior más cercana. De los demás no dice nada. "
   ]
  },
  {
   "cell_type": "code",
   "execution_count": 29,
   "metadata": {},
   "outputs": [],
   "source": [
    "df_updated_prices = df_duplicates_removed.copy()"
   ]
  },
  {
   "cell_type": "code",
   "execution_count": 30,
   "metadata": {},
   "outputs": [],
   "source": [
    "df_updated_prices['precio'] = df_duplicates_removed.groupby(['id'])['precio'].ffill()"
   ]
  },
  {
   "cell_type": "code",
   "execution_count": 31,
   "metadata": {
    "scrolled": true
   },
   "outputs": [
    {
     "data": {
      "text/html": [
       "<div>\n",
       "<style scoped>\n",
       "    .dataframe tbody tr th:only-of-type {\n",
       "        vertical-align: middle;\n",
       "    }\n",
       "\n",
       "    .dataframe tbody tr th {\n",
       "        vertical-align: top;\n",
       "    }\n",
       "\n",
       "    .dataframe thead th {\n",
       "        text-align: right;\n",
       "    }\n",
       "</style>\n",
       "<table border=\"1\" class=\"dataframe\">\n",
       "  <thead>\n",
       "    <tr style=\"text-align: right;\">\n",
       "      <th></th>\n",
       "      <th>fecha</th>\n",
       "      <th>id</th>\n",
       "      <th>visitas</th>\n",
       "      <th>categoria_uno</th>\n",
       "      <th>categoria_dos</th>\n",
       "      <th>estado</th>\n",
       "      <th>precio</th>\n",
       "      <th>dia_atipico</th>\n",
       "      <th>campaña</th>\n",
       "      <th>antiguedad</th>\n",
       "      <th>unidades_vendidas</th>\n",
       "    </tr>\n",
       "  </thead>\n",
       "  <tbody>\n",
       "    <tr>\n",
       "      <th>0</th>\n",
       "      <td>2015-06-01</td>\n",
       "      <td>21972</td>\n",
       "      <td>0</td>\n",
       "      <td>C</td>\n",
       "      <td>75.0</td>\n",
       "      <td>No Rotura</td>\n",
       "      <td>NaN</td>\n",
       "      <td>0</td>\n",
       "      <td>0</td>\n",
       "      <td>5241.0</td>\n",
       "      <td>0</td>\n",
       "    </tr>\n",
       "    <tr>\n",
       "      <th>1</th>\n",
       "      <td>2015-06-01</td>\n",
       "      <td>23910</td>\n",
       "      <td>5</td>\n",
       "      <td>C</td>\n",
       "      <td>170.0</td>\n",
       "      <td>No Rotura</td>\n",
       "      <td>6.07</td>\n",
       "      <td>0</td>\n",
       "      <td>0</td>\n",
       "      <td>5241.0</td>\n",
       "      <td>3</td>\n",
       "    </tr>\n",
       "    <tr>\n",
       "      <th>2</th>\n",
       "      <td>2015-06-01</td>\n",
       "      <td>24306</td>\n",
       "      <td>13</td>\n",
       "      <td>A</td>\n",
       "      <td>46.0</td>\n",
       "      <td>No Rotura</td>\n",
       "      <td>NaN</td>\n",
       "      <td>0</td>\n",
       "      <td>0</td>\n",
       "      <td>NaN</td>\n",
       "      <td>0</td>\n",
       "    </tr>\n",
       "    <tr>\n",
       "      <th>4</th>\n",
       "      <td>2015-06-01</td>\n",
       "      <td>27144</td>\n",
       "      <td>15</td>\n",
       "      <td>E</td>\n",
       "      <td>230.0</td>\n",
       "      <td>No Rotura</td>\n",
       "      <td>NaN</td>\n",
       "      <td>0</td>\n",
       "      <td>0</td>\n",
       "      <td>4064.0</td>\n",
       "      <td>0</td>\n",
       "    </tr>\n",
       "    <tr>\n",
       "      <th>5</th>\n",
       "      <td>2015-06-01</td>\n",
       "      <td>27504</td>\n",
       "      <td>7</td>\n",
       "      <td>C</td>\n",
       "      <td>157.0</td>\n",
       "      <td>No Rotura</td>\n",
       "      <td>NaN</td>\n",
       "      <td>0</td>\n",
       "      <td>0</td>\n",
       "      <td>5261.0</td>\n",
       "      <td>0</td>\n",
       "    </tr>\n",
       "  </tbody>\n",
       "</table>\n",
       "</div>"
      ],
      "text/plain": [
       "       fecha     id  visitas categoria_uno  categoria_dos     estado  precio  \\\n",
       "0 2015-06-01  21972        0             C           75.0  No Rotura     NaN   \n",
       "1 2015-06-01  23910        5             C          170.0  No Rotura    6.07   \n",
       "2 2015-06-01  24306       13             A           46.0  No Rotura     NaN   \n",
       "4 2015-06-01  27144       15             E          230.0  No Rotura     NaN   \n",
       "5 2015-06-01  27504        7             C          157.0  No Rotura     NaN   \n",
       "\n",
       "   dia_atipico  campaña  antiguedad  unidades_vendidas  \n",
       "0            0        0      5241.0                  0  \n",
       "1            0        0      5241.0                  3  \n",
       "2            0        0         NaN                  0  \n",
       "4            0        0      4064.0                  0  \n",
       "5            0        0      5261.0                  0  "
      ]
     },
     "execution_count": 31,
     "metadata": {},
     "output_type": "execute_result"
    }
   ],
   "source": [
    "df_updated_prices.head()"
   ]
  },
  {
   "cell_type": "code",
   "execution_count": 32,
   "metadata": {
    "scrolled": true
   },
   "outputs": [
    {
     "data": {
      "text/plain": [
       "260447"
      ]
     },
     "execution_count": 32,
     "metadata": {},
     "output_type": "execute_result"
    }
   ],
   "source": [
    "df_updated_prices['precio'].isnull().sum()"
   ]
  },
  {
   "cell_type": "code",
   "execution_count": 33,
   "metadata": {},
   "outputs": [
    {
     "data": {
      "text/plain": [
       "5"
      ]
     },
     "execution_count": 33,
     "metadata": {},
     "output_type": "execute_result"
    }
   ],
   "source": [
    "len(df_updated_prices[(df_updated_prices['id'] == 21972) & (df_updated_prices['precio'].isnull())])"
   ]
  },
  {
   "cell_type": "code",
   "execution_count": 34,
   "metadata": {},
   "outputs": [
    {
     "data": {
      "text/html": [
       "<div>\n",
       "<style scoped>\n",
       "    .dataframe tbody tr th:only-of-type {\n",
       "        vertical-align: middle;\n",
       "    }\n",
       "\n",
       "    .dataframe tbody tr th {\n",
       "        vertical-align: top;\n",
       "    }\n",
       "\n",
       "    .dataframe thead th {\n",
       "        text-align: right;\n",
       "    }\n",
       "</style>\n",
       "<table border=\"1\" class=\"dataframe\">\n",
       "  <thead>\n",
       "    <tr style=\"text-align: right;\">\n",
       "      <th></th>\n",
       "      <th>fecha</th>\n",
       "      <th>id</th>\n",
       "      <th>visitas</th>\n",
       "      <th>categoria_uno</th>\n",
       "      <th>categoria_dos</th>\n",
       "      <th>estado</th>\n",
       "      <th>precio</th>\n",
       "      <th>dia_atipico</th>\n",
       "      <th>campaña</th>\n",
       "      <th>antiguedad</th>\n",
       "      <th>unidades_vendidas</th>\n",
       "    </tr>\n",
       "  </thead>\n",
       "  <tbody>\n",
       "    <tr>\n",
       "      <th>0</th>\n",
       "      <td>2015-06-01</td>\n",
       "      <td>21972</td>\n",
       "      <td>0</td>\n",
       "      <td>C</td>\n",
       "      <td>75.0</td>\n",
       "      <td>No Rotura</td>\n",
       "      <td>NaN</td>\n",
       "      <td>0</td>\n",
       "      <td>0</td>\n",
       "      <td>5241.0</td>\n",
       "      <td>0</td>\n",
       "    </tr>\n",
       "    <tr>\n",
       "      <th>8306</th>\n",
       "      <td>2015-06-02</td>\n",
       "      <td>21972</td>\n",
       "      <td>0</td>\n",
       "      <td>C</td>\n",
       "      <td>75.0</td>\n",
       "      <td>No Rotura</td>\n",
       "      <td>NaN</td>\n",
       "      <td>0</td>\n",
       "      <td>0</td>\n",
       "      <td>5241.0</td>\n",
       "      <td>0</td>\n",
       "    </tr>\n",
       "    <tr>\n",
       "      <th>16612</th>\n",
       "      <td>2015-06-03</td>\n",
       "      <td>21972</td>\n",
       "      <td>1</td>\n",
       "      <td>C</td>\n",
       "      <td>75.0</td>\n",
       "      <td>No Rotura</td>\n",
       "      <td>NaN</td>\n",
       "      <td>0</td>\n",
       "      <td>0</td>\n",
       "      <td>5241.0</td>\n",
       "      <td>0</td>\n",
       "    </tr>\n",
       "    <tr>\n",
       "      <th>24918</th>\n",
       "      <td>2015-06-04</td>\n",
       "      <td>21972</td>\n",
       "      <td>1</td>\n",
       "      <td>C</td>\n",
       "      <td>75.0</td>\n",
       "      <td>No Rotura</td>\n",
       "      <td>NaN</td>\n",
       "      <td>0</td>\n",
       "      <td>0</td>\n",
       "      <td>5241.0</td>\n",
       "      <td>0</td>\n",
       "    </tr>\n",
       "    <tr>\n",
       "      <th>33224</th>\n",
       "      <td>2015-06-05</td>\n",
       "      <td>21972</td>\n",
       "      <td>3</td>\n",
       "      <td>C</td>\n",
       "      <td>75.0</td>\n",
       "      <td>No Rotura</td>\n",
       "      <td>NaN</td>\n",
       "      <td>0</td>\n",
       "      <td>0</td>\n",
       "      <td>5241.0</td>\n",
       "      <td>0</td>\n",
       "    </tr>\n",
       "    <tr>\n",
       "      <th>41530</th>\n",
       "      <td>2015-06-06</td>\n",
       "      <td>21972</td>\n",
       "      <td>1</td>\n",
       "      <td>C</td>\n",
       "      <td>75.0</td>\n",
       "      <td>No Rotura</td>\n",
       "      <td>5.84</td>\n",
       "      <td>0</td>\n",
       "      <td>0</td>\n",
       "      <td>5241.0</td>\n",
       "      <td>3</td>\n",
       "    </tr>\n",
       "    <tr>\n",
       "      <th>49836</th>\n",
       "      <td>2015-06-07</td>\n",
       "      <td>21972</td>\n",
       "      <td>1</td>\n",
       "      <td>C</td>\n",
       "      <td>75.0</td>\n",
       "      <td>No Rotura</td>\n",
       "      <td>5.84</td>\n",
       "      <td>0</td>\n",
       "      <td>0</td>\n",
       "      <td>5241.0</td>\n",
       "      <td>0</td>\n",
       "    </tr>\n",
       "  </tbody>\n",
       "</table>\n",
       "</div>"
      ],
      "text/plain": [
       "           fecha     id  visitas categoria_uno  categoria_dos     estado  \\\n",
       "0     2015-06-01  21972        0             C           75.0  No Rotura   \n",
       "8306  2015-06-02  21972        0             C           75.0  No Rotura   \n",
       "16612 2015-06-03  21972        1             C           75.0  No Rotura   \n",
       "24918 2015-06-04  21972        1             C           75.0  No Rotura   \n",
       "33224 2015-06-05  21972        3             C           75.0  No Rotura   \n",
       "41530 2015-06-06  21972        1             C           75.0  No Rotura   \n",
       "49836 2015-06-07  21972        1             C           75.0  No Rotura   \n",
       "\n",
       "       precio  dia_atipico  campaña  antiguedad  unidades_vendidas  \n",
       "0         NaN            0        0      5241.0                  0  \n",
       "8306      NaN            0        0      5241.0                  0  \n",
       "16612     NaN            0        0      5241.0                  0  \n",
       "24918     NaN            0        0      5241.0                  0  \n",
       "33224     NaN            0        0      5241.0                  0  \n",
       "41530    5.84            0        0      5241.0                  3  \n",
       "49836    5.84            0        0      5241.0                  0  "
      ]
     },
     "execution_count": 34,
     "metadata": {},
     "output_type": "execute_result"
    }
   ],
   "source": [
    "df_updated_prices[(df_updated_prices['id'] == 21972)][:7]"
   ]
  },
  {
   "cell_type": "code",
   "execution_count": 35,
   "metadata": {
    "scrolled": false
   },
   "outputs": [
    {
     "data": {
      "text/plain": [
       "482"
      ]
     },
     "execution_count": 35,
     "metadata": {},
     "output_type": "execute_result"
    }
   ],
   "source": [
    "len(df_updated_prices[(df_updated_prices['id'] == 21972) & (df_updated_prices['precio'].notnull())])"
   ]
  },
  {
   "cell_type": "code",
   "execution_count": 36,
   "metadata": {},
   "outputs": [
    {
     "data": {
      "text/plain": [
       "487"
      ]
     },
     "execution_count": 36,
     "metadata": {},
     "output_type": "execute_result"
    }
   ],
   "source": [
    "len(df_updated_prices[(df_updated_prices['id'] == 21972)])"
   ]
  },
  {
   "cell_type": "markdown",
   "metadata": {},
   "source": [
    "Hay algunos valores con el precio nulo que no tienen valor anterior no-nulo más próximo como se muestra arriba.\n",
    "\n",
    "Para estos valores se rellenará con el precio más antiguo del que se tenga constancia."
   ]
  },
  {
   "cell_type": "code",
   "execution_count": 37,
   "metadata": {},
   "outputs": [],
   "source": [
    "df_fill_prices = df_updated_prices.copy()\n",
    "df_fill_prices['precio'] = df_updated_prices.sort_values(by=\"fecha\", ascending=False) \\\n",
    "                                .groupby(['id'])['precio'].ffill()"
   ]
  },
  {
   "cell_type": "markdown",
   "metadata": {},
   "source": [
    "La columna `antiguedad` puede descartarse ya que:\n",
    "* No hay forma de calcular los valores para los ejemplo que son null. \n",
    "* Para los ejemplos no null, el valor de `antiguedad` es fijo para el mismo producto independientemente de la fecha."
   ]
  },
  {
   "cell_type": "code",
   "execution_count": 38,
   "metadata": {},
   "outputs": [],
   "source": [
    "df_drop_antiguedad = df_fill_prices.drop([\"antiguedad\"], axis=1)"
   ]
  },
  {
   "cell_type": "code",
   "execution_count": 39,
   "metadata": {},
   "outputs": [
    {
     "data": {
      "text/html": [
       "<div>\n",
       "<style scoped>\n",
       "    .dataframe tbody tr th:only-of-type {\n",
       "        vertical-align: middle;\n",
       "    }\n",
       "\n",
       "    .dataframe tbody tr th {\n",
       "        vertical-align: top;\n",
       "    }\n",
       "\n",
       "    .dataframe thead th {\n",
       "        text-align: right;\n",
       "    }\n",
       "</style>\n",
       "<table border=\"1\" class=\"dataframe\">\n",
       "  <thead>\n",
       "    <tr style=\"text-align: right;\">\n",
       "      <th></th>\n",
       "      <th>fecha</th>\n",
       "      <th>id</th>\n",
       "      <th>visitas</th>\n",
       "      <th>categoria_uno</th>\n",
       "      <th>categoria_dos</th>\n",
       "      <th>estado</th>\n",
       "      <th>precio</th>\n",
       "      <th>dia_atipico</th>\n",
       "      <th>campaña</th>\n",
       "      <th>unidades_vendidas</th>\n",
       "    </tr>\n",
       "  </thead>\n",
       "  <tbody>\n",
       "    <tr>\n",
       "      <th>0</th>\n",
       "      <td>2015-06-01</td>\n",
       "      <td>21972</td>\n",
       "      <td>0</td>\n",
       "      <td>C</td>\n",
       "      <td>75.0</td>\n",
       "      <td>No Rotura</td>\n",
       "      <td>5.84</td>\n",
       "      <td>0</td>\n",
       "      <td>0</td>\n",
       "      <td>0</td>\n",
       "    </tr>\n",
       "    <tr>\n",
       "      <th>1</th>\n",
       "      <td>2015-06-01</td>\n",
       "      <td>23910</td>\n",
       "      <td>5</td>\n",
       "      <td>C</td>\n",
       "      <td>170.0</td>\n",
       "      <td>No Rotura</td>\n",
       "      <td>6.07</td>\n",
       "      <td>0</td>\n",
       "      <td>0</td>\n",
       "      <td>3</td>\n",
       "    </tr>\n",
       "    <tr>\n",
       "      <th>2</th>\n",
       "      <td>2015-06-01</td>\n",
       "      <td>24306</td>\n",
       "      <td>13</td>\n",
       "      <td>A</td>\n",
       "      <td>46.0</td>\n",
       "      <td>No Rotura</td>\n",
       "      <td>7.85</td>\n",
       "      <td>0</td>\n",
       "      <td>0</td>\n",
       "      <td>0</td>\n",
       "    </tr>\n",
       "    <tr>\n",
       "      <th>4</th>\n",
       "      <td>2015-06-01</td>\n",
       "      <td>27144</td>\n",
       "      <td>15</td>\n",
       "      <td>E</td>\n",
       "      <td>230.0</td>\n",
       "      <td>No Rotura</td>\n",
       "      <td>6.12</td>\n",
       "      <td>0</td>\n",
       "      <td>0</td>\n",
       "      <td>0</td>\n",
       "    </tr>\n",
       "    <tr>\n",
       "      <th>5</th>\n",
       "      <td>2015-06-01</td>\n",
       "      <td>27504</td>\n",
       "      <td>7</td>\n",
       "      <td>C</td>\n",
       "      <td>157.0</td>\n",
       "      <td>No Rotura</td>\n",
       "      <td>10.74</td>\n",
       "      <td>0</td>\n",
       "      <td>0</td>\n",
       "      <td>0</td>\n",
       "    </tr>\n",
       "  </tbody>\n",
       "</table>\n",
       "</div>"
      ],
      "text/plain": [
       "       fecha     id  visitas categoria_uno  categoria_dos     estado  precio  \\\n",
       "0 2015-06-01  21972        0             C           75.0  No Rotura    5.84   \n",
       "1 2015-06-01  23910        5             C          170.0  No Rotura    6.07   \n",
       "2 2015-06-01  24306       13             A           46.0  No Rotura    7.85   \n",
       "4 2015-06-01  27144       15             E          230.0  No Rotura    6.12   \n",
       "5 2015-06-01  27504        7             C          157.0  No Rotura   10.74   \n",
       "\n",
       "   dia_atipico  campaña  unidades_vendidas  \n",
       "0            0        0                  0  \n",
       "1            0        0                  3  \n",
       "2            0        0                  0  \n",
       "4            0        0                  0  \n",
       "5            0        0                  0  "
      ]
     },
     "execution_count": 39,
     "metadata": {},
     "output_type": "execute_result"
    }
   ],
   "source": [
    "df_drop_antiguedad.head()"
   ]
  },
  {
   "cell_type": "markdown",
   "metadata": {},
   "source": [
    "Para la columna `categoria_dos` hay pocos casos en los que el valor es null. Se comprobará si existe la opción de completar el campo con las filas con el mismo `id` que tengan un valor."
   ]
  },
  {
   "cell_type": "code",
   "execution_count": 40,
   "metadata": {},
   "outputs": [],
   "source": [
    "def check_categoria_dos(row):\n",
    "    aux_array = df_drop_antiguedad[(df_drop_antiguedad.id == row.id) & \\\n",
    "                              (df_drop_antiguedad[\"categoria_dos\"]).notnull()].categoria_dos\n",
    "    if len(aux_array) > 0:\n",
    "        print(new_value, row.categoria_dos)\n",
    "        "
   ]
  },
  {
   "cell_type": "code",
   "execution_count": 41,
   "metadata": {},
   "outputs": [],
   "source": [
    "index_no_cat2 = df_drop_antiguedad[\"categoria_dos\"].isnull()\n",
    "\n",
    "df_drop_antiguedad[index_no_cat2].apply(check_categoria_dos, axis=1);"
   ]
  },
  {
   "cell_type": "markdown",
   "metadata": {},
   "source": [
    "No existen productos que tengan un valor en `categoria_dos` para una fecha y ninguna para otra. Para todos los casos en los que `categoria_dos` es null, lo es para todas las filas con el mismo `id`.\n",
    "\n",
    "Se utilizará `IterativeImputer` para poder rellenar `categoria_dos` utilizando el resto de los atributos. Se hará tras la codificación de los atributos categóricos en el siguiente apartado."
   ]
  },
  {
   "cell_type": "markdown",
   "metadata": {},
   "source": [
    "Los atributos categóricos `categoria_uno`, `estado`, `dia_atipico` y `campaña` serán transformados a atributos numéricos para poder utilizar `IterativeImputer`."
   ]
  },
  {
   "cell_type": "code",
   "execution_count": 42,
   "metadata": {},
   "outputs": [
    {
     "name": "stderr",
     "output_type": "stream",
     "text": [
      "/home/jaime/.local/lib/python3.8/site-packages/sklearn/utils/validation.py:72: DataConversionWarning: A column-vector y was passed when a 1d array was expected. Please change the shape of y to (n_samples, ), for example using ravel().\n",
      "  return f(**kwargs)\n"
     ]
    }
   ],
   "source": [
    "from sklearn.preprocessing import LabelEncoder\n",
    "\n",
    "encoder = LabelEncoder()\n",
    "cat1_encoded = encoder.fit_transform(df_drop_antiguedad['categoria_uno'].to_numpy().reshape(-1,1)).ravel()\n",
    "estado_encoded = encoder.fit_transform(df_drop_antiguedad['estado'].to_numpy().reshape(-1,1)).ravel()"
   ]
  },
  {
   "cell_type": "code",
   "execution_count": 43,
   "metadata": {},
   "outputs": [],
   "source": [
    "df_encoded = df_drop_antiguedad.copy()\n",
    "\n",
    "df_encoded['categoria_uno'] = cat1_encoded\n",
    "df_encoded['estado'] = estado_encoded"
   ]
  },
  {
   "cell_type": "markdown",
   "metadata": {},
   "source": [
    "Ahora es posible rellenar el valor de `categoria_dos` utilizando `IterativeImputer`."
   ]
  },
  {
   "cell_type": "code",
   "execution_count": 44,
   "metadata": {},
   "outputs": [],
   "source": [
    "from sklearn.experimental import enable_iterative_imputer \n",
    "from sklearn.impute import IterativeImputer"
   ]
  },
  {
   "cell_type": "code",
   "execution_count": 45,
   "metadata": {},
   "outputs": [
    {
     "data": {
      "text/plain": [
       "IterativeImputer(random_state=0)"
      ]
     },
     "execution_count": 45,
     "metadata": {},
     "output_type": "execute_result"
    }
   ],
   "source": [
    "imputer = IterativeImputer(random_state=0)\n",
    "\n",
    "index_cat2 = df_encoded[\"categoria_dos\"].notnull()\n",
    "\n",
    "# Solo nos interesa rellenar \"categoria_dos\", \"precio\" no. \"fecha\" es utilizado por IterativeImputer\n",
    "imputer.fit(df_encoded[index_cat2].drop([\"fecha\", \"precio\"], axis=1).values) "
   ]
  },
  {
   "cell_type": "code",
   "execution_count": 46,
   "metadata": {},
   "outputs": [],
   "source": [
    "cat2_filled = imputer.transform(df_encoded[index_no_cat2].drop([\"fecha\", \"precio\"], axis=1).values)"
   ]
  },
  {
   "cell_type": "code",
   "execution_count": 47,
   "metadata": {
    "scrolled": true
   },
   "outputs": [],
   "source": [
    "df_clean = df_encoded.copy()\n",
    "\n",
    "index_aux = list(df_encoded.drop([\"fecha\", \"precio\"], axis=1).columns).index(\"categoria_dos\")\n",
    "df_clean.loc[index_no_cat2,[\"categoria_dos\"]] = cat2_filled[:, index_aux]"
   ]
  },
  {
   "cell_type": "markdown",
   "metadata": {},
   "source": [
    "### Relaciones entre atributos"
   ]
  },
  {
   "cell_type": "markdown",
   "metadata": {},
   "source": [
    "Cuando hay campaña no hay casi roturas en comparación con cuando no hay campaña, ya que se debe estar más preparado por si esto pueda ocurrir:"
   ]
  },
  {
   "cell_type": "code",
   "execution_count": 48,
   "metadata": {},
   "outputs": [
    {
     "data": {
      "text/plain": [
       "estado     campaña\n",
       "No Rotura  0          1691255\n",
       "           1             8819\n",
       "Rotura     0           313138\n",
       "           1               92\n",
       "Transito   0            26498\n",
       "           1              235\n",
       "dtype: int64"
      ]
     },
     "execution_count": 48,
     "metadata": {},
     "output_type": "execute_result"
    }
   ],
   "source": [
    "df_updated_prices.groupby(['estado', 'campaña']).size()"
   ]
  },
  {
   "cell_type": "markdown",
   "metadata": {},
   "source": [
    "Cuando hay campaña no hay días con menos demanda de la habitual, y no es un factor muy determinante para que haya más demanda de la habitual:"
   ]
  },
  {
   "cell_type": "code",
   "execution_count": 49,
   "metadata": {},
   "outputs": [
    {
     "data": {
      "text/plain": [
       "dia_atipico  campaña\n",
       "-1           0            70907\n",
       " 0           0          1760154\n",
       "             1              317\n",
       " 1           0           199830\n",
       "             1             8829\n",
       "dtype: int64"
      ]
     },
     "execution_count": 49,
     "metadata": {},
     "output_type": "execute_result"
    }
   ],
   "source": [
    "df_updated_prices.groupby(['dia_atipico', 'campaña']).size()"
   ]
  },
  {
   "cell_type": "markdown",
   "metadata": {},
   "source": [
    "A simple vista no hay una clara relación entre que haya stock del artículo y sea un día atípico:"
   ]
  },
  {
   "cell_type": "code",
   "execution_count": 50,
   "metadata": {
    "scrolled": false
   },
   "outputs": [
    {
     "data": {
      "text/plain": [
       "estado     dia_atipico\n",
       "No Rotura  -1               60780\n",
       "            0             1461621\n",
       "            1              177673\n",
       "Rotura     -1                9431\n",
       "            0              277074\n",
       "            1               26725\n",
       "Transito   -1                 696\n",
       "            0               21776\n",
       "            1                4261\n",
       "dtype: int64"
      ]
     },
     "execution_count": 50,
     "metadata": {},
     "output_type": "execute_result"
    }
   ],
   "source": [
    "df_updated_prices.groupby(['estado', 'dia_atipico']).size()"
   ]
  },
  {
   "cell_type": "code",
   "execution_count": 51,
   "metadata": {},
   "outputs": [],
   "source": [
    "categorias_grouped = df_updated_prices.groupby(['categoria_uno'])"
   ]
  },
  {
   "cell_type": "code",
   "execution_count": 52,
   "metadata": {},
   "outputs": [
    {
     "data": {
      "text/html": [
       "<div>\n",
       "<style scoped>\n",
       "    .dataframe tbody tr th:only-of-type {\n",
       "        vertical-align: middle;\n",
       "    }\n",
       "\n",
       "    .dataframe tbody tr th {\n",
       "        vertical-align: top;\n",
       "    }\n",
       "\n",
       "    .dataframe thead tr th {\n",
       "        text-align: left;\n",
       "    }\n",
       "\n",
       "    .dataframe thead tr:last-of-type th {\n",
       "        text-align: right;\n",
       "    }\n",
       "</style>\n",
       "<table border=\"1\" class=\"dataframe\">\n",
       "  <thead>\n",
       "    <tr>\n",
       "      <th></th>\n",
       "      <th colspan=\"2\" halign=\"left\">visitas</th>\n",
       "      <th colspan=\"2\" halign=\"left\">precio</th>\n",
       "      <th colspan=\"2\" halign=\"left\">unidades_vendidas</th>\n",
       "    </tr>\n",
       "    <tr>\n",
       "      <th></th>\n",
       "      <th>sum</th>\n",
       "      <th>mean</th>\n",
       "      <th>mean</th>\n",
       "      <th>var</th>\n",
       "      <th>sum</th>\n",
       "      <th>mean</th>\n",
       "    </tr>\n",
       "    <tr>\n",
       "      <th>categoria_uno</th>\n",
       "      <th></th>\n",
       "      <th></th>\n",
       "      <th></th>\n",
       "      <th></th>\n",
       "      <th></th>\n",
       "      <th></th>\n",
       "    </tr>\n",
       "  </thead>\n",
       "  <tbody>\n",
       "    <tr>\n",
       "      <th>A</th>\n",
       "      <td>81131445</td>\n",
       "      <td>119.339379</td>\n",
       "      <td>28.263037</td>\n",
       "      <td>243.366228</td>\n",
       "      <td>2997753</td>\n",
       "      <td>4.409511</td>\n",
       "    </tr>\n",
       "    <tr>\n",
       "      <th>F</th>\n",
       "      <td>58164202</td>\n",
       "      <td>207.376013</td>\n",
       "      <td>63.173215</td>\n",
       "      <td>1103.729258</td>\n",
       "      <td>698949</td>\n",
       "      <td>2.492001</td>\n",
       "    </tr>\n",
       "    <tr>\n",
       "      <th>K</th>\n",
       "      <td>44662005</td>\n",
       "      <td>139.166921</td>\n",
       "      <td>36.330386</td>\n",
       "      <td>709.895463</td>\n",
       "      <td>1203780</td>\n",
       "      <td>3.750982</td>\n",
       "    </tr>\n",
       "    <tr>\n",
       "      <th>H</th>\n",
       "      <td>37514821</td>\n",
       "      <td>187.856830</td>\n",
       "      <td>52.954243</td>\n",
       "      <td>939.734164</td>\n",
       "      <td>727728</td>\n",
       "      <td>3.644124</td>\n",
       "    </tr>\n",
       "    <tr>\n",
       "      <th>E</th>\n",
       "      <td>13493911</td>\n",
       "      <td>83.806865</td>\n",
       "      <td>26.180268</td>\n",
       "      <td>262.021818</td>\n",
       "      <td>455445</td>\n",
       "      <td>2.828640</td>\n",
       "    </tr>\n",
       "    <tr>\n",
       "      <th>G</th>\n",
       "      <td>5756218</td>\n",
       "      <td>68.111250</td>\n",
       "      <td>22.775422</td>\n",
       "      <td>87.308980</td>\n",
       "      <td>296127</td>\n",
       "      <td>3.503964</td>\n",
       "    </tr>\n",
       "    <tr>\n",
       "      <th>L</th>\n",
       "      <td>4686432</td>\n",
       "      <td>87.963511</td>\n",
       "      <td>32.803443</td>\n",
       "      <td>323.197828</td>\n",
       "      <td>156666</td>\n",
       "      <td>2.940594</td>\n",
       "    </tr>\n",
       "    <tr>\n",
       "      <th>C</th>\n",
       "      <td>3417910</td>\n",
       "      <td>20.882935</td>\n",
       "      <td>9.747325</td>\n",
       "      <td>17.533307</td>\n",
       "      <td>780309</td>\n",
       "      <td>4.767575</td>\n",
       "    </tr>\n",
       "    <tr>\n",
       "      <th>I</th>\n",
       "      <td>2510580</td>\n",
       "      <td>68.467874</td>\n",
       "      <td>30.970910</td>\n",
       "      <td>280.224712</td>\n",
       "      <td>72783</td>\n",
       "      <td>1.984919</td>\n",
       "    </tr>\n",
       "    <tr>\n",
       "      <th>O</th>\n",
       "      <td>1661594</td>\n",
       "      <td>485.278621</td>\n",
       "      <td>51.841973</td>\n",
       "      <td>243.718873</td>\n",
       "      <td>17151</td>\n",
       "      <td>5.009054</td>\n",
       "    </tr>\n",
       "    <tr>\n",
       "      <th>B</th>\n",
       "      <td>547093</td>\n",
       "      <td>10.589853</td>\n",
       "      <td>16.017399</td>\n",
       "      <td>29.465366</td>\n",
       "      <td>121737</td>\n",
       "      <td>2.356413</td>\n",
       "    </tr>\n",
       "    <tr>\n",
       "      <th>N</th>\n",
       "      <td>295894</td>\n",
       "      <td>67.447914</td>\n",
       "      <td>18.235093</td>\n",
       "      <td>13.793831</td>\n",
       "      <td>7797</td>\n",
       "      <td>1.777297</td>\n",
       "    </tr>\n",
       "    <tr>\n",
       "      <th>D</th>\n",
       "      <td>9695</td>\n",
       "      <td>19.907598</td>\n",
       "      <td>14.941250</td>\n",
       "      <td>0.552172</td>\n",
       "      <td>1008</td>\n",
       "      <td>2.069815</td>\n",
       "    </tr>\n",
       "  </tbody>\n",
       "</table>\n",
       "</div>"
      ],
      "text/plain": [
       "                visitas                 precio              unidades_vendidas  \\\n",
       "                    sum        mean       mean          var               sum   \n",
       "categoria_uno                                                                   \n",
       "A              81131445  119.339379  28.263037   243.366228           2997753   \n",
       "F              58164202  207.376013  63.173215  1103.729258            698949   \n",
       "K              44662005  139.166921  36.330386   709.895463           1203780   \n",
       "H              37514821  187.856830  52.954243   939.734164            727728   \n",
       "E              13493911   83.806865  26.180268   262.021818            455445   \n",
       "G               5756218   68.111250  22.775422    87.308980            296127   \n",
       "L               4686432   87.963511  32.803443   323.197828            156666   \n",
       "C               3417910   20.882935   9.747325    17.533307            780309   \n",
       "I               2510580   68.467874  30.970910   280.224712             72783   \n",
       "O               1661594  485.278621  51.841973   243.718873             17151   \n",
       "B                547093   10.589853  16.017399    29.465366            121737   \n",
       "N                295894   67.447914  18.235093    13.793831              7797   \n",
       "D                  9695   19.907598  14.941250     0.552172              1008   \n",
       "\n",
       "                         \n",
       "                   mean  \n",
       "categoria_uno            \n",
       "A              4.409511  \n",
       "F              2.492001  \n",
       "K              3.750982  \n",
       "H              3.644124  \n",
       "E              2.828640  \n",
       "G              3.503964  \n",
       "L              2.940594  \n",
       "C              4.767575  \n",
       "I              1.984919  \n",
       "O              5.009054  \n",
       "B              2.356413  \n",
       "N              1.777297  \n",
       "D              2.069815  "
      ]
     },
     "execution_count": 52,
     "metadata": {},
     "output_type": "execute_result"
    }
   ],
   "source": [
    "categorias_grouped.agg(\n",
    "    {\"visitas\" : [\"sum\", \"mean\"],\n",
    "     \"precio\" : [\"mean\", \"var\"],\n",
    "     \"unidades_vendidas\" : [\"sum\", \"mean\"]\n",
    "     }).sort_values(by=('visitas', 'sum'), ascending=False)"
   ]
  },
  {
   "cell_type": "code",
   "execution_count": 53,
   "metadata": {},
   "outputs": [
    {
     "data": {
      "text/html": [
       "<div>\n",
       "<style scoped>\n",
       "    .dataframe tbody tr th:only-of-type {\n",
       "        vertical-align: middle;\n",
       "    }\n",
       "\n",
       "    .dataframe tbody tr th {\n",
       "        vertical-align: top;\n",
       "    }\n",
       "\n",
       "    .dataframe thead tr th {\n",
       "        text-align: left;\n",
       "    }\n",
       "\n",
       "    .dataframe thead tr:last-of-type th {\n",
       "        text-align: right;\n",
       "    }\n",
       "</style>\n",
       "<table border=\"1\" class=\"dataframe\">\n",
       "  <thead>\n",
       "    <tr>\n",
       "      <th></th>\n",
       "      <th colspan=\"3\" halign=\"left\">categoria_dos</th>\n",
       "    </tr>\n",
       "    <tr>\n",
       "      <th></th>\n",
       "      <th>mean</th>\n",
       "      <th>min</th>\n",
       "      <th>max</th>\n",
       "    </tr>\n",
       "    <tr>\n",
       "      <th>categoria_uno</th>\n",
       "      <th></th>\n",
       "      <th></th>\n",
       "      <th></th>\n",
       "    </tr>\n",
       "  </thead>\n",
       "  <tbody>\n",
       "    <tr>\n",
       "      <th>A</th>\n",
       "      <td>152.834884</td>\n",
       "      <td>16.0</td>\n",
       "      <td>343.0</td>\n",
       "    </tr>\n",
       "    <tr>\n",
       "      <th>B</th>\n",
       "      <td>269.719697</td>\n",
       "      <td>57.0</td>\n",
       "      <td>312.0</td>\n",
       "    </tr>\n",
       "    <tr>\n",
       "      <th>C</th>\n",
       "      <td>119.101668</td>\n",
       "      <td>63.0</td>\n",
       "      <td>170.0</td>\n",
       "    </tr>\n",
       "    <tr>\n",
       "      <th>D</th>\n",
       "      <td>264.000000</td>\n",
       "      <td>264.0</td>\n",
       "      <td>264.0</td>\n",
       "    </tr>\n",
       "    <tr>\n",
       "      <th>E</th>\n",
       "      <td>168.957827</td>\n",
       "      <td>10.0</td>\n",
       "      <td>323.0</td>\n",
       "    </tr>\n",
       "    <tr>\n",
       "      <th>F</th>\n",
       "      <td>266.847121</td>\n",
       "      <td>20.0</td>\n",
       "      <td>341.0</td>\n",
       "    </tr>\n",
       "    <tr>\n",
       "      <th>G</th>\n",
       "      <td>158.099761</td>\n",
       "      <td>29.0</td>\n",
       "      <td>298.0</td>\n",
       "    </tr>\n",
       "    <tr>\n",
       "      <th>H</th>\n",
       "      <td>251.840557</td>\n",
       "      <td>2.0</td>\n",
       "      <td>326.0</td>\n",
       "    </tr>\n",
       "    <tr>\n",
       "      <th>I</th>\n",
       "      <td>169.016581</td>\n",
       "      <td>5.0</td>\n",
       "      <td>331.0</td>\n",
       "    </tr>\n",
       "    <tr>\n",
       "      <th>K</th>\n",
       "      <td>196.194224</td>\n",
       "      <td>7.0</td>\n",
       "      <td>340.0</td>\n",
       "    </tr>\n",
       "    <tr>\n",
       "      <th>L</th>\n",
       "      <td>226.985923</td>\n",
       "      <td>14.0</td>\n",
       "      <td>296.0</td>\n",
       "    </tr>\n",
       "    <tr>\n",
       "      <th>N</th>\n",
       "      <td>188.748119</td>\n",
       "      <td>116.0</td>\n",
       "      <td>278.0</td>\n",
       "    </tr>\n",
       "    <tr>\n",
       "      <th>O</th>\n",
       "      <td>226.000000</td>\n",
       "      <td>226.0</td>\n",
       "      <td>226.0</td>\n",
       "    </tr>\n",
       "  </tbody>\n",
       "</table>\n",
       "</div>"
      ],
      "text/plain": [
       "              categoria_dos              \n",
       "                       mean    min    max\n",
       "categoria_uno                            \n",
       "A                152.834884   16.0  343.0\n",
       "B                269.719697   57.0  312.0\n",
       "C                119.101668   63.0  170.0\n",
       "D                264.000000  264.0  264.0\n",
       "E                168.957827   10.0  323.0\n",
       "F                266.847121   20.0  341.0\n",
       "G                158.099761   29.0  298.0\n",
       "H                251.840557    2.0  326.0\n",
       "I                169.016581    5.0  331.0\n",
       "K                196.194224    7.0  340.0\n",
       "L                226.985923   14.0  296.0\n",
       "N                188.748119  116.0  278.0\n",
       "O                226.000000  226.0  226.0"
      ]
     },
     "execution_count": 53,
     "metadata": {},
     "output_type": "execute_result"
    }
   ],
   "source": [
    "categorias_grouped.agg({\"categoria_dos\" : [\"mean\", \"min\", \"max\"],})"
   ]
  },
  {
   "cell_type": "markdown",
   "metadata": {},
   "source": [
    "Cuando hay campaña se venden muchos más artículos:"
   ]
  },
  {
   "cell_type": "code",
   "execution_count": 54,
   "metadata": {
    "scrolled": true
   },
   "outputs": [
    {
     "data": {
      "text/html": [
       "<div>\n",
       "<style scoped>\n",
       "    .dataframe tbody tr th:only-of-type {\n",
       "        vertical-align: middle;\n",
       "    }\n",
       "\n",
       "    .dataframe tbody tr th {\n",
       "        vertical-align: top;\n",
       "    }\n",
       "\n",
       "    .dataframe thead tr th {\n",
       "        text-align: left;\n",
       "    }\n",
       "\n",
       "    .dataframe thead tr:last-of-type th {\n",
       "        text-align: right;\n",
       "    }\n",
       "</style>\n",
       "<table border=\"1\" class=\"dataframe\">\n",
       "  <thead>\n",
       "    <tr>\n",
       "      <th></th>\n",
       "      <th></th>\n",
       "      <th colspan=\"2\" halign=\"left\">unidades_vendidas</th>\n",
       "    </tr>\n",
       "    <tr>\n",
       "      <th></th>\n",
       "      <th></th>\n",
       "      <th>mean</th>\n",
       "      <th>var</th>\n",
       "    </tr>\n",
       "    <tr>\n",
       "      <th>categoria_uno</th>\n",
       "      <th>campaña</th>\n",
       "      <th></th>\n",
       "      <th></th>\n",
       "    </tr>\n",
       "  </thead>\n",
       "  <tbody>\n",
       "    <tr>\n",
       "      <th rowspan=\"2\" valign=\"top\">A</th>\n",
       "      <th>0</th>\n",
       "      <td>4.101826</td>\n",
       "      <td>327.119103</td>\n",
       "    </tr>\n",
       "    <tr>\n",
       "      <th>1</th>\n",
       "      <td>56.304467</td>\n",
       "      <td>18828.547317</td>\n",
       "    </tr>\n",
       "    <tr>\n",
       "      <th rowspan=\"2\" valign=\"top\">B</th>\n",
       "      <th>0</th>\n",
       "      <td>2.336963</td>\n",
       "      <td>32.795300</td>\n",
       "    </tr>\n",
       "    <tr>\n",
       "      <th>1</th>\n",
       "      <td>24.666667</td>\n",
       "      <td>1575.772727</td>\n",
       "    </tr>\n",
       "    <tr>\n",
       "      <th rowspan=\"2\" valign=\"top\">C</th>\n",
       "      <th>0</th>\n",
       "      <td>4.763017</td>\n",
       "      <td>402.513657</td>\n",
       "    </tr>\n",
       "    <tr>\n",
       "      <th>1</th>\n",
       "      <td>24.394737</td>\n",
       "      <td>580.461593</td>\n",
       "    </tr>\n",
       "    <tr>\n",
       "      <th rowspan=\"2\" valign=\"top\">D</th>\n",
       "      <th>0</th>\n",
       "      <td>2.069815</td>\n",
       "      <td>42.484828</td>\n",
       "    </tr>\n",
       "    <tr>\n",
       "      <th>1</th>\n",
       "      <td>NaN</td>\n",
       "      <td>NaN</td>\n",
       "    </tr>\n",
       "    <tr>\n",
       "      <th rowspan=\"2\" valign=\"top\">E</th>\n",
       "      <th>0</th>\n",
       "      <td>2.615365</td>\n",
       "      <td>314.998913</td>\n",
       "    </tr>\n",
       "    <tr>\n",
       "      <th>1</th>\n",
       "      <td>44.698529</td>\n",
       "      <td>11976.335998</td>\n",
       "    </tr>\n",
       "    <tr>\n",
       "      <th rowspan=\"2\" valign=\"top\">F</th>\n",
       "      <th>0</th>\n",
       "      <td>2.253366</td>\n",
       "      <td>124.493919</td>\n",
       "    </tr>\n",
       "    <tr>\n",
       "      <th>1</th>\n",
       "      <td>67.172648</td>\n",
       "      <td>38814.478902</td>\n",
       "    </tr>\n",
       "    <tr>\n",
       "      <th rowspan=\"2\" valign=\"top\">G</th>\n",
       "      <th>0</th>\n",
       "      <td>3.447359</td>\n",
       "      <td>69.709483</td>\n",
       "    </tr>\n",
       "    <tr>\n",
       "      <th>1</th>\n",
       "      <td>21.099631</td>\n",
       "      <td>781.290037</td>\n",
       "    </tr>\n",
       "    <tr>\n",
       "      <th rowspan=\"2\" valign=\"top\">H</th>\n",
       "      <th>0</th>\n",
       "      <td>3.373717</td>\n",
       "      <td>186.068481</td>\n",
       "    </tr>\n",
       "    <tr>\n",
       "      <th>1</th>\n",
       "      <td>38.234990</td>\n",
       "      <td>8019.978336</td>\n",
       "    </tr>\n",
       "    <tr>\n",
       "      <th rowspan=\"2\" valign=\"top\">I</th>\n",
       "      <th>0</th>\n",
       "      <td>1.892467</td>\n",
       "      <td>41.311756</td>\n",
       "    </tr>\n",
       "    <tr>\n",
       "      <th>1</th>\n",
       "      <td>24.644295</td>\n",
       "      <td>1803.352349</td>\n",
       "    </tr>\n",
       "    <tr>\n",
       "      <th rowspan=\"2\" valign=\"top\">K</th>\n",
       "      <th>0</th>\n",
       "      <td>3.494347</td>\n",
       "      <td>369.295150</td>\n",
       "    </tr>\n",
       "    <tr>\n",
       "      <th>1</th>\n",
       "      <td>84.958457</td>\n",
       "      <td>59308.768569</td>\n",
       "    </tr>\n",
       "    <tr>\n",
       "      <th rowspan=\"2\" valign=\"top\">L</th>\n",
       "      <th>0</th>\n",
       "      <td>2.804356</td>\n",
       "      <td>122.774329</td>\n",
       "    </tr>\n",
       "    <tr>\n",
       "      <th>1</th>\n",
       "      <td>38.038835</td>\n",
       "      <td>5118.535070</td>\n",
       "    </tr>\n",
       "    <tr>\n",
       "      <th rowspan=\"2\" valign=\"top\">N</th>\n",
       "      <th>0</th>\n",
       "      <td>1.754510</td>\n",
       "      <td>20.173389</td>\n",
       "    </tr>\n",
       "    <tr>\n",
       "      <th>1</th>\n",
       "      <td>14.250000</td>\n",
       "      <td>369.642857</td>\n",
       "    </tr>\n",
       "    <tr>\n",
       "      <th rowspan=\"2\" valign=\"top\">O</th>\n",
       "      <th>0</th>\n",
       "      <td>4.875330</td>\n",
       "      <td>155.225943</td>\n",
       "    </tr>\n",
       "    <tr>\n",
       "      <th>1</th>\n",
       "      <td>35.400000</td>\n",
       "      <td>1917.257143</td>\n",
       "    </tr>\n",
       "  </tbody>\n",
       "</table>\n",
       "</div>"
      ],
      "text/plain": [
       "                      unidades_vendidas              \n",
       "                                   mean           var\n",
       "categoria_uno campaña                                \n",
       "A             0                4.101826    327.119103\n",
       "              1               56.304467  18828.547317\n",
       "B             0                2.336963     32.795300\n",
       "              1               24.666667   1575.772727\n",
       "C             0                4.763017    402.513657\n",
       "              1               24.394737    580.461593\n",
       "D             0                2.069815     42.484828\n",
       "              1                     NaN           NaN\n",
       "E             0                2.615365    314.998913\n",
       "              1               44.698529  11976.335998\n",
       "F             0                2.253366    124.493919\n",
       "              1               67.172648  38814.478902\n",
       "G             0                3.447359     69.709483\n",
       "              1               21.099631    781.290037\n",
       "H             0                3.373717    186.068481\n",
       "              1               38.234990   8019.978336\n",
       "I             0                1.892467     41.311756\n",
       "              1               24.644295   1803.352349\n",
       "K             0                3.494347    369.295150\n",
       "              1               84.958457  59308.768569\n",
       "L             0                2.804356    122.774329\n",
       "              1               38.038835   5118.535070\n",
       "N             0                1.754510     20.173389\n",
       "              1               14.250000    369.642857\n",
       "O             0                4.875330    155.225943\n",
       "              1               35.400000   1917.257143"
      ]
     },
     "execution_count": 54,
     "metadata": {},
     "output_type": "execute_result"
    }
   ],
   "source": [
    "df_updated_prices.groupby([\"categoria_uno\", \"campaña\"]).agg({\"unidades_vendidas\" : [\"mean\", \"var\"]})"
   ]
  },
  {
   "cell_type": "markdown",
   "metadata": {},
   "source": [
    "### One-Hot Vector"
   ]
  },
  {
   "cell_type": "markdown",
   "metadata": {},
   "source": [
    "Se transforman todos los atributos categóricos del dataframe a vectores one hot. Se incluyen `categoria_uno`, `estado`, `dia_atipico` y `campaña`. El haberlos transformado a numéricos con `LabelEncoder` no debería afectar al resultado de OneHot."
   ]
  },
  {
   "cell_type": "raw",
   "metadata": {},
   "source": [
    "from sklearn.preprocessing import OneHotEncoder\n",
    "\n",
    "oh_encoder = OneHotEncoder()\n",
    "cat1_ohencoded = oh_encoder.fit_transform(df_clean['categoria_uno'].to_numpy().reshape(-1,1))\n",
    "estado_ohencoded = oh_encoder.fit_transform(df_clean['estado'].to_numpy().reshape(-1,1))\n",
    "dia_at_ohencoded = oh_encoder.fit_transform(df_clean['dia_atipico'].to_numpy().reshape(-1,1))\n",
    "campaña_ohencoded = oh_encoder.fit_transform(df_clean['campaña'].to_numpy().reshape(-1,1))"
   ]
  },
  {
   "cell_type": "raw",
   "metadata": {},
   "source": [
    "df_prep = df_clean.copy()\n",
    "\n",
    "df_prep['categoria_uno'] = cat1_ohencoded\n",
    "df_prep['estado'] = estado_ohencoded\n",
    "df_prep['dia_atipico'] = dia_at_ohencoded\n",
    "df_prep['campaña'] = campaña_ohencoded"
   ]
  },
  {
   "cell_type": "code",
   "execution_count": 55,
   "metadata": {},
   "outputs": [],
   "source": [
    "df_prep = df_clean.copy()"
   ]
  },
  {
   "cell_type": "markdown",
   "metadata": {},
   "source": [
    "### Scaler"
   ]
  },
  {
   "cell_type": "markdown",
   "metadata": {},
   "source": [
    "Se estandarizan los atributos numéricos (excepto `id`)."
   ]
  },
  {
   "cell_type": "code",
   "execution_count": 56,
   "metadata": {},
   "outputs": [],
   "source": [
    "from sklearn.preprocessing import StandardScaler"
   ]
  },
  {
   "cell_type": "code",
   "execution_count": 57,
   "metadata": {},
   "outputs": [],
   "source": [
    "cat_att = ['categoria_uno', 'estado', 'dia_atipico', 'campaña']\n",
    "\n",
    "scaler = StandardScaler()\n",
    "\n",
    "df_scaled = df_prep.copy()\n",
    "df_scaled.loc[:, [\"visitas\",\n",
    "                  \"categoria_dos\",\n",
    "                  \"precio\"]] = scaler.fit_transform(df_prep.drop(cat_att + [\"fecha\",\"unidades_vendidas\",\"id\"],axis=1))"
   ]
  },
  {
   "cell_type": "code",
   "execution_count": 58,
   "metadata": {
    "scrolled": true
   },
   "outputs": [
    {
     "data": {
      "text/html": [
       "<div>\n",
       "<style scoped>\n",
       "    .dataframe tbody tr th:only-of-type {\n",
       "        vertical-align: middle;\n",
       "    }\n",
       "\n",
       "    .dataframe tbody tr th {\n",
       "        vertical-align: top;\n",
       "    }\n",
       "\n",
       "    .dataframe thead th {\n",
       "        text-align: right;\n",
       "    }\n",
       "</style>\n",
       "<table border=\"1\" class=\"dataframe\">\n",
       "  <thead>\n",
       "    <tr style=\"text-align: right;\">\n",
       "      <th></th>\n",
       "      <th>fecha</th>\n",
       "      <th>id</th>\n",
       "      <th>visitas</th>\n",
       "      <th>categoria_uno</th>\n",
       "      <th>categoria_dos</th>\n",
       "      <th>estado</th>\n",
       "      <th>precio</th>\n",
       "      <th>dia_atipico</th>\n",
       "      <th>campaña</th>\n",
       "      <th>unidades_vendidas</th>\n",
       "    </tr>\n",
       "  </thead>\n",
       "  <tbody>\n",
       "    <tr>\n",
       "      <th>0</th>\n",
       "      <td>2015-06-01</td>\n",
       "      <td>21972</td>\n",
       "      <td>-0.209219</td>\n",
       "      <td>2</td>\n",
       "      <td>-0.934538</td>\n",
       "      <td>0</td>\n",
       "      <td>-1.103112</td>\n",
       "      <td>0</td>\n",
       "      <td>0</td>\n",
       "      <td>0</td>\n",
       "    </tr>\n",
       "    <tr>\n",
       "      <th>1</th>\n",
       "      <td>2015-06-01</td>\n",
       "      <td>23910</td>\n",
       "      <td>-0.200812</td>\n",
       "      <td>2</td>\n",
       "      <td>-0.157059</td>\n",
       "      <td>0</td>\n",
       "      <td>-1.094568</td>\n",
       "      <td>0</td>\n",
       "      <td>0</td>\n",
       "      <td>3</td>\n",
       "    </tr>\n",
       "    <tr>\n",
       "      <th>2</th>\n",
       "      <td>2015-06-01</td>\n",
       "      <td>24306</td>\n",
       "      <td>-0.187361</td>\n",
       "      <td>0</td>\n",
       "      <td>-1.171873</td>\n",
       "      <td>0</td>\n",
       "      <td>-1.028447</td>\n",
       "      <td>0</td>\n",
       "      <td>0</td>\n",
       "      <td>0</td>\n",
       "    </tr>\n",
       "    <tr>\n",
       "      <th>4</th>\n",
       "      <td>2015-06-01</td>\n",
       "      <td>27144</td>\n",
       "      <td>-0.183999</td>\n",
       "      <td>4</td>\n",
       "      <td>0.333981</td>\n",
       "      <td>0</td>\n",
       "      <td>-1.092711</td>\n",
       "      <td>0</td>\n",
       "      <td>0</td>\n",
       "      <td>0</td>\n",
       "    </tr>\n",
       "    <tr>\n",
       "      <th>5</th>\n",
       "      <td>2015-06-01</td>\n",
       "      <td>27504</td>\n",
       "      <td>-0.197450</td>\n",
       "      <td>2</td>\n",
       "      <td>-0.263450</td>\n",
       "      <td>0</td>\n",
       "      <td>-0.921092</td>\n",
       "      <td>0</td>\n",
       "      <td>0</td>\n",
       "      <td>0</td>\n",
       "    </tr>\n",
       "    <tr>\n",
       "      <th>...</th>\n",
       "      <td>...</td>\n",
       "      <td>...</td>\n",
       "      <td>...</td>\n",
       "      <td>...</td>\n",
       "      <td>...</td>\n",
       "      <td>...</td>\n",
       "      <td>...</td>\n",
       "      <td>...</td>\n",
       "      <td>...</td>\n",
       "      <td>...</td>\n",
       "    </tr>\n",
       "    <tr>\n",
       "      <th>4045016</th>\n",
       "      <td>2016-09-30</td>\n",
       "      <td>456982</td>\n",
       "      <td>10.845677</td>\n",
       "      <td>5</td>\n",
       "      <td>1.201484</td>\n",
       "      <td>0</td>\n",
       "      <td>1.699249</td>\n",
       "      <td>0</td>\n",
       "      <td>0</td>\n",
       "      <td>30</td>\n",
       "    </tr>\n",
       "    <tr>\n",
       "      <th>4045017</th>\n",
       "      <td>2016-09-30</td>\n",
       "      <td>457416</td>\n",
       "      <td>2.136269</td>\n",
       "      <td>5</td>\n",
       "      <td>1.201484</td>\n",
       "      <td>0</td>\n",
       "      <td>0.551410</td>\n",
       "      <td>0</td>\n",
       "      <td>0</td>\n",
       "      <td>9</td>\n",
       "    </tr>\n",
       "    <tr>\n",
       "      <th>4045018</th>\n",
       "      <td>2016-09-30</td>\n",
       "      <td>457422</td>\n",
       "      <td>1.606642</td>\n",
       "      <td>5</td>\n",
       "      <td>1.201484</td>\n",
       "      <td>1</td>\n",
       "      <td>2.163214</td>\n",
       "      <td>0</td>\n",
       "      <td>0</td>\n",
       "      <td>0</td>\n",
       "    </tr>\n",
       "    <tr>\n",
       "      <th>4045019</th>\n",
       "      <td>2016-09-30</td>\n",
       "      <td>458650</td>\n",
       "      <td>2.119455</td>\n",
       "      <td>9</td>\n",
       "      <td>1.234220</td>\n",
       "      <td>0</td>\n",
       "      <td>1.311807</td>\n",
       "      <td>0</td>\n",
       "      <td>0</td>\n",
       "      <td>0</td>\n",
       "    </tr>\n",
       "    <tr>\n",
       "      <th>4045020</th>\n",
       "      <td>2016-09-30</td>\n",
       "      <td>458660</td>\n",
       "      <td>3.010572</td>\n",
       "      <td>9</td>\n",
       "      <td>1.234220</td>\n",
       "      <td>0</td>\n",
       "      <td>1.224141</td>\n",
       "      <td>0</td>\n",
       "      <td>0</td>\n",
       "      <td>24</td>\n",
       "    </tr>\n",
       "  </tbody>\n",
       "</table>\n",
       "<p>2040037 rows × 10 columns</p>\n",
       "</div>"
      ],
      "text/plain": [
       "             fecha      id    visitas  categoria_uno  categoria_dos  estado  \\\n",
       "0       2015-06-01   21972  -0.209219              2      -0.934538       0   \n",
       "1       2015-06-01   23910  -0.200812              2      -0.157059       0   \n",
       "2       2015-06-01   24306  -0.187361              0      -1.171873       0   \n",
       "4       2015-06-01   27144  -0.183999              4       0.333981       0   \n",
       "5       2015-06-01   27504  -0.197450              2      -0.263450       0   \n",
       "...            ...     ...        ...            ...            ...     ...   \n",
       "4045016 2016-09-30  456982  10.845677              5       1.201484       0   \n",
       "4045017 2016-09-30  457416   2.136269              5       1.201484       0   \n",
       "4045018 2016-09-30  457422   1.606642              5       1.201484       1   \n",
       "4045019 2016-09-30  458650   2.119455              9       1.234220       0   \n",
       "4045020 2016-09-30  458660   3.010572              9       1.234220       0   \n",
       "\n",
       "           precio  dia_atipico  campaña  unidades_vendidas  \n",
       "0       -1.103112            0        0                  0  \n",
       "1       -1.094568            0        0                  3  \n",
       "2       -1.028447            0        0                  0  \n",
       "4       -1.092711            0        0                  0  \n",
       "5       -0.921092            0        0                  0  \n",
       "...           ...          ...      ...                ...  \n",
       "4045016  1.699249            0        0                 30  \n",
       "4045017  0.551410            0        0                  9  \n",
       "4045018  2.163214            0        0                  0  \n",
       "4045019  1.311807            0        0                  0  \n",
       "4045020  1.224141            0        0                 24  \n",
       "\n",
       "[2040037 rows x 10 columns]"
      ]
     },
     "execution_count": 58,
     "metadata": {},
     "output_type": "execute_result"
    }
   ],
   "source": [
    "df_scaled"
   ]
  },
  {
   "cell_type": "markdown",
   "metadata": {},
   "source": [
    "## 3. Creación de Modelo(s)"
   ]
  },
  {
   "cell_type": "markdown",
   "metadata": {},
   "source": [
    "### División de conjuntos. \n",
    "\n",
    "* Entrenamiento: 70%\n",
    "* Testeo: 20%\n",
    "* Validación: 10%"
   ]
  },
  {
   "cell_type": "markdown",
   "metadata": {},
   "source": [
    "Se debe descartar como atributos `unidades_vendidas`, al ser lo que se pretende predecir, y `fecha` al no ser un atributo numérico ni categórico."
   ]
  },
  {
   "cell_type": "code",
   "execution_count": 59,
   "metadata": {},
   "outputs": [],
   "source": [
    "from sklearn.model_selection import train_test_split\n",
    "\n",
    "X = df_scaled.drop([\"unidades_vendidas\", \"fecha\"], axis=1).values\n",
    "y = df_scaled[\"unidades_vendidas\"].values"
   ]
  },
  {
   "cell_type": "code",
   "execution_count": 60,
   "metadata": {},
   "outputs": [],
   "source": [
    "X_train_val, X_test, y_train_val, y_test = train_test_split(X, y,test_size=.2,random_state =random_seed)"
   ]
  },
  {
   "cell_type": "code",
   "execution_count": 61,
   "metadata": {},
   "outputs": [],
   "source": [
    "X_train, X_val, y_train, y_val = train_test_split(X_train_val, y_train_val, test_size=1/8, random_state =random_seed)"
   ]
  },
  {
   "cell_type": "markdown",
   "metadata": {},
   "source": [
    "### Función de pérdida:"
   ]
  },
  {
   "cell_type": "markdown",
   "metadata": {},
   "source": [
    "Podrá ser utilizada como función de pérdida a mejorar en modelos de redes neuronales y servirá para calcular qué error tiene cada modelo."
   ]
  },
  {
   "cell_type": "code",
   "execution_count": 66,
   "metadata": {},
   "outputs": [],
   "source": [
    "from sklearn.metrics import mean_squared_error\n",
    "\n",
    "def contest_loss (y_real, y_pred):\n",
    "    cf = sum([i < j for i, j in zip(y_real, y_pred)])/len(y_real) # Cuando la demanda no haya superado a la predicción\n",
    "    rmse = mean_squared_error(y_real, y_pred, squared=False) # Root Mean Squared Error\n",
    "    rrmse = rmse / np.mean(y_pred) # rRMSE\n",
    "    return 0.7 * rrmse + 0.3 * (1 - cf)"
   ]
  },
  {
   "cell_type": "markdown",
   "metadata": {},
   "source": [
    "### LazyPredictor - Regresión"
   ]
  },
  {
   "cell_type": "code",
   "execution_count": null,
   "metadata": {},
   "outputs": [],
   "source": [
    "from lazypredict.Supervised import LazyRegressor\n",
    "\n",
    "# FIXME: do not run\n",
    "lazy = LazyRegressor(verbose=0, ignore_warnings=False, custom_metric=contest_loss)\n",
    "models, predictions = lazy.fit(X_train, X_val, y_train, y_val)\n",
    "print(models)"
   ]
  }
 ],
 "metadata": {
  "kernelspec": {
   "display_name": "Python 3",
   "language": "python",
   "name": "python3"
  },
  "language_info": {
   "codemirror_mode": {
    "name": "ipython",
    "version": 3
   },
   "file_extension": ".py",
   "mimetype": "text/x-python",
   "name": "python",
   "nbconvert_exporter": "python",
   "pygments_lexer": "ipython3",
   "version": "3.8.6"
  }
 },
 "nbformat": 4,
 "nbformat_minor": 4
}
