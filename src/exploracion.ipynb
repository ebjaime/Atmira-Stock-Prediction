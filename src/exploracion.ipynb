{
 "cells": [
  {
   "cell_type": "code",
   "execution_count": 49,
   "metadata": {},
   "outputs": [],
   "source": [
    "import pandas as pd\n",
    "import numpy as np\n",
    "import matplotlib.pyplot as plt\n",
    "from datetime import datetime, date\n",
    "\n",
    "random_seed = 42"
   ]
  },
  {
   "cell_type": "code",
   "execution_count": 50,
   "metadata": {},
   "outputs": [],
   "source": [
    "date_parser = lambda x : datetime.strptime(x, \"%d/%m/%Y %H:%M:%S\")\n",
    "df = pd.read_csv(\"./data/Modelar_UH2021.txt\", sep=\"|\", parse_dates=['fecha'],\n",
    "                 date_parser=date_parser)"
   ]
  },
  {
   "cell_type": "markdown",
   "metadata": {},
   "source": [
    "## 1. Análisis de Datos"
   ]
  },
  {
   "cell_type": "code",
   "execution_count": 51,
   "metadata": {},
   "outputs": [
    {
     "name": "stdout",
     "output_type": "stream",
     "text": [
      "<class 'pandas.core.frame.DataFrame'>\n",
      "RangeIndex: 4045022 entries, 0 to 4045021\n",
      "Data columns (total 11 columns):\n",
      " #   Column             Dtype         \n",
      "---  ------             -----         \n",
      " 0   fecha              datetime64[ns]\n",
      " 1   id                 int64         \n",
      " 2   visitas            int64         \n",
      " 3   categoria_uno      object        \n",
      " 4   categoria_dos      float64       \n",
      " 5   estado             object        \n",
      " 6   precio             object        \n",
      " 7   dia_atipico        int64         \n",
      " 8   campaña            int64         \n",
      " 9   antiguedad         float64       \n",
      " 10  unidades_vendidas  int64         \n",
      "dtypes: datetime64[ns](1), float64(2), int64(5), object(3)\n",
      "memory usage: 339.5+ MB\n"
     ]
    }
   ],
   "source": [
    "df.info()"
   ]
  },
  {
   "cell_type": "code",
   "execution_count": 52,
   "metadata": {},
   "outputs": [
    {
     "data": {
      "text/html": [
       "<div>\n",
       "<style scoped>\n",
       "    .dataframe tbody tr th:only-of-type {\n",
       "        vertical-align: middle;\n",
       "    }\n",
       "\n",
       "    .dataframe tbody tr th {\n",
       "        vertical-align: top;\n",
       "    }\n",
       "\n",
       "    .dataframe thead th {\n",
       "        text-align: right;\n",
       "    }\n",
       "</style>\n",
       "<table border=\"1\" class=\"dataframe\">\n",
       "  <thead>\n",
       "    <tr style=\"text-align: right;\">\n",
       "      <th></th>\n",
       "      <th>fecha</th>\n",
       "      <th>id</th>\n",
       "      <th>visitas</th>\n",
       "      <th>categoria_uno</th>\n",
       "      <th>categoria_dos</th>\n",
       "      <th>estado</th>\n",
       "      <th>precio</th>\n",
       "      <th>dia_atipico</th>\n",
       "      <th>campaña</th>\n",
       "      <th>antiguedad</th>\n",
       "      <th>unidades_vendidas</th>\n",
       "    </tr>\n",
       "  </thead>\n",
       "  <tbody>\n",
       "    <tr>\n",
       "      <th>0</th>\n",
       "      <td>2015-06-01</td>\n",
       "      <td>21972</td>\n",
       "      <td>0</td>\n",
       "      <td>C</td>\n",
       "      <td>75.0</td>\n",
       "      <td>No Rotura</td>\n",
       "      <td>NaN</td>\n",
       "      <td>0</td>\n",
       "      <td>0</td>\n",
       "      <td>5241.0</td>\n",
       "      <td>0</td>\n",
       "    </tr>\n",
       "    <tr>\n",
       "      <th>1</th>\n",
       "      <td>2015-06-01</td>\n",
       "      <td>23910</td>\n",
       "      <td>5</td>\n",
       "      <td>C</td>\n",
       "      <td>170.0</td>\n",
       "      <td>No Rotura</td>\n",
       "      <td>6,07</td>\n",
       "      <td>0</td>\n",
       "      <td>0</td>\n",
       "      <td>5241.0</td>\n",
       "      <td>3</td>\n",
       "    </tr>\n",
       "    <tr>\n",
       "      <th>2</th>\n",
       "      <td>2015-06-01</td>\n",
       "      <td>24306</td>\n",
       "      <td>13</td>\n",
       "      <td>A</td>\n",
       "      <td>46.0</td>\n",
       "      <td>No Rotura</td>\n",
       "      <td>NaN</td>\n",
       "      <td>0</td>\n",
       "      <td>0</td>\n",
       "      <td>NaN</td>\n",
       "      <td>0</td>\n",
       "    </tr>\n",
       "    <tr>\n",
       "      <th>3</th>\n",
       "      <td>2015-06-01</td>\n",
       "      <td>24306</td>\n",
       "      <td>13</td>\n",
       "      <td>A</td>\n",
       "      <td>46.0</td>\n",
       "      <td>No Rotura</td>\n",
       "      <td>NaN</td>\n",
       "      <td>0</td>\n",
       "      <td>0</td>\n",
       "      <td>NaN</td>\n",
       "      <td>0</td>\n",
       "    </tr>\n",
       "    <tr>\n",
       "      <th>4</th>\n",
       "      <td>2015-06-01</td>\n",
       "      <td>27144</td>\n",
       "      <td>15</td>\n",
       "      <td>E</td>\n",
       "      <td>230.0</td>\n",
       "      <td>No Rotura</td>\n",
       "      <td>NaN</td>\n",
       "      <td>0</td>\n",
       "      <td>0</td>\n",
       "      <td>4064.0</td>\n",
       "      <td>0</td>\n",
       "    </tr>\n",
       "  </tbody>\n",
       "</table>\n",
       "</div>"
      ],
      "text/plain": [
       "       fecha     id  visitas categoria_uno  categoria_dos     estado precio  \\\n",
       "0 2015-06-01  21972        0             C           75.0  No Rotura    NaN   \n",
       "1 2015-06-01  23910        5             C          170.0  No Rotura   6,07   \n",
       "2 2015-06-01  24306       13             A           46.0  No Rotura    NaN   \n",
       "3 2015-06-01  24306       13             A           46.0  No Rotura    NaN   \n",
       "4 2015-06-01  27144       15             E          230.0  No Rotura    NaN   \n",
       "\n",
       "   dia_atipico  campaña  antiguedad  unidades_vendidas  \n",
       "0            0        0      5241.0                  0  \n",
       "1            0        0      5241.0                  3  \n",
       "2            0        0         NaN                  0  \n",
       "3            0        0         NaN                  0  \n",
       "4            0        0      4064.0                  0  "
      ]
     },
     "execution_count": 52,
     "metadata": {},
     "output_type": "execute_result"
    }
   ],
   "source": [
    "df.head()"
   ]
  },
  {
   "cell_type": "markdown",
   "metadata": {},
   "source": [
    "<hr>"
   ]
  },
  {
   "cell_type": "markdown",
   "metadata": {},
   "source": [
    "* Atributo `fecha`"
   ]
  },
  {
   "cell_type": "code",
   "execution_count": 53,
   "metadata": {
    "scrolled": false
   },
   "outputs": [
    {
     "name": "stdout",
     "output_type": "stream",
     "text": [
      "Numero de días en el dataset ( 2015-06-01 00:00:00 - 2016-09-30 00:00:00 :  487\n"
     ]
    }
   ],
   "source": [
    "print(\"Numero de días en el dataset (\", df['fecha'][0], \"-\", df['fecha'][len(df)-1], \": \",len(df['fecha'].unique()))"
   ]
  },
  {
   "cell_type": "markdown",
   "metadata": {},
   "source": [
    "¿Qué día de la semana agrupa más compras? ¿Qué mes del año?"
   ]
  },
  {
   "cell_type": "code",
   "execution_count": 54,
   "metadata": {},
   "outputs": [],
   "source": [
    "df[\"weekday\"] = df[\"fecha\"].map(lambda x: x.weekday()) # Lunes = 0; Domingo = 6\n",
    "\n",
    "ventas_per_weekday = df.groupby([\"weekday\"])[\"unidades_vendidas\"].sum() / df[\"weekday\"].value_counts()"
   ]
  },
  {
   "cell_type": "code",
   "execution_count": 55,
   "metadata": {
    "scrolled": false
   },
   "outputs": [
    {
     "name": "stdout",
     "output_type": "stream",
     "text": [
      "0    5.085910\n",
      "1    3.221597\n",
      "2    2.488583\n",
      "3    4.656646\n",
      "4    5.759343\n",
      "5    6.173217\n",
      "6    5.507114\n",
      "dtype: float64\n"
     ]
    },
    {
     "data": {
      "image/png": "[encoded data removed]",
      "text/plain": [
       "<Figure size 432x288 with 1 Axes>"
      ]
     },
     "metadata": {
      "needs_background": "light"
     },
     "output_type": "display_data"
    }
   ],
   "source": [
    "print(ventas_per_weekday)\n",
    "plt.bar(range(0,7), ventas_per_weekday.values)\n",
    "plt.title(\"Media de ventas por producto por días de la semana\")\n",
    "plt.xticks(range(0,7), [\"Mon\", \"Tue\", \"Wen\", \"Thu\", \"Fri\", \"Sat\", \"Sun\"])\n",
    "plt.show()"
   ]
  },
  {
   "cell_type": "markdown",
   "metadata": {},
   "source": [
    "Los resultados indican que los días en los que más se venden productos son los viernes, sábados y domingos."
   ]
  },
  {
   "cell_type": "code",
   "execution_count": 56,
   "metadata": {},
   "outputs": [],
   "source": [
    "df[\"month\"] = df[\"fecha\"].map(lambda x: x.month)\n",
    "ventas_per_month = df.groupby([\"month\"])[\"unidades_vendidas\"].sum() / df[\"month\"].value_counts()"
   ]
  },
  {
   "cell_type": "code",
   "execution_count": 57,
   "metadata": {},
   "outputs": [
    {
     "name": "stdout",
     "output_type": "stream",
     "text": [
      "1      5.237830\n",
      "2      4.341917\n",
      "3      3.970224\n",
      "4      3.764881\n",
      "5      3.977774\n",
      "6      3.484608\n",
      "7      4.863620\n",
      "8      3.456875\n",
      "9      4.241843\n",
      "10     4.014661\n",
      "11    10.989706\n",
      "12     6.736071\n",
      "dtype: float64\n"
     ]
    },
    {
     "data": {
      "image/png": "[encoded data removed]",
      "text/plain": [
       "<Figure size 432x288 with 1 Axes>"
      ]
     },
     "metadata": {
      "needs_background": "light"
     },
     "output_type": "display_data"
    }
   ],
   "source": [
    "print(ventas_per_month)\n",
    "plt.bar(range(0,12), ventas_per_month.values)\n",
    "plt.title(\"Media de ventas por producto por meses\")\n",
    "plt.xticks(range(0,12), [\"Jan\", \"Feb\", \"Mar\", \"Apr\", \"May\", \"Jun\", \"Jul\", \"Aug\", \"Sep\", \"Oct\", \"Nov\", \"Dec\"])\n",
    "plt.show()"
   ]
  },
  {
   "cell_type": "markdown",
   "metadata": {},
   "source": [
    "Se obtiene que los meses Noviembre, Diciembre y Enero son los más exitosos en cuanto a ventas"
   ]
  },
  {
   "cell_type": "markdown",
   "metadata": {},
   "source": [
    "¿Cómo queda la relación entre meses y días de la semana? Se crea un 'heatmap' para visualizarlo:"
   ]
  },
  {
   "cell_type": "code",
   "execution_count": 58,
   "metadata": {},
   "outputs": [
    {
     "data": {
      "image/png": "[encoded data removed]",
      "text/plain": [
       "<Figure size 432x288 with 2 Axes>"
      ]
     },
     "metadata": {
      "needs_background": "light"
     },
     "output_type": "display_data"
    }
   ],
   "source": [
    "import seaborn as sns\n",
    "\n",
    "piv = pd.pivot_table(df, values=\"unidades_vendidas\",index=[\"month\"], columns=[\"weekday\"], fill_value=0)\n",
    "\n",
    "ax = sns.heatmap(piv, cmap = sns.cm.rocket_r, square=True, \n",
    "                 xticklabels=[\"Mon\", \"Tue\", \"Wen\", \"Thu\", \"Fri\", \"Sat\", \"Sun\"],\n",
    "                 yticklabels=[\"Jan\", \"Feb\", \"Mar\", \"Apr\", \"May\", \"Jun\", \"Jul\", \"Aug\", \"Sep\", \"Oct\", \"Nov\", \"Dec\"])\n",
    "plt.title(\"Ventas por día de la semana según el mes\")\n",
    "plt.show()"
   ]
  },
  {
   "cell_type": "markdown",
   "metadata": {},
   "source": [
    "Parecen ser atributos que pueden ayudar a la hora de predecir el número de unidades vendidas. Se mantendrán en el dataframe."
   ]
  },
  {
   "cell_type": "markdown",
   "metadata": {},
   "source": [
    "¿Afecta al número de ventas que sea principio o final de mes? Partiendo de la suposición de que el pago de la nómina se realiza en los cinco primeros días del mes siguiente del devengo. "
   ]
  },
  {
   "cell_type": "code",
   "execution_count": 59,
   "metadata": {},
   "outputs": [],
   "source": [
    "dias_mes = {}\n",
    "for y in [2015, 2016]:\n",
    "    dias_mes[y]=[]\n",
    "    for m in range(1,13):\n",
    "        # Cálculo de ultimo dia del mes\n",
    "        next_m = m+1 if m < 12 else 1\n",
    "        next_y = y if m < 12 else y+1\n",
    "        last_day = date(next_y, next_m, 1) - date(y, m, 1)\n",
    "        # Lista con cinco últimos días para mes y año concreto\n",
    "        dias_mes[y].append([last_day.days,last_day.days-1,last_day.days-2,last_day.days-3,last_day.days-4])"
   ]
  },
  {
   "cell_type": "markdown",
   "metadata": {},
   "source": [
    "> Fin de mes:"
   ]
  },
  {
   "cell_type": "code",
   "execution_count": 60,
   "metadata": {},
   "outputs": [],
   "source": [
    "df[\"fin_de_mes\"] = df[\"fecha\"].map(lambda x: x.day in dias_mes[x.year][x.month-1])\n",
    "ventas_fin_mes = df.groupby([\"fin_de_mes\"])[\"unidades_vendidas\"].sum() / df[\"fin_de_mes\"].value_counts()"
   ]
  },
  {
   "cell_type": "code",
   "execution_count": 61,
   "metadata": {},
   "outputs": [
    {
     "name": "stdout",
     "output_type": "stream",
     "text": [
      "fin_de_mes\n",
      "False    4.726018\n",
      "True     4.525150\n",
      "dtype: float64\n"
     ]
    },
    {
     "data": {
      "image/png": "[encoded data removed]",
      "text/plain": [
       "<Figure size 432x288 with 1 Axes>"
      ]
     },
     "metadata": {
      "needs_background": "light"
     },
     "output_type": "display_data"
    }
   ],
   "source": [
    "print(ventas_fin_mes)\n",
    "plt.bar(range(0,2), ventas_fin_mes.values)\n",
    "plt.title(\"Media de ventas según fin de mes\")\n",
    "plt.xticks(range(0,2), [\"No Final\", \"Final\"])\n",
    "plt.grid()\n",
    "plt.show()"
   ]
  },
  {
   "cell_type": "markdown",
   "metadata": {},
   "source": [
    "> Inicio de mes:"
   ]
  },
  {
   "cell_type": "code",
   "execution_count": 62,
   "metadata": {},
   "outputs": [],
   "source": [
    "df[\"principio_de_mes\"] = df[\"fecha\"].map(lambda x: x.day in range(1,6))\n",
    "ventas_ini_mes = df.groupby([\"principio_de_mes\"])[\"unidades_vendidas\"].sum() / df[\"principio_de_mes\"].value_counts()"
   ]
  },
  {
   "cell_type": "code",
   "execution_count": 63,
   "metadata": {},
   "outputs": [
    {
     "name": "stdout",
     "output_type": "stream",
     "text": [
      "principio_de_mes\n",
      "False    4.645257\n",
      "True     4.938537\n",
      "dtype: float64\n"
     ]
    },
    {
     "data": {
      "image/png": "[encoded data removed]",
      "text/plain": [
       "<Figure size 432x288 with 1 Axes>"
      ]
     },
     "metadata": {
      "needs_background": "light"
     },
     "output_type": "display_data"
    }
   ],
   "source": [
    "print(ventas_ini_mes)\n",
    "plt.bar(range(0,2), ventas_ini_mes.values)\n",
    "plt.title(\"Media de ventas según inicio de mes\")\n",
    "plt.xticks(range(0,2), [\"No Inicio\", \"Inicio\"])\n",
    "plt.grid()\n",
    "plt.show()"
   ]
  },
  {
   "cell_type": "markdown",
   "metadata": {},
   "source": [
    "No parece que estos atributos puedan dar pistas sobre el número de unidades vendiadas para cada día. Se descartan:"
   ]
  },
  {
   "cell_type": "code",
   "execution_count": 64,
   "metadata": {},
   "outputs": [],
   "source": [
    "df.drop([\"principio_de_mes\", \"fin_de_mes\"], axis=1, inplace=True)"
   ]
  },
  {
   "cell_type": "markdown",
   "metadata": {},
   "source": [
    "<hr>"
   ]
  },
  {
   "cell_type": "markdown",
   "metadata": {},
   "source": [
    "* Atributos `categoria_uno` y `estado`"
   ]
  },
  {
   "cell_type": "code",
   "execution_count": 65,
   "metadata": {
    "scrolled": true
   },
   "outputs": [
    {
     "data": {
      "text/plain": [
       "A    1571062\n",
       "K     581478\n",
       "H     489922\n",
       "F     458267\n",
       "E     322394\n",
       "G     174346\n",
       "C     173372\n",
       "L     115419\n",
       "B      78407\n",
       "I      67206\n",
       "O       7305\n",
       "N       5357\n",
       "D        487\n",
       "Name: categoria_uno, dtype: int64"
      ]
     },
     "execution_count": 65,
     "metadata": {},
     "output_type": "execute_result"
    }
   ],
   "source": [
    "df[\"categoria_uno\"].value_counts()"
   ]
  },
  {
   "cell_type": "code",
   "execution_count": 66,
   "metadata": {},
   "outputs": [
    {
     "data": {
      "text/plain": [
       "No Rotura    3388184\n",
       "Rotura        606530\n",
       "Transito       50308\n",
       "Name: estado, dtype: int64"
      ]
     },
     "execution_count": 66,
     "metadata": {},
     "output_type": "execute_result"
    }
   ],
   "source": [
    "df[\"estado\"].value_counts()"
   ]
  },
  {
   "cell_type": "code",
   "execution_count": 67,
   "metadata": {},
   "outputs": [],
   "source": [
    "df['estado'] = df['estado'].astype('category')\n",
    "df['categoria_uno'] = df['categoria_uno'].astype('category')"
   ]
  },
  {
   "cell_type": "markdown",
   "metadata": {},
   "source": [
    "En lugar de que sean objetos, que sean categorías que es un tipo más eficiente para estos tipos de datos"
   ]
  },
  {
   "cell_type": "code",
   "execution_count": 68,
   "metadata": {},
   "outputs": [
    {
     "data": {
      "text/plain": [
       "CategoricalDtype(categories=['A', 'B', 'C', 'D', 'E', 'F', 'G', 'H', 'I', 'K', 'L', 'N',\n",
       "                  'O'],\n",
       "                 ordered=False)"
      ]
     },
     "execution_count": 68,
     "metadata": {},
     "output_type": "execute_result"
    }
   ],
   "source": [
    "df['categoria_uno'].dtype"
   ]
  },
  {
   "cell_type": "code",
   "execution_count": 69,
   "metadata": {},
   "outputs": [
    {
     "data": {
      "text/plain": [
       "CategoricalDtype(categories=['No Rotura', 'Rotura', 'Transito'], ordered=False)"
      ]
     },
     "execution_count": 69,
     "metadata": {},
     "output_type": "execute_result"
    }
   ],
   "source": [
    "df[\"estado\"].dtype"
   ]
  },
  {
   "cell_type": "markdown",
   "metadata": {},
   "source": [
    "`estado` se puede transformar en tres atributos binarios al ser un atributo categórico nominal utilizando dummy encoders."
   ]
  },
  {
   "cell_type": "code",
   "execution_count": 70,
   "metadata": {},
   "outputs": [],
   "source": [
    "df[\"rotura\"] = df[\"estado\"].map(lambda x: 1 if x=='Rotura' else 0).astype('category')\n",
    "df[\"no_rotura\"] = df[\"estado\"].map(lambda x: 1 if x=='No Rotura' else 0).astype('category')\n",
    "df[\"transito\"] = df[\"estado\"].map(lambda x: 1 if x=='Transito' else 0).astype('category')"
   ]
  },
  {
   "cell_type": "markdown",
   "metadata": {},
   "source": [
    "<hr>"
   ]
  },
  {
   "cell_type": "markdown",
   "metadata": {},
   "source": [
    "* Atributo `categoria_dos`"
   ]
  },
  {
   "cell_type": "code",
   "execution_count": 71,
   "metadata": {},
   "outputs": [
    {
     "name": "stdout",
     "output_type": "stream",
     "text": [
      "Número de categorías en 'categoria_dos': 182\n"
     ]
    }
   ],
   "source": [
    "print(\"Número de categorías en 'categoria_dos':\", df['categoria_dos'].nunique())"
   ]
  },
  {
   "cell_type": "code",
   "execution_count": 72,
   "metadata": {},
   "outputs": [
    {
     "data": {
      "text/plain": [
       "<AxesSubplot:>"
      ]
     },
     "execution_count": 72,
     "metadata": {},
     "output_type": "execute_result"
    },
    {
     "data": {
      "image/png": "[encoded data removed]",
      "text/plain": [
       "<Figure size 432x288 with 1 Axes>"
      ]
     },
     "metadata": {
      "needs_background": "light"
     },
     "output_type": "display_data"
    }
   ],
   "source": [
    "df['categoria_dos'].hist(bins=50)"
   ]
  },
  {
   "cell_type": "markdown",
   "metadata": {},
   "source": [
    "<hr>"
   ]
  },
  {
   "cell_type": "markdown",
   "metadata": {},
   "source": [
    "* Atributo `precio`"
   ]
  },
  {
   "cell_type": "markdown",
   "metadata": {},
   "source": [
    "El precio se detecta como tipo `object` porque usa la coma en vez del punto. Se modifica para poder hacer operaciones con él."
   ]
  },
  {
   "cell_type": "code",
   "execution_count": 73,
   "metadata": {},
   "outputs": [],
   "source": [
    "df[\"precio\"] = df[\"precio\"].str.replace(\",\", \".\").astype(float)"
   ]
  },
  {
   "cell_type": "code",
   "execution_count": 74,
   "metadata": {},
   "outputs": [
    {
     "data": {
      "text/plain": [
       "dtype('float64')"
      ]
     },
     "execution_count": 74,
     "metadata": {},
     "output_type": "execute_result"
    }
   ],
   "source": [
    "df[\"precio\"].dtype"
   ]
  },
  {
   "cell_type": "code",
   "execution_count": 75,
   "metadata": {},
   "outputs": [
    {
     "name": "stdout",
     "output_type": "stream",
     "text": [
      "Max:  175.78 ; Min:  3.57 ; Media:  34.24319426208051 ; STD:  23.309432664059635\n"
     ]
    }
   ],
   "source": [
    "print(\"Max: \", df[\"precio\"].max(), \"; Min: \", df[\"precio\"].min(), \"; Media: \", df[\"precio\"].mean(),\"; STD: \", df[\"precio\"].std())"
   ]
  },
  {
   "cell_type": "markdown",
   "metadata": {},
   "source": [
    "<hr>"
   ]
  },
  {
   "cell_type": "markdown",
   "metadata": {},
   "source": [
    "* Atributo `dia_atipico`"
   ]
  },
  {
   "cell_type": "code",
   "execution_count": 76,
   "metadata": {
    "scrolled": true
   },
   "outputs": [
    {
     "data": {
      "text/plain": [
       " 0    3505132\n",
       " 1     398688\n",
       "-1     141202\n",
       "Name: dia_atipico, dtype: int64"
      ]
     },
     "execution_count": 76,
     "metadata": {},
     "output_type": "execute_result"
    }
   ],
   "source": [
    "df[\"dia_atipico\"].value_counts()"
   ]
  },
  {
   "cell_type": "code",
   "execution_count": 77,
   "metadata": {
    "scrolled": false
   },
   "outputs": [
    {
     "data": {
      "image/png": "[encoded data removed]",
      "text/plain": [
       "<Figure size 1440x360 with 1 Axes>"
      ]
     },
     "metadata": {
      "needs_background": "light"
     },
     "output_type": "display_data"
    }
   ],
   "source": [
    "plt.figure(figsize=(20,5)) \n",
    "plt.axhline(0, color=\"black\")\n",
    "plt.bar(range(len(df.groupby([\"fecha\"]))), \n",
    "        df.groupby([\"fecha\"])[\"dia_atipico\"].sum().to_numpy())\n",
    "\n",
    "xticks = df[\"fecha\"].unique()[range(0, len(df.groupby([\"fecha\"])), 50)]\n",
    "months = [\"Jan\", \"Feb\", \"Mar\", \"Apr\", \"May\", \"Jun\", \"Jul\", \"Aug\", \"Sep\", \"Oct\", \"Nov\", \"Dec\"]\n",
    "plt.xticks(range(0, len(df.groupby([\"fecha\"])), 50), \n",
    "           [months[tick.astype('datetime64[M]').astype(int) % 12] \\\n",
    "            + \" \" + str(tick.astype('datetime64[Y]').astype(int) + 1970) for tick in xticks])\n",
    "\n",
    "plt.show()"
   ]
  },
  {
   "cell_type": "markdown",
   "metadata": {},
   "source": [
    "`dia_atipico` se puede transformar en tres atributos binarios al ser un atributo categórico nominal utilizando dummy encoders."
   ]
  },
  {
   "cell_type": "code",
   "execution_count": 78,
   "metadata": {},
   "outputs": [],
   "source": [
    "df[\"dia_tipico\"] = df[\"dia_atipico\"].map(lambda x: 1 if x==0 else 0)\n",
    "df[\"dia_alta_demanda\"] = df[\"dia_atipico\"].map(lambda x: 1 if x==1 else 0)\n",
    "df[\"dia_baja_demanda\"] = df[\"dia_atipico\"].map(lambda x: 1 if x==1 else 0)"
   ]
  },
  {
   "cell_type": "markdown",
   "metadata": {},
   "source": [
    "<hr>"
   ]
  },
  {
   "cell_type": "markdown",
   "metadata": {},
   "source": [
    "* Atributo `campaña`"
   ]
  },
  {
   "cell_type": "code",
   "execution_count": 79,
   "metadata": {
    "scrolled": false
   },
   "outputs": [
    {
     "data": {
      "text/plain": [
       "0    4033689\n",
       "1      11333\n",
       "Name: campaña, dtype: int64"
      ]
     },
     "execution_count": 79,
     "metadata": {},
     "output_type": "execute_result"
    }
   ],
   "source": [
    "df[\"campaña\"].value_counts()"
   ]
  },
  {
   "cell_type": "code",
   "execution_count": 80,
   "metadata": {},
   "outputs": [
    {
     "data": {
      "image/png": "[encoded data removed]",
      "text/plain": [
       "<Figure size 1440x360 with 1 Axes>"
      ]
     },
     "metadata": {
      "needs_background": "light"
     },
     "output_type": "display_data"
    }
   ],
   "source": [
    "plt.figure(figsize=(20,5)) \n",
    "plt.axhline(0, color=\"black\")\n",
    "plt.bar(range(len(df.groupby([\"fecha\"]))), \n",
    "        df.groupby([\"fecha\"])[\"campaña\"].sum().to_numpy())\n",
    "\n",
    "xticks = df[\"fecha\"].unique()[range(0, len(df.groupby([\"fecha\"])), 50)]\n",
    "months = [\"Jan\", \"Feb\", \"Mar\", \"Apr\", \"May\", \"Jun\", \"Jul\", \"Aug\", \"Sep\", \"Oct\", \"Nov\", \"Dec\"]\n",
    "plt.xticks(range(0, len(df.groupby([\"fecha\"])), 50), \n",
    "           [months[tick.astype('datetime64[M]').astype(int) % 12] \\\n",
    "            + \" \" + str(tick.astype('datetime64[Y]').astype(int) + 1970) for tick in xticks])\n",
    "\n",
    "plt.show()"
   ]
  },
  {
   "cell_type": "markdown",
   "metadata": {},
   "source": [
    "<hr>"
   ]
  },
  {
   "cell_type": "markdown",
   "metadata": {},
   "source": [
    "* Atributo `antiguedad`"
   ]
  },
  {
   "cell_type": "code",
   "execution_count": 81,
   "metadata": {},
   "outputs": [
    {
     "data": {
      "text/plain": [
       "<AxesSubplot:>"
      ]
     },
     "execution_count": 81,
     "metadata": {},
     "output_type": "execute_result"
    },
    {
     "data": {
      "image/png": "[encoded data removed]",
      "text/plain": [
       "<Figure size 432x288 with 1 Axes>"
      ]
     },
     "metadata": {
      "needs_background": "light"
     },
     "output_type": "display_data"
    }
   ],
   "source": [
    "df[df[\"antiguedad\"].notnull()].antiguedad.hist()"
   ]
  },
  {
   "cell_type": "markdown",
   "metadata": {},
   "source": [
    "<hr>"
   ]
  },
  {
   "cell_type": "code",
   "execution_count": 82,
   "metadata": {
    "scrolled": true
   },
   "outputs": [
    {
     "data": {
      "text/html": [
       "<div>\n",
       "<style scoped>\n",
       "    .dataframe tbody tr th:only-of-type {\n",
       "        vertical-align: middle;\n",
       "    }\n",
       "\n",
       "    .dataframe tbody tr th {\n",
       "        vertical-align: top;\n",
       "    }\n",
       "\n",
       "    .dataframe thead th {\n",
       "        text-align: right;\n",
       "    }\n",
       "</style>\n",
       "<table border=\"1\" class=\"dataframe\">\n",
       "  <thead>\n",
       "    <tr style=\"text-align: right;\">\n",
       "      <th></th>\n",
       "      <th>id</th>\n",
       "      <th>visitas</th>\n",
       "      <th>categoria_dos</th>\n",
       "      <th>precio</th>\n",
       "      <th>dia_atipico</th>\n",
       "      <th>campaña</th>\n",
       "      <th>antiguedad</th>\n",
       "      <th>unidades_vendidas</th>\n",
       "      <th>weekday</th>\n",
       "      <th>month</th>\n",
       "      <th>dia_tipico</th>\n",
       "      <th>dia_alta_demanda</th>\n",
       "      <th>dia_baja_demanda</th>\n",
       "    </tr>\n",
       "  </thead>\n",
       "  <tbody>\n",
       "    <tr>\n",
       "      <th>count</th>\n",
       "      <td>4.045022e+06</td>\n",
       "      <td>4.045022e+06</td>\n",
       "      <td>4.039178e+06</td>\n",
       "      <td>1.402111e+06</td>\n",
       "      <td>4.045022e+06</td>\n",
       "      <td>4.045022e+06</td>\n",
       "      <td>3.170857e+06</td>\n",
       "      <td>4.045022e+06</td>\n",
       "      <td>4.045022e+06</td>\n",
       "      <td>4.045022e+06</td>\n",
       "      <td>4.045022e+06</td>\n",
       "      <td>4.045022e+06</td>\n",
       "      <td>4.045022e+06</td>\n",
       "    </tr>\n",
       "    <tr>\n",
       "      <th>mean</th>\n",
       "      <td>2.745180e+05</td>\n",
       "      <td>1.721371e+02</td>\n",
       "      <td>2.016524e+02</td>\n",
       "      <td>3.424319e+01</td>\n",
       "      <td>6.365503e-02</td>\n",
       "      <td>2.801715e-03</td>\n",
       "      <td>1.011114e+03</td>\n",
       "      <td>4.693434e+00</td>\n",
       "      <td>2.995893e+00</td>\n",
       "      <td>6.770021e+00</td>\n",
       "      <td>8.665298e-01</td>\n",
       "      <td>9.856263e-02</td>\n",
       "      <td>9.856263e-02</td>\n",
       "    </tr>\n",
       "    <tr>\n",
       "      <th>std</th>\n",
       "      <td>8.336719e+04</td>\n",
       "      <td>6.889116e+02</td>\n",
       "      <td>1.179997e+02</td>\n",
       "      <td>2.330943e+01</td>\n",
       "      <td>3.597475e-01</td>\n",
       "      <td>5.285704e-02</td>\n",
       "      <td>7.162509e+02</td>\n",
       "      <td>2.237403e+01</td>\n",
       "      <td>1.994856e+00</td>\n",
       "      <td>3.065421e+00</td>\n",
       "      <td>3.400823e-01</td>\n",
       "      <td>2.980739e-01</td>\n",
       "      <td>2.980739e-01</td>\n",
       "    </tr>\n",
       "    <tr>\n",
       "      <th>min</th>\n",
       "      <td>2.197200e+04</td>\n",
       "      <td>0.000000e+00</td>\n",
       "      <td>2.000000e+00</td>\n",
       "      <td>3.570000e+00</td>\n",
       "      <td>-1.000000e+00</td>\n",
       "      <td>0.000000e+00</td>\n",
       "      <td>1.260000e+02</td>\n",
       "      <td>0.000000e+00</td>\n",
       "      <td>0.000000e+00</td>\n",
       "      <td>1.000000e+00</td>\n",
       "      <td>0.000000e+00</td>\n",
       "      <td>0.000000e+00</td>\n",
       "      <td>0.000000e+00</td>\n",
       "    </tr>\n",
       "    <tr>\n",
       "      <th>25%</th>\n",
       "      <td>2.122940e+05</td>\n",
       "      <td>7.000000e+00</td>\n",
       "      <td>8.200000e+01</td>\n",
       "      <td>1.652000e+01</td>\n",
       "      <td>0.000000e+00</td>\n",
       "      <td>0.000000e+00</td>\n",
       "      <td>5.240000e+02</td>\n",
       "      <td>0.000000e+00</td>\n",
       "      <td>1.000000e+00</td>\n",
       "      <td>5.000000e+00</td>\n",
       "      <td>1.000000e+00</td>\n",
       "      <td>0.000000e+00</td>\n",
       "      <td>0.000000e+00</td>\n",
       "    </tr>\n",
       "    <tr>\n",
       "      <th>50%</th>\n",
       "      <td>2.926720e+05</td>\n",
       "      <td>3.500000e+01</td>\n",
       "      <td>2.360000e+02</td>\n",
       "      <td>2.689000e+01</td>\n",
       "      <td>0.000000e+00</td>\n",
       "      <td>0.000000e+00</td>\n",
       "      <td>7.950000e+02</td>\n",
       "      <td>0.000000e+00</td>\n",
       "      <td>3.000000e+00</td>\n",
       "      <td>7.000000e+00</td>\n",
       "      <td>1.000000e+00</td>\n",
       "      <td>0.000000e+00</td>\n",
       "      <td>0.000000e+00</td>\n",
       "    </tr>\n",
       "    <tr>\n",
       "      <th>75%</th>\n",
       "      <td>3.379000e+05</td>\n",
       "      <td>1.300000e+02</td>\n",
       "      <td>3.070000e+02</td>\n",
       "      <td>4.535000e+01</td>\n",
       "      <td>0.000000e+00</td>\n",
       "      <td>0.000000e+00</td>\n",
       "      <td>1.244000e+03</td>\n",
       "      <td>3.000000e+00</td>\n",
       "      <td>5.000000e+00</td>\n",
       "      <td>9.000000e+00</td>\n",
       "      <td>1.000000e+00</td>\n",
       "      <td>0.000000e+00</td>\n",
       "      <td>0.000000e+00</td>\n",
       "    </tr>\n",
       "    <tr>\n",
       "      <th>max</th>\n",
       "      <td>4.586600e+05</td>\n",
       "      <td>1.200450e+05</td>\n",
       "      <td>3.430000e+02</td>\n",
       "      <td>1.757800e+02</td>\n",
       "      <td>1.000000e+00</td>\n",
       "      <td>1.000000e+00</td>\n",
       "      <td>5.310000e+03</td>\n",
       "      <td>4.881000e+03</td>\n",
       "      <td>6.000000e+00</td>\n",
       "      <td>1.200000e+01</td>\n",
       "      <td>1.000000e+00</td>\n",
       "      <td>1.000000e+00</td>\n",
       "      <td>1.000000e+00</td>\n",
       "    </tr>\n",
       "  </tbody>\n",
       "</table>\n",
       "</div>"
      ],
      "text/plain": [
       "                 id       visitas  categoria_dos        precio   dia_atipico  \\\n",
       "count  4.045022e+06  4.045022e+06   4.039178e+06  1.402111e+06  4.045022e+06   \n",
       "mean   2.745180e+05  1.721371e+02   2.016524e+02  3.424319e+01  6.365503e-02   \n",
       "std    8.336719e+04  6.889116e+02   1.179997e+02  2.330943e+01  3.597475e-01   \n",
       "min    2.197200e+04  0.000000e+00   2.000000e+00  3.570000e+00 -1.000000e+00   \n",
       "25%    2.122940e+05  7.000000e+00   8.200000e+01  1.652000e+01  0.000000e+00   \n",
       "50%    2.926720e+05  3.500000e+01   2.360000e+02  2.689000e+01  0.000000e+00   \n",
       "75%    3.379000e+05  1.300000e+02   3.070000e+02  4.535000e+01  0.000000e+00   \n",
       "max    4.586600e+05  1.200450e+05   3.430000e+02  1.757800e+02  1.000000e+00   \n",
       "\n",
       "            campaña    antiguedad  unidades_vendidas       weekday  \\\n",
       "count  4.045022e+06  3.170857e+06       4.045022e+06  4.045022e+06   \n",
       "mean   2.801715e-03  1.011114e+03       4.693434e+00  2.995893e+00   \n",
       "std    5.285704e-02  7.162509e+02       2.237403e+01  1.994856e+00   \n",
       "min    0.000000e+00  1.260000e+02       0.000000e+00  0.000000e+00   \n",
       "25%    0.000000e+00  5.240000e+02       0.000000e+00  1.000000e+00   \n",
       "50%    0.000000e+00  7.950000e+02       0.000000e+00  3.000000e+00   \n",
       "75%    0.000000e+00  1.244000e+03       3.000000e+00  5.000000e+00   \n",
       "max    1.000000e+00  5.310000e+03       4.881000e+03  6.000000e+00   \n",
       "\n",
       "              month    dia_tipico  dia_alta_demanda  dia_baja_demanda  \n",
       "count  4.045022e+06  4.045022e+06      4.045022e+06      4.045022e+06  \n",
       "mean   6.770021e+00  8.665298e-01      9.856263e-02      9.856263e-02  \n",
       "std    3.065421e+00  3.400823e-01      2.980739e-01      2.980739e-01  \n",
       "min    1.000000e+00  0.000000e+00      0.000000e+00      0.000000e+00  \n",
       "25%    5.000000e+00  1.000000e+00      0.000000e+00      0.000000e+00  \n",
       "50%    7.000000e+00  1.000000e+00      0.000000e+00      0.000000e+00  \n",
       "75%    9.000000e+00  1.000000e+00      0.000000e+00      0.000000e+00  \n",
       "max    1.200000e+01  1.000000e+00      1.000000e+00      1.000000e+00  "
      ]
     },
     "execution_count": 82,
     "metadata": {},
     "output_type": "execute_result"
    }
   ],
   "source": [
    "df.describe(include=['int64', 'float64', 'object'])"
   ]
  },
  {
   "cell_type": "code",
   "execution_count": 83,
   "metadata": {
    "scrolled": false
   },
   "outputs": [
    {
     "data": {
      "image/png": "[encoded data removed]",
      "text/plain": [
       "<Figure size 1440x1440 with 16 Axes>"
      ]
     },
     "metadata": {
      "needs_background": "light"
     },
     "output_type": "display_data"
    }
   ],
   "source": [
    "df.hist(bins=30, figsize=(20,20))\n",
    "plt.show()"
   ]
  },
  {
   "cell_type": "markdown",
   "metadata": {},
   "source": [
    " "
   ]
  },
  {
   "cell_type": "markdown",
   "metadata": {},
   "source": [
    "### Relaciones entre atributos"
   ]
  },
  {
   "cell_type": "markdown",
   "metadata": {},
   "source": [
    "Cuando hay campaña no hay casi roturas en comparación con cuando no hay campaña, ya que se debe estar más preparado por si esto pueda ocurrir:"
   ]
  },
  {
   "cell_type": "code",
   "execution_count": 84,
   "metadata": {},
   "outputs": [
    {
     "data": {
      "text/plain": [
       "estado     campaña\n",
       "No Rotura  0          3377258\n",
       "           1            10926\n",
       "Rotura     0           606426\n",
       "           1              104\n",
       "Transito   0            50005\n",
       "           1              303\n",
       "dtype: int64"
      ]
     },
     "execution_count": 84,
     "metadata": {},
     "output_type": "execute_result"
    }
   ],
   "source": [
    "df.groupby(['estado', 'campaña']).size()"
   ]
  },
  {
   "cell_type": "markdown",
   "metadata": {},
   "source": [
    "Cuando hay campaña no hay días con menos demanda de la habitual, y no es un factor muy determinante para que haya más demanda de la habitual:"
   ]
  },
  {
   "cell_type": "code",
   "execution_count": 85,
   "metadata": {},
   "outputs": [
    {
     "data": {
      "text/plain": [
       "dia_atipico  campaña\n",
       "-1           0           141202\n",
       " 0           0          3504811\n",
       "             1              321\n",
       " 1           0           387676\n",
       "             1            11012\n",
       "dtype: int64"
      ]
     },
     "execution_count": 85,
     "metadata": {},
     "output_type": "execute_result"
    }
   ],
   "source": [
    "df.groupby(['dia_atipico', 'campaña']).size()"
   ]
  },
  {
   "cell_type": "markdown",
   "metadata": {},
   "source": [
    "A simple vista no hay una clara relación entre que haya stock del artículo y sea un día atípico:"
   ]
  },
  {
   "cell_type": "code",
   "execution_count": 86,
   "metadata": {
    "scrolled": false
   },
   "outputs": [
    {
     "data": {
      "text/plain": [
       "estado     dia_atipico\n",
       "No Rotura  -1              121568\n",
       "            0             2923646\n",
       "            1              342970\n",
       "Rotura     -1               18303\n",
       "            0              540057\n",
       "            1               48170\n",
       "Transito   -1                1331\n",
       "            0               41429\n",
       "            1                7548\n",
       "dtype: int64"
      ]
     },
     "execution_count": 86,
     "metadata": {},
     "output_type": "execute_result"
    }
   ],
   "source": [
    "df.groupby(['estado', 'dia_atipico']).size()"
   ]
  },
  {
   "cell_type": "code",
   "execution_count": 87,
   "metadata": {},
   "outputs": [],
   "source": [
    "categorias_grouped = df.groupby(['categoria_uno'])"
   ]
  },
  {
   "cell_type": "code",
   "execution_count": 88,
   "metadata": {},
   "outputs": [
    {
     "data": {
      "text/html": [
       "<div>\n",
       "<style scoped>\n",
       "    .dataframe tbody tr th:only-of-type {\n",
       "        vertical-align: middle;\n",
       "    }\n",
       "\n",
       "    .dataframe tbody tr th {\n",
       "        vertical-align: top;\n",
       "    }\n",
       "\n",
       "    .dataframe thead tr th {\n",
       "        text-align: left;\n",
       "    }\n",
       "\n",
       "    .dataframe thead tr:last-of-type th {\n",
       "        text-align: right;\n",
       "    }\n",
       "</style>\n",
       "<table border=\"1\" class=\"dataframe\">\n",
       "  <thead>\n",
       "    <tr>\n",
       "      <th></th>\n",
       "      <th colspan=\"2\" halign=\"left\">visitas</th>\n",
       "      <th colspan=\"2\" halign=\"left\">precio</th>\n",
       "      <th colspan=\"2\" halign=\"left\">unidades_vendidas</th>\n",
       "    </tr>\n",
       "    <tr>\n",
       "      <th></th>\n",
       "      <th>sum</th>\n",
       "      <th>mean</th>\n",
       "      <th>mean</th>\n",
       "      <th>var</th>\n",
       "      <th>sum</th>\n",
       "      <th>mean</th>\n",
       "    </tr>\n",
       "    <tr>\n",
       "      <th>categoria_uno</th>\n",
       "      <th></th>\n",
       "      <th></th>\n",
       "      <th></th>\n",
       "      <th></th>\n",
       "      <th></th>\n",
       "      <th></th>\n",
       "    </tr>\n",
       "  </thead>\n",
       "  <tbody>\n",
       "    <tr>\n",
       "      <th>A</th>\n",
       "      <td>259529032</td>\n",
       "      <td>165.193374</td>\n",
       "      <td>28.135854</td>\n",
       "      <td>182.683630</td>\n",
       "      <td>9013650</td>\n",
       "      <td>5.737297</td>\n",
       "    </tr>\n",
       "    <tr>\n",
       "      <th>H</th>\n",
       "      <td>131427484</td>\n",
       "      <td>268.262058</td>\n",
       "      <td>57.843376</td>\n",
       "      <td>783.411286</td>\n",
       "      <td>2204586</td>\n",
       "      <td>4.499871</td>\n",
       "    </tr>\n",
       "    <tr>\n",
       "      <th>K</th>\n",
       "      <td>117196529</td>\n",
       "      <td>201.549378</td>\n",
       "      <td>40.573421</td>\n",
       "      <td>545.917662</td>\n",
       "      <td>2829663</td>\n",
       "      <td>4.866329</td>\n",
       "    </tr>\n",
       "    <tr>\n",
       "      <th>F</th>\n",
       "      <td>111400556</td>\n",
       "      <td>243.090940</td>\n",
       "      <td>61.494298</td>\n",
       "      <td>1077.673483</td>\n",
       "      <td>1253325</td>\n",
       "      <td>2.734923</td>\n",
       "    </tr>\n",
       "    <tr>\n",
       "      <th>E</th>\n",
       "      <td>38159451</td>\n",
       "      <td>118.362783</td>\n",
       "      <td>26.204836</td>\n",
       "      <td>236.269129</td>\n",
       "      <td>1333656</td>\n",
       "      <td>4.136727</td>\n",
       "    </tr>\n",
       "    <tr>\n",
       "      <th>G</th>\n",
       "      <td>14148611</td>\n",
       "      <td>81.152484</td>\n",
       "      <td>22.021345</td>\n",
       "      <td>71.597622</td>\n",
       "      <td>742929</td>\n",
       "      <td>4.261233</td>\n",
       "    </tr>\n",
       "    <tr>\n",
       "      <th>L</th>\n",
       "      <td>11817694</td>\n",
       "      <td>102.389503</td>\n",
       "      <td>36.455702</td>\n",
       "      <td>208.404107</td>\n",
       "      <td>355317</td>\n",
       "      <td>3.078497</td>\n",
       "    </tr>\n",
       "    <tr>\n",
       "      <th>I</th>\n",
       "      <td>4830183</td>\n",
       "      <td>71.871306</td>\n",
       "      <td>27.610438</td>\n",
       "      <td>201.739234</td>\n",
       "      <td>163605</td>\n",
       "      <td>2.434381</td>\n",
       "    </tr>\n",
       "    <tr>\n",
       "      <th>C</th>\n",
       "      <td>3642222</td>\n",
       "      <td>21.008133</td>\n",
       "      <td>9.483889</td>\n",
       "      <td>14.025237</td>\n",
       "      <td>833883</td>\n",
       "      <td>4.809791</td>\n",
       "    </tr>\n",
       "    <tr>\n",
       "      <th>O</th>\n",
       "      <td>2632651</td>\n",
       "      <td>360.390281</td>\n",
       "      <td>49.872613</td>\n",
       "      <td>209.907394</td>\n",
       "      <td>24405</td>\n",
       "      <td>3.340862</td>\n",
       "    </tr>\n",
       "    <tr>\n",
       "      <th>B</th>\n",
       "      <td>1073978</td>\n",
       "      <td>13.697476</td>\n",
       "      <td>16.103079</td>\n",
       "      <td>24.480264</td>\n",
       "      <td>217794</td>\n",
       "      <td>2.777737</td>\n",
       "    </tr>\n",
       "    <tr>\n",
       "      <th>N</th>\n",
       "      <td>430117</td>\n",
       "      <td>80.290648</td>\n",
       "      <td>15.309675</td>\n",
       "      <td>14.355162</td>\n",
       "      <td>11223</td>\n",
       "      <td>2.095016</td>\n",
       "    </tr>\n",
       "    <tr>\n",
       "      <th>D</th>\n",
       "      <td>9695</td>\n",
       "      <td>19.907598</td>\n",
       "      <td>14.842174</td>\n",
       "      <td>0.657057</td>\n",
       "      <td>1008</td>\n",
       "      <td>2.069815</td>\n",
       "    </tr>\n",
       "  </tbody>\n",
       "</table>\n",
       "</div>"
      ],
      "text/plain": [
       "                 visitas                 precio               \\\n",
       "                     sum        mean       mean          var   \n",
       "categoria_uno                                                  \n",
       "A              259529032  165.193374  28.135854   182.683630   \n",
       "H              131427484  268.262058  57.843376   783.411286   \n",
       "K              117196529  201.549378  40.573421   545.917662   \n",
       "F              111400556  243.090940  61.494298  1077.673483   \n",
       "E               38159451  118.362783  26.204836   236.269129   \n",
       "G               14148611   81.152484  22.021345    71.597622   \n",
       "L               11817694  102.389503  36.455702   208.404107   \n",
       "I                4830183   71.871306  27.610438   201.739234   \n",
       "C                3642222   21.008133   9.483889    14.025237   \n",
       "O                2632651  360.390281  49.872613   209.907394   \n",
       "B                1073978   13.697476  16.103079    24.480264   \n",
       "N                 430117   80.290648  15.309675    14.355162   \n",
       "D                   9695   19.907598  14.842174     0.657057   \n",
       "\n",
       "              unidades_vendidas            \n",
       "                            sum      mean  \n",
       "categoria_uno                              \n",
       "A                       9013650  5.737297  \n",
       "H                       2204586  4.499871  \n",
       "K                       2829663  4.866329  \n",
       "F                       1253325  2.734923  \n",
       "E                       1333656  4.136727  \n",
       "G                        742929  4.261233  \n",
       "L                        355317  3.078497  \n",
       "I                        163605  2.434381  \n",
       "C                        833883  4.809791  \n",
       "O                         24405  3.340862  \n",
       "B                        217794  2.777737  \n",
       "N                         11223  2.095016  \n",
       "D                          1008  2.069815  "
      ]
     },
     "execution_count": 88,
     "metadata": {},
     "output_type": "execute_result"
    }
   ],
   "source": [
    "categorias_grouped.agg(\n",
    "    {\"visitas\" : [\"sum\", \"mean\"],\n",
    "     \"precio\" : [\"mean\", \"var\"],\n",
    "     \"unidades_vendidas\" : [\"sum\", \"mean\"]\n",
    "     }).sort_values(by=('visitas', 'sum'), ascending=False)"
   ]
  },
  {
   "cell_type": "code",
   "execution_count": 89,
   "metadata": {},
   "outputs": [
    {
     "data": {
      "text/html": [
       "<div>\n",
       "<style scoped>\n",
       "    .dataframe tbody tr th:only-of-type {\n",
       "        vertical-align: middle;\n",
       "    }\n",
       "\n",
       "    .dataframe tbody tr th {\n",
       "        vertical-align: top;\n",
       "    }\n",
       "\n",
       "    .dataframe thead tr th {\n",
       "        text-align: left;\n",
       "    }\n",
       "\n",
       "    .dataframe thead tr:last-of-type th {\n",
       "        text-align: right;\n",
       "    }\n",
       "</style>\n",
       "<table border=\"1\" class=\"dataframe\">\n",
       "  <thead>\n",
       "    <tr>\n",
       "      <th></th>\n",
       "      <th colspan=\"3\" halign=\"left\">categoria_dos</th>\n",
       "    </tr>\n",
       "    <tr>\n",
       "      <th></th>\n",
       "      <th>mean</th>\n",
       "      <th>min</th>\n",
       "      <th>max</th>\n",
       "    </tr>\n",
       "    <tr>\n",
       "      <th>categoria_uno</th>\n",
       "      <th></th>\n",
       "      <th></th>\n",
       "      <th></th>\n",
       "    </tr>\n",
       "  </thead>\n",
       "  <tbody>\n",
       "    <tr>\n",
       "      <th>A</th>\n",
       "      <td>161.042171</td>\n",
       "      <td>16.0</td>\n",
       "      <td>343.0</td>\n",
       "    </tr>\n",
       "    <tr>\n",
       "      <th>B</th>\n",
       "      <td>249.391304</td>\n",
       "      <td>57.0</td>\n",
       "      <td>312.0</td>\n",
       "    </tr>\n",
       "    <tr>\n",
       "      <th>C</th>\n",
       "      <td>120.938202</td>\n",
       "      <td>63.0</td>\n",
       "      <td>170.0</td>\n",
       "    </tr>\n",
       "    <tr>\n",
       "      <th>D</th>\n",
       "      <td>264.000000</td>\n",
       "      <td>264.0</td>\n",
       "      <td>264.0</td>\n",
       "    </tr>\n",
       "    <tr>\n",
       "      <th>E</th>\n",
       "      <td>165.648402</td>\n",
       "      <td>10.0</td>\n",
       "      <td>323.0</td>\n",
       "    </tr>\n",
       "    <tr>\n",
       "      <th>F</th>\n",
       "      <td>279.104701</td>\n",
       "      <td>20.0</td>\n",
       "      <td>341.0</td>\n",
       "    </tr>\n",
       "    <tr>\n",
       "      <th>G</th>\n",
       "      <td>174.455307</td>\n",
       "      <td>29.0</td>\n",
       "      <td>298.0</td>\n",
       "    </tr>\n",
       "    <tr>\n",
       "      <th>H</th>\n",
       "      <td>270.675622</td>\n",
       "      <td>2.0</td>\n",
       "      <td>326.0</td>\n",
       "    </tr>\n",
       "    <tr>\n",
       "      <th>I</th>\n",
       "      <td>160.384058</td>\n",
       "      <td>5.0</td>\n",
       "      <td>331.0</td>\n",
       "    </tr>\n",
       "    <tr>\n",
       "      <th>K</th>\n",
       "      <td>233.314070</td>\n",
       "      <td>7.0</td>\n",
       "      <td>340.0</td>\n",
       "    </tr>\n",
       "    <tr>\n",
       "      <th>L</th>\n",
       "      <td>247.945148</td>\n",
       "      <td>14.0</td>\n",
       "      <td>296.0</td>\n",
       "    </tr>\n",
       "    <tr>\n",
       "      <th>N</th>\n",
       "      <td>204.909091</td>\n",
       "      <td>116.0</td>\n",
       "      <td>278.0</td>\n",
       "    </tr>\n",
       "    <tr>\n",
       "      <th>O</th>\n",
       "      <td>226.000000</td>\n",
       "      <td>226.0</td>\n",
       "      <td>226.0</td>\n",
       "    </tr>\n",
       "  </tbody>\n",
       "</table>\n",
       "</div>"
      ],
      "text/plain": [
       "              categoria_dos              \n",
       "                       mean    min    max\n",
       "categoria_uno                            \n",
       "A                161.042171   16.0  343.0\n",
       "B                249.391304   57.0  312.0\n",
       "C                120.938202   63.0  170.0\n",
       "D                264.000000  264.0  264.0\n",
       "E                165.648402   10.0  323.0\n",
       "F                279.104701   20.0  341.0\n",
       "G                174.455307   29.0  298.0\n",
       "H                270.675622    2.0  326.0\n",
       "I                160.384058    5.0  331.0\n",
       "K                233.314070    7.0  340.0\n",
       "L                247.945148   14.0  296.0\n",
       "N                204.909091  116.0  278.0\n",
       "O                226.000000  226.0  226.0"
      ]
     },
     "execution_count": 89,
     "metadata": {},
     "output_type": "execute_result"
    }
   ],
   "source": [
    "categorias_grouped.agg({\"categoria_dos\" : [\"mean\", \"min\", \"max\"],})"
   ]
  },
  {
   "cell_type": "markdown",
   "metadata": {},
   "source": [
    "Cuando hay campaña se venden muchos más artículos:"
   ]
  },
  {
   "cell_type": "code",
   "execution_count": 90,
   "metadata": {
    "scrolled": false
   },
   "outputs": [
    {
     "data": {
      "text/html": [
       "<div>\n",
       "<style scoped>\n",
       "    .dataframe tbody tr th:only-of-type {\n",
       "        vertical-align: middle;\n",
       "    }\n",
       "\n",
       "    .dataframe tbody tr th {\n",
       "        vertical-align: top;\n",
       "    }\n",
       "\n",
       "    .dataframe thead tr th {\n",
       "        text-align: left;\n",
       "    }\n",
       "\n",
       "    .dataframe thead tr:last-of-type th {\n",
       "        text-align: right;\n",
       "    }\n",
       "</style>\n",
       "<table border=\"1\" class=\"dataframe\">\n",
       "  <thead>\n",
       "    <tr>\n",
       "      <th></th>\n",
       "      <th></th>\n",
       "      <th colspan=\"2\" halign=\"left\">unidades_vendidas</th>\n",
       "    </tr>\n",
       "    <tr>\n",
       "      <th></th>\n",
       "      <th></th>\n",
       "      <th>mean</th>\n",
       "      <th>var</th>\n",
       "    </tr>\n",
       "    <tr>\n",
       "      <th>categoria_uno</th>\n",
       "      <th>campaña</th>\n",
       "      <th></th>\n",
       "      <th></th>\n",
       "    </tr>\n",
       "  </thead>\n",
       "  <tbody>\n",
       "    <tr>\n",
       "      <th rowspan=\"2\" valign=\"top\">A</th>\n",
       "      <th>0</th>\n",
       "      <td>5.574576</td>\n",
       "      <td>547.222044</td>\n",
       "    </tr>\n",
       "    <tr>\n",
       "      <th>1</th>\n",
       "      <td>57.789828</td>\n",
       "      <td>18595.451835</td>\n",
       "    </tr>\n",
       "    <tr>\n",
       "      <th rowspan=\"2\" valign=\"top\">B</th>\n",
       "      <th>0</th>\n",
       "      <td>2.761767</td>\n",
       "      <td>36.957297</td>\n",
       "    </tr>\n",
       "    <tr>\n",
       "      <th>1</th>\n",
       "      <td>25.527273</td>\n",
       "      <td>1428.957576</td>\n",
       "    </tr>\n",
       "    <tr>\n",
       "      <th rowspan=\"2\" valign=\"top\">C</th>\n",
       "      <th>0</th>\n",
       "      <td>4.805497</td>\n",
       "      <td>386.925597</td>\n",
       "    </tr>\n",
       "    <tr>\n",
       "      <th>1</th>\n",
       "      <td>24.394737</td>\n",
       "      <td>580.461593</td>\n",
       "    </tr>\n",
       "    <tr>\n",
       "      <th rowspan=\"2\" valign=\"top\">D</th>\n",
       "      <th>0</th>\n",
       "      <td>2.069815</td>\n",
       "      <td>42.484828</td>\n",
       "    </tr>\n",
       "    <tr>\n",
       "      <th>1</th>\n",
       "      <td>NaN</td>\n",
       "      <td>NaN</td>\n",
       "    </tr>\n",
       "    <tr>\n",
       "      <th rowspan=\"2\" valign=\"top\">E</th>\n",
       "      <th>0</th>\n",
       "      <td>4.004207</td>\n",
       "      <td>692.191218</td>\n",
       "    </tr>\n",
       "    <tr>\n",
       "      <th>1</th>\n",
       "      <td>45.483495</td>\n",
       "      <td>11425.987580</td>\n",
       "    </tr>\n",
       "    <tr>\n",
       "      <th rowspan=\"2\" valign=\"top\">F</th>\n",
       "      <th>0</th>\n",
       "      <td>2.552826</td>\n",
       "      <td>169.967505</td>\n",
       "    </tr>\n",
       "    <tr>\n",
       "      <th>1</th>\n",
       "      <td>67.900548</td>\n",
       "      <td>35563.235399</td>\n",
       "    </tr>\n",
       "    <tr>\n",
       "      <th rowspan=\"2\" valign=\"top\">G</th>\n",
       "      <th>0</th>\n",
       "      <td>4.226818</td>\n",
       "      <td>87.743215</td>\n",
       "    </tr>\n",
       "    <tr>\n",
       "      <th>1</th>\n",
       "      <td>22.409091</td>\n",
       "      <td>842.394446</td>\n",
       "    </tr>\n",
       "    <tr>\n",
       "      <th rowspan=\"2\" valign=\"top\">H</th>\n",
       "      <th>0</th>\n",
       "      <td>4.360649</td>\n",
       "      <td>241.564276</td>\n",
       "    </tr>\n",
       "    <tr>\n",
       "      <th>1</th>\n",
       "      <td>40.165354</td>\n",
       "      <td>8752.114976</td>\n",
       "    </tr>\n",
       "    <tr>\n",
       "      <th rowspan=\"2\" valign=\"top\">I</th>\n",
       "      <th>0</th>\n",
       "      <td>2.369752</td>\n",
       "      <td>55.419969</td>\n",
       "    </tr>\n",
       "    <tr>\n",
       "      <th>1</th>\n",
       "      <td>26.500000</td>\n",
       "      <td>2389.324022</td>\n",
       "    </tr>\n",
       "    <tr>\n",
       "      <th rowspan=\"2\" valign=\"top\">K</th>\n",
       "      <th>0</th>\n",
       "      <td>4.649973</td>\n",
       "      <td>599.279766</td>\n",
       "    </tr>\n",
       "    <tr>\n",
       "      <th>1</th>\n",
       "      <td>99.099099</td>\n",
       "      <td>68094.422929</td>\n",
       "    </tr>\n",
       "    <tr>\n",
       "      <th rowspan=\"2\" valign=\"top\">L</th>\n",
       "      <th>0</th>\n",
       "      <td>2.979498</td>\n",
       "      <td>122.384871</td>\n",
       "    </tr>\n",
       "    <tr>\n",
       "      <th>1</th>\n",
       "      <td>46.758621</td>\n",
       "      <td>7145.976127</td>\n",
       "    </tr>\n",
       "    <tr>\n",
       "      <th rowspan=\"2\" valign=\"top\">N</th>\n",
       "      <th>0</th>\n",
       "      <td>2.076837</td>\n",
       "      <td>22.744843</td>\n",
       "    </tr>\n",
       "    <tr>\n",
       "      <th>1</th>\n",
       "      <td>14.250000</td>\n",
       "      <td>369.642857</td>\n",
       "    </tr>\n",
       "    <tr>\n",
       "      <th rowspan=\"2\" valign=\"top\">O</th>\n",
       "      <th>0</th>\n",
       "      <td>3.227759</td>\n",
       "      <td>89.012652</td>\n",
       "    </tr>\n",
       "    <tr>\n",
       "      <th>1</th>\n",
       "      <td>42.571429</td>\n",
       "      <td>2302.757143</td>\n",
       "    </tr>\n",
       "  </tbody>\n",
       "</table>\n",
       "</div>"
      ],
      "text/plain": [
       "                      unidades_vendidas              \n",
       "                                   mean           var\n",
       "categoria_uno campaña                                \n",
       "A             0                5.574576    547.222044\n",
       "              1               57.789828  18595.451835\n",
       "B             0                2.761767     36.957297\n",
       "              1               25.527273   1428.957576\n",
       "C             0                4.805497    386.925597\n",
       "              1               24.394737    580.461593\n",
       "D             0                2.069815     42.484828\n",
       "              1                     NaN           NaN\n",
       "E             0                4.004207    692.191218\n",
       "              1               45.483495  11425.987580\n",
       "F             0                2.552826    169.967505\n",
       "              1               67.900548  35563.235399\n",
       "G             0                4.226818     87.743215\n",
       "              1               22.409091    842.394446\n",
       "H             0                4.360649    241.564276\n",
       "              1               40.165354   8752.114976\n",
       "I             0                2.369752     55.419969\n",
       "              1               26.500000   2389.324022\n",
       "K             0                4.649973    599.279766\n",
       "              1               99.099099  68094.422929\n",
       "L             0                2.979498    122.384871\n",
       "              1               46.758621   7145.976127\n",
       "N             0                2.076837     22.744843\n",
       "              1               14.250000    369.642857\n",
       "O             0                3.227759     89.012652\n",
       "              1               42.571429   2302.757143"
      ]
     },
     "execution_count": 90,
     "metadata": {},
     "output_type": "execute_result"
    }
   ],
   "source": [
    "df.groupby([\"categoria_uno\", \"campaña\"]).agg({\"unidades_vendidas\" : [\"mean\", \"var\"]})"
   ]
  },
  {
   "cell_type": "code",
   "execution_count": 91,
   "metadata": {},
   "outputs": [],
   "source": [
    "correlation_matrix = df.corr()"
   ]
  },
  {
   "cell_type": "code",
   "execution_count": 92,
   "metadata": {
    "scrolled": true
   },
   "outputs": [
    {
     "data": {
      "text/plain": [
       "unidades_vendidas    1.000000\n",
       "visitas              0.399514\n",
       "campaña              0.125326\n",
       "dia_baja_demanda     0.109395\n",
       "dia_alta_demanda     0.109395\n",
       "dia_atipico          0.098565\n",
       "antiguedad           0.061281\n",
       "month                0.033420\n",
       "weekday              0.033419\n",
       "categoria_dos        0.000579\n",
       "precio              -0.044440\n",
       "id                  -0.054405\n",
       "dia_tipico          -0.087500\n",
       "Name: unidades_vendidas, dtype: float64"
      ]
     },
     "execution_count": 92,
     "metadata": {},
     "output_type": "execute_result"
    }
   ],
   "source": [
    "correlation_matrix['unidades_vendidas'].sort_values(ascending=False)"
   ]
  },
  {
   "cell_type": "markdown",
   "metadata": {},
   "source": [
    "Se puede observar que están bastantes correlacionadas con la unidades vendidas"
   ]
  },
  {
   "cell_type": "markdown",
   "metadata": {},
   "source": [
    "Se crea un dataset intermedio para poder usarlo en el script de predicción"
   ]
  },
  {
   "cell_type": "code",
   "execution_count": 93,
   "metadata": {},
   "outputs": [],
   "source": [
    "df.to_csv(\"./data/Modelar_Intermedio_UH2021.txt\", sep=\"|\", date_format=\"%d/%m/%Y %H:%M:%S\", index=False)"
   ]
  }
 ],
 "metadata": {
  "kernelspec": {
   "display_name": "Python 3",
   "language": "python",
   "name": "python3"
  },
  "language_info": {
   "codemirror_mode": {
    "name": "ipython",
    "version": 3
   },
   "file_extension": ".py",
   "mimetype": "text/x-python",
   "name": "python",
   "nbconvert_exporter": "python",
   "pygments_lexer": "ipython3",
   "version": "3.8.6"
  }
 },
 "nbformat": 4,
 "nbformat_minor": 4
}
