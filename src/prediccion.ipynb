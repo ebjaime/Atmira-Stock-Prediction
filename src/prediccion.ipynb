{
 "cells": [
  {
   "cell_type": "code",
   "execution_count": 1,
   "metadata": {},
   "outputs": [],
   "source": [
    "import pandas as pd\n",
    "import numpy as np\n",
    "import matplotlib.pyplot as plt\n",
    "from datetime import datetime, date\n",
    "\n",
    "random_seed = 42"
   ]
  },
  {
   "cell_type": "code",
   "execution_count": 2,
   "metadata": {},
   "outputs": [],
   "source": [
    "date_parser = lambda x : datetime.strptime(x, \"%d/%m/%Y %H:%M:%S\")\n",
    "df = pd.read_csv(\"../data/Modelar_Intermedio_UH2021.txt\", sep=\"|\", parse_dates=['fecha'],\n",
    "                 date_parser=date_parser)"
   ]
  },
  {
   "cell_type": "markdown",
   "metadata": {},
   "source": [
    " "
   ]
  },
  {
   "cell_type": "markdown",
   "metadata": {},
   "source": [
    "## 2. Preprocesamiento de Datos"
   ]
  },
  {
   "cell_type": "markdown",
   "metadata": {},
   "source": [
    "### Atributos no necesarios"
   ]
  },
  {
   "cell_type": "markdown",
   "metadata": {},
   "source": [
    "Se eliminan las columnas de los atributos categóricos nominales `estado` y `dia_atipico` al haber sido transformados a atributos \"dummy\"."
   ]
  },
  {
   "cell_type": "code",
   "execution_count": 3,
   "metadata": {},
   "outputs": [],
   "source": [
    "df2 = df.drop([\"dia_atipico\", \"estado\"], axis=1)"
   ]
  },
  {
   "cell_type": "markdown",
   "metadata": {},
   "source": [
    "### Duplicados"
   ]
  },
  {
   "cell_type": "markdown",
   "metadata": {},
   "source": [
    "**¿Puede haber varias entradas de un mismo id en un mismo día?**"
   ]
  },
  {
   "cell_type": "code",
   "execution_count": 4,
   "metadata": {},
   "outputs": [],
   "source": [
    "df_grouped = df2.groupby(['fecha', 'id'])"
   ]
  },
  {
   "cell_type": "code",
   "execution_count": 5,
   "metadata": {},
   "outputs": [
    {
     "data": {
      "text/plain": [
       "fecha       id    \n",
       "2015-06-01  21972     1\n",
       "            23910     1\n",
       "            24306     2\n",
       "            27144     1\n",
       "            27504     1\n",
       "                     ..\n",
       "2016-09-30  456982    1\n",
       "            457416    1\n",
       "            457422    1\n",
       "            458650    1\n",
       "            458660    2\n",
       "Length: 2029816, dtype: int64"
      ]
     },
     "execution_count": 5,
     "metadata": {},
     "output_type": "execute_result"
    }
   ],
   "source": [
    "df_grouped.size()"
   ]
  },
  {
   "cell_type": "markdown",
   "metadata": {},
   "source": [
    "Por ejemplo `id` = 24306 para `fecha` = 2015-06-01"
   ]
  },
  {
   "cell_type": "code",
   "execution_count": 6,
   "metadata": {},
   "outputs": [
    {
     "data": {
      "text/html": [
       "<div>\n",
       "<style scoped>\n",
       "    .dataframe tbody tr th:only-of-type {\n",
       "        vertical-align: middle;\n",
       "    }\n",
       "\n",
       "    .dataframe tbody tr th {\n",
       "        vertical-align: top;\n",
       "    }\n",
       "\n",
       "    .dataframe thead th {\n",
       "        text-align: right;\n",
       "    }\n",
       "</style>\n",
       "<table border=\"1\" class=\"dataframe\">\n",
       "  <thead>\n",
       "    <tr style=\"text-align: right;\">\n",
       "      <th></th>\n",
       "      <th>fecha</th>\n",
       "      <th>id</th>\n",
       "      <th>visitas</th>\n",
       "      <th>categoria_uno</th>\n",
       "      <th>categoria_dos</th>\n",
       "      <th>precio</th>\n",
       "      <th>campaña</th>\n",
       "      <th>antiguedad</th>\n",
       "      <th>unidades_vendidas</th>\n",
       "      <th>weekday</th>\n",
       "      <th>month</th>\n",
       "      <th>rotura</th>\n",
       "      <th>no_rotura</th>\n",
       "      <th>transito</th>\n",
       "      <th>dia_tipico</th>\n",
       "      <th>dia_alta_demanda</th>\n",
       "      <th>dia_baja_demanda</th>\n",
       "    </tr>\n",
       "  </thead>\n",
       "  <tbody>\n",
       "    <tr>\n",
       "      <th>2</th>\n",
       "      <td>2015-06-01</td>\n",
       "      <td>24306</td>\n",
       "      <td>13</td>\n",
       "      <td>A</td>\n",
       "      <td>46.0</td>\n",
       "      <td>NaN</td>\n",
       "      <td>0</td>\n",
       "      <td>NaN</td>\n",
       "      <td>0</td>\n",
       "      <td>0</td>\n",
       "      <td>6</td>\n",
       "      <td>0</td>\n",
       "      <td>1</td>\n",
       "      <td>0</td>\n",
       "      <td>1</td>\n",
       "      <td>0</td>\n",
       "      <td>0</td>\n",
       "    </tr>\n",
       "    <tr>\n",
       "      <th>3</th>\n",
       "      <td>2015-06-01</td>\n",
       "      <td>24306</td>\n",
       "      <td>13</td>\n",
       "      <td>A</td>\n",
       "      <td>46.0</td>\n",
       "      <td>NaN</td>\n",
       "      <td>0</td>\n",
       "      <td>NaN</td>\n",
       "      <td>0</td>\n",
       "      <td>0</td>\n",
       "      <td>6</td>\n",
       "      <td>0</td>\n",
       "      <td>1</td>\n",
       "      <td>0</td>\n",
       "      <td>1</td>\n",
       "      <td>0</td>\n",
       "      <td>0</td>\n",
       "    </tr>\n",
       "  </tbody>\n",
       "</table>\n",
       "</div>"
      ],
      "text/plain": [
       "       fecha     id  visitas categoria_uno  categoria_dos  precio  campaña  \\\n",
       "2 2015-06-01  24306       13             A           46.0     NaN        0   \n",
       "3 2015-06-01  24306       13             A           46.0     NaN        0   \n",
       "\n",
       "   antiguedad  unidades_vendidas  weekday  month  rotura  no_rotura  transito  \\\n",
       "2         NaN                  0        0      6       0          1         0   \n",
       "3         NaN                  0        0      6       0          1         0   \n",
       "\n",
       "   dia_tipico  dia_alta_demanda  dia_baja_demanda  \n",
       "2           1                 0                 0  \n",
       "3           1                 0                 0  "
      ]
     },
     "execution_count": 6,
     "metadata": {},
     "output_type": "execute_result"
    }
   ],
   "source": [
    "df2.loc[(df2.fecha==\"2015-06-01\") & (df2.id==24306)]"
   ]
  },
  {
   "cell_type": "code",
   "execution_count": 7,
   "metadata": {},
   "outputs": [
    {
     "data": {
      "text/plain": [
       "677904"
      ]
     },
     "execution_count": 7,
     "metadata": {},
     "output_type": "execute_result"
    }
   ],
   "source": [
    "sum(list(df_grouped.size() > 1))"
   ]
  },
  {
   "cell_type": "code",
   "execution_count": 8,
   "metadata": {
    "scrolled": true
   },
   "outputs": [
    {
     "data": {
      "text/plain": [
       "2004985"
      ]
     },
     "execution_count": 8,
     "metadata": {},
     "output_type": "execute_result"
    }
   ],
   "source": [
    "len(df[df2.duplicated()])"
   ]
  },
  {
   "cell_type": "markdown",
   "metadata": {},
   "source": [
    "Hay filas repetidas en el dataset. En concreto **677904 casos**, haciendo un total de **2004985 filas**.\n",
    "\n",
    "Se procede a eliminar los casos duplicados."
   ]
  },
  {
   "cell_type": "code",
   "execution_count": 9,
   "metadata": {},
   "outputs": [
    {
     "name": "stdout",
     "output_type": "stream",
     "text": [
      "Número de filas tras eliminar duplicados:  2040037\n"
     ]
    }
   ],
   "source": [
    "df_duplicates_removed = df2.drop_duplicates(keep=\"first\")\n",
    "print(\"Número de filas tras eliminar duplicados: \", len(df_duplicates_removed))"
   ]
  },
  {
   "cell_type": "markdown",
   "metadata": {},
   "source": [
    "### Missing values"
   ]
  },
  {
   "cell_type": "markdown",
   "metadata": {},
   "source": [
    "Comprobamos qué categorías tienen valores `null`."
   ]
  },
  {
   "cell_type": "code",
   "execution_count": 10,
   "metadata": {
    "scrolled": true
   },
   "outputs": [
    {
     "data": {
      "text/plain": [
       "fecha                False\n",
       "id                   False\n",
       "visitas              False\n",
       "categoria_uno        False\n",
       "categoria_dos         True\n",
       "precio                True\n",
       "campaña              False\n",
       "antiguedad            True\n",
       "unidades_vendidas    False\n",
       "weekday              False\n",
       "month                False\n",
       "rotura               False\n",
       "no_rotura            False\n",
       "transito             False\n",
       "dia_tipico           False\n",
       "dia_alta_demanda     False\n",
       "dia_baja_demanda     False\n",
       "dtype: bool"
      ]
     },
     "execution_count": 10,
     "metadata": {},
     "output_type": "execute_result"
    }
   ],
   "source": [
    "df_duplicates_removed.isnull().any()"
   ]
  },
  {
   "cell_type": "code",
   "execution_count": 11,
   "metadata": {
    "scrolled": false
   },
   "outputs": [
    {
     "name": "stdout",
     "output_type": "stream",
     "text": [
      "Porcentaje (%) de valores null: \n"
     ]
    },
    {
     "data": {
      "text/plain": [
       "fecha                 0.000000\n",
       "id                    0.000000\n",
       "visitas               0.000000\n",
       "categoria_uno         0.000000\n",
       "categoria_dos         0.215339\n",
       "precio               68.620618\n",
       "campaña               0.000000\n",
       "antiguedad           23.568935\n",
       "unidades_vendidas     0.000000\n",
       "weekday               0.000000\n",
       "month                 0.000000\n",
       "rotura                0.000000\n",
       "no_rotura             0.000000\n",
       "transito              0.000000\n",
       "dia_tipico            0.000000\n",
       "dia_alta_demanda      0.000000\n",
       "dia_baja_demanda      0.000000\n",
       "dtype: float64"
      ]
     },
     "execution_count": 11,
     "metadata": {},
     "output_type": "execute_result"
    }
   ],
   "source": [
    "print(\"Porcentaje (%) de valores null: \")\n",
    "100 * df_duplicates_removed.isnull().sum() / len(df_duplicates_removed)"
   ]
  },
  {
   "cell_type": "markdown",
   "metadata": {},
   "source": [
    "Los atributos `categoria_dos`, `precio` y `antiguedad` tienen *missing values*. En la información del dataset nos dicen que para `precio` hay que completarlo con el valor de la fecha anterior más cercana. De los demás no dice nada. "
   ]
  },
  {
   "cell_type": "code",
   "execution_count": 12,
   "metadata": {},
   "outputs": [],
   "source": [
    "df_updated_prices = df_duplicates_removed.copy()"
   ]
  },
  {
   "cell_type": "code",
   "execution_count": 13,
   "metadata": {},
   "outputs": [],
   "source": [
    "df_updated_prices['precio'] = df_duplicates_removed.groupby(['id'])['precio'].ffill()"
   ]
  },
  {
   "cell_type": "code",
   "execution_count": 14,
   "metadata": {
    "scrolled": true
   },
   "outputs": [
    {
     "data": {
      "text/html": [
       "<div>\n",
       "<style scoped>\n",
       "    .dataframe tbody tr th:only-of-type {\n",
       "        vertical-align: middle;\n",
       "    }\n",
       "\n",
       "    .dataframe tbody tr th {\n",
       "        vertical-align: top;\n",
       "    }\n",
       "\n",
       "    .dataframe thead th {\n",
       "        text-align: right;\n",
       "    }\n",
       "</style>\n",
       "<table border=\"1\" class=\"dataframe\">\n",
       "  <thead>\n",
       "    <tr style=\"text-align: right;\">\n",
       "      <th></th>\n",
       "      <th>fecha</th>\n",
       "      <th>id</th>\n",
       "      <th>visitas</th>\n",
       "      <th>categoria_uno</th>\n",
       "      <th>categoria_dos</th>\n",
       "      <th>precio</th>\n",
       "      <th>campaña</th>\n",
       "      <th>antiguedad</th>\n",
       "      <th>unidades_vendidas</th>\n",
       "      <th>weekday</th>\n",
       "      <th>month</th>\n",
       "      <th>rotura</th>\n",
       "      <th>no_rotura</th>\n",
       "      <th>transito</th>\n",
       "      <th>dia_tipico</th>\n",
       "      <th>dia_alta_demanda</th>\n",
       "      <th>dia_baja_demanda</th>\n",
       "    </tr>\n",
       "  </thead>\n",
       "  <tbody>\n",
       "    <tr>\n",
       "      <th>0</th>\n",
       "      <td>2015-06-01</td>\n",
       "      <td>21972</td>\n",
       "      <td>0</td>\n",
       "      <td>C</td>\n",
       "      <td>75.0</td>\n",
       "      <td>NaN</td>\n",
       "      <td>0</td>\n",
       "      <td>5241.0</td>\n",
       "      <td>0</td>\n",
       "      <td>0</td>\n",
       "      <td>6</td>\n",
       "      <td>0</td>\n",
       "      <td>1</td>\n",
       "      <td>0</td>\n",
       "      <td>1</td>\n",
       "      <td>0</td>\n",
       "      <td>0</td>\n",
       "    </tr>\n",
       "    <tr>\n",
       "      <th>1</th>\n",
       "      <td>2015-06-01</td>\n",
       "      <td>23910</td>\n",
       "      <td>5</td>\n",
       "      <td>C</td>\n",
       "      <td>170.0</td>\n",
       "      <td>6.07</td>\n",
       "      <td>0</td>\n",
       "      <td>5241.0</td>\n",
       "      <td>3</td>\n",
       "      <td>0</td>\n",
       "      <td>6</td>\n",
       "      <td>0</td>\n",
       "      <td>1</td>\n",
       "      <td>0</td>\n",
       "      <td>1</td>\n",
       "      <td>0</td>\n",
       "      <td>0</td>\n",
       "    </tr>\n",
       "    <tr>\n",
       "      <th>2</th>\n",
       "      <td>2015-06-01</td>\n",
       "      <td>24306</td>\n",
       "      <td>13</td>\n",
       "      <td>A</td>\n",
       "      <td>46.0</td>\n",
       "      <td>NaN</td>\n",
       "      <td>0</td>\n",
       "      <td>NaN</td>\n",
       "      <td>0</td>\n",
       "      <td>0</td>\n",
       "      <td>6</td>\n",
       "      <td>0</td>\n",
       "      <td>1</td>\n",
       "      <td>0</td>\n",
       "      <td>1</td>\n",
       "      <td>0</td>\n",
       "      <td>0</td>\n",
       "    </tr>\n",
       "    <tr>\n",
       "      <th>4</th>\n",
       "      <td>2015-06-01</td>\n",
       "      <td>27144</td>\n",
       "      <td>15</td>\n",
       "      <td>E</td>\n",
       "      <td>230.0</td>\n",
       "      <td>NaN</td>\n",
       "      <td>0</td>\n",
       "      <td>4064.0</td>\n",
       "      <td>0</td>\n",
       "      <td>0</td>\n",
       "      <td>6</td>\n",
       "      <td>0</td>\n",
       "      <td>1</td>\n",
       "      <td>0</td>\n",
       "      <td>1</td>\n",
       "      <td>0</td>\n",
       "      <td>0</td>\n",
       "    </tr>\n",
       "    <tr>\n",
       "      <th>5</th>\n",
       "      <td>2015-06-01</td>\n",
       "      <td>27504</td>\n",
       "      <td>7</td>\n",
       "      <td>C</td>\n",
       "      <td>157.0</td>\n",
       "      <td>NaN</td>\n",
       "      <td>0</td>\n",
       "      <td>5261.0</td>\n",
       "      <td>0</td>\n",
       "      <td>0</td>\n",
       "      <td>6</td>\n",
       "      <td>0</td>\n",
       "      <td>1</td>\n",
       "      <td>0</td>\n",
       "      <td>1</td>\n",
       "      <td>0</td>\n",
       "      <td>0</td>\n",
       "    </tr>\n",
       "  </tbody>\n",
       "</table>\n",
       "</div>"
      ],
      "text/plain": [
       "       fecha     id  visitas categoria_uno  categoria_dos  precio  campaña  \\\n",
       "0 2015-06-01  21972        0             C           75.0     NaN        0   \n",
       "1 2015-06-01  23910        5             C          170.0    6.07        0   \n",
       "2 2015-06-01  24306       13             A           46.0     NaN        0   \n",
       "4 2015-06-01  27144       15             E          230.0     NaN        0   \n",
       "5 2015-06-01  27504        7             C          157.0     NaN        0   \n",
       "\n",
       "   antiguedad  unidades_vendidas  weekday  month  rotura  no_rotura  transito  \\\n",
       "0      5241.0                  0        0      6       0          1         0   \n",
       "1      5241.0                  3        0      6       0          1         0   \n",
       "2         NaN                  0        0      6       0          1         0   \n",
       "4      4064.0                  0        0      6       0          1         0   \n",
       "5      5261.0                  0        0      6       0          1         0   \n",
       "\n",
       "   dia_tipico  dia_alta_demanda  dia_baja_demanda  \n",
       "0           1                 0                 0  \n",
       "1           1                 0                 0  \n",
       "2           1                 0                 0  \n",
       "4           1                 0                 0  \n",
       "5           1                 0                 0  "
      ]
     },
     "execution_count": 14,
     "metadata": {},
     "output_type": "execute_result"
    }
   ],
   "source": [
    "df_updated_prices.head()"
   ]
  },
  {
   "cell_type": "code",
   "execution_count": 15,
   "metadata": {
    "scrolled": true
   },
   "outputs": [
    {
     "data": {
      "text/plain": [
       "260447"
      ]
     },
     "execution_count": 15,
     "metadata": {},
     "output_type": "execute_result"
    }
   ],
   "source": [
    "df_updated_prices['precio'].isnull().sum()"
   ]
  },
  {
   "cell_type": "code",
   "execution_count": 16,
   "metadata": {},
   "outputs": [
    {
     "data": {
      "text/plain": [
       "5"
      ]
     },
     "execution_count": 16,
     "metadata": {},
     "output_type": "execute_result"
    }
   ],
   "source": [
    "len(df_updated_prices[(df_updated_prices['id'] == 21972) & (df_updated_prices['precio'].isnull())])"
   ]
  },
  {
   "cell_type": "code",
   "execution_count": 17,
   "metadata": {},
   "outputs": [
    {
     "data": {
      "text/html": [
       "<div>\n",
       "<style scoped>\n",
       "    .dataframe tbody tr th:only-of-type {\n",
       "        vertical-align: middle;\n",
       "    }\n",
       "\n",
       "    .dataframe tbody tr th {\n",
       "        vertical-align: top;\n",
       "    }\n",
       "\n",
       "    .dataframe thead th {\n",
       "        text-align: right;\n",
       "    }\n",
       "</style>\n",
       "<table border=\"1\" class=\"dataframe\">\n",
       "  <thead>\n",
       "    <tr style=\"text-align: right;\">\n",
       "      <th></th>\n",
       "      <th>fecha</th>\n",
       "      <th>id</th>\n",
       "      <th>visitas</th>\n",
       "      <th>categoria_uno</th>\n",
       "      <th>categoria_dos</th>\n",
       "      <th>precio</th>\n",
       "      <th>campaña</th>\n",
       "      <th>antiguedad</th>\n",
       "      <th>unidades_vendidas</th>\n",
       "      <th>weekday</th>\n",
       "      <th>month</th>\n",
       "      <th>rotura</th>\n",
       "      <th>no_rotura</th>\n",
       "      <th>transito</th>\n",
       "      <th>dia_tipico</th>\n",
       "      <th>dia_alta_demanda</th>\n",
       "      <th>dia_baja_demanda</th>\n",
       "    </tr>\n",
       "  </thead>\n",
       "  <tbody>\n",
       "    <tr>\n",
       "      <th>0</th>\n",
       "      <td>2015-06-01</td>\n",
       "      <td>21972</td>\n",
       "      <td>0</td>\n",
       "      <td>C</td>\n",
       "      <td>75.0</td>\n",
       "      <td>NaN</td>\n",
       "      <td>0</td>\n",
       "      <td>5241.0</td>\n",
       "      <td>0</td>\n",
       "      <td>0</td>\n",
       "      <td>6</td>\n",
       "      <td>0</td>\n",
       "      <td>1</td>\n",
       "      <td>0</td>\n",
       "      <td>1</td>\n",
       "      <td>0</td>\n",
       "      <td>0</td>\n",
       "    </tr>\n",
       "    <tr>\n",
       "      <th>8306</th>\n",
       "      <td>2015-06-02</td>\n",
       "      <td>21972</td>\n",
       "      <td>0</td>\n",
       "      <td>C</td>\n",
       "      <td>75.0</td>\n",
       "      <td>NaN</td>\n",
       "      <td>0</td>\n",
       "      <td>5241.0</td>\n",
       "      <td>0</td>\n",
       "      <td>1</td>\n",
       "      <td>6</td>\n",
       "      <td>0</td>\n",
       "      <td>1</td>\n",
       "      <td>0</td>\n",
       "      <td>1</td>\n",
       "      <td>0</td>\n",
       "      <td>0</td>\n",
       "    </tr>\n",
       "    <tr>\n",
       "      <th>16612</th>\n",
       "      <td>2015-06-03</td>\n",
       "      <td>21972</td>\n",
       "      <td>1</td>\n",
       "      <td>C</td>\n",
       "      <td>75.0</td>\n",
       "      <td>NaN</td>\n",
       "      <td>0</td>\n",
       "      <td>5241.0</td>\n",
       "      <td>0</td>\n",
       "      <td>2</td>\n",
       "      <td>6</td>\n",
       "      <td>0</td>\n",
       "      <td>1</td>\n",
       "      <td>0</td>\n",
       "      <td>1</td>\n",
       "      <td>0</td>\n",
       "      <td>0</td>\n",
       "    </tr>\n",
       "    <tr>\n",
       "      <th>24918</th>\n",
       "      <td>2015-06-04</td>\n",
       "      <td>21972</td>\n",
       "      <td>1</td>\n",
       "      <td>C</td>\n",
       "      <td>75.0</td>\n",
       "      <td>NaN</td>\n",
       "      <td>0</td>\n",
       "      <td>5241.0</td>\n",
       "      <td>0</td>\n",
       "      <td>3</td>\n",
       "      <td>6</td>\n",
       "      <td>0</td>\n",
       "      <td>1</td>\n",
       "      <td>0</td>\n",
       "      <td>1</td>\n",
       "      <td>0</td>\n",
       "      <td>0</td>\n",
       "    </tr>\n",
       "    <tr>\n",
       "      <th>33224</th>\n",
       "      <td>2015-06-05</td>\n",
       "      <td>21972</td>\n",
       "      <td>3</td>\n",
       "      <td>C</td>\n",
       "      <td>75.0</td>\n",
       "      <td>NaN</td>\n",
       "      <td>0</td>\n",
       "      <td>5241.0</td>\n",
       "      <td>0</td>\n",
       "      <td>4</td>\n",
       "      <td>6</td>\n",
       "      <td>0</td>\n",
       "      <td>1</td>\n",
       "      <td>0</td>\n",
       "      <td>1</td>\n",
       "      <td>0</td>\n",
       "      <td>0</td>\n",
       "    </tr>\n",
       "    <tr>\n",
       "      <th>41530</th>\n",
       "      <td>2015-06-06</td>\n",
       "      <td>21972</td>\n",
       "      <td>1</td>\n",
       "      <td>C</td>\n",
       "      <td>75.0</td>\n",
       "      <td>5.84</td>\n",
       "      <td>0</td>\n",
       "      <td>5241.0</td>\n",
       "      <td>3</td>\n",
       "      <td>5</td>\n",
       "      <td>6</td>\n",
       "      <td>0</td>\n",
       "      <td>1</td>\n",
       "      <td>0</td>\n",
       "      <td>1</td>\n",
       "      <td>0</td>\n",
       "      <td>0</td>\n",
       "    </tr>\n",
       "    <tr>\n",
       "      <th>49836</th>\n",
       "      <td>2015-06-07</td>\n",
       "      <td>21972</td>\n",
       "      <td>1</td>\n",
       "      <td>C</td>\n",
       "      <td>75.0</td>\n",
       "      <td>5.84</td>\n",
       "      <td>0</td>\n",
       "      <td>5241.0</td>\n",
       "      <td>0</td>\n",
       "      <td>6</td>\n",
       "      <td>6</td>\n",
       "      <td>0</td>\n",
       "      <td>1</td>\n",
       "      <td>0</td>\n",
       "      <td>1</td>\n",
       "      <td>0</td>\n",
       "      <td>0</td>\n",
       "    </tr>\n",
       "  </tbody>\n",
       "</table>\n",
       "</div>"
      ],
      "text/plain": [
       "           fecha     id  visitas categoria_uno  categoria_dos  precio  \\\n",
       "0     2015-06-01  21972        0             C           75.0     NaN   \n",
       "8306  2015-06-02  21972        0             C           75.0     NaN   \n",
       "16612 2015-06-03  21972        1             C           75.0     NaN   \n",
       "24918 2015-06-04  21972        1             C           75.0     NaN   \n",
       "33224 2015-06-05  21972        3             C           75.0     NaN   \n",
       "41530 2015-06-06  21972        1             C           75.0    5.84   \n",
       "49836 2015-06-07  21972        1             C           75.0    5.84   \n",
       "\n",
       "       campaña  antiguedad  unidades_vendidas  weekday  month  rotura  \\\n",
       "0            0      5241.0                  0        0      6       0   \n",
       "8306         0      5241.0                  0        1      6       0   \n",
       "16612        0      5241.0                  0        2      6       0   \n",
       "24918        0      5241.0                  0        3      6       0   \n",
       "33224        0      5241.0                  0        4      6       0   \n",
       "41530        0      5241.0                  3        5      6       0   \n",
       "49836        0      5241.0                  0        6      6       0   \n",
       "\n",
       "       no_rotura  transito  dia_tipico  dia_alta_demanda  dia_baja_demanda  \n",
       "0              1         0           1                 0                 0  \n",
       "8306           1         0           1                 0                 0  \n",
       "16612          1         0           1                 0                 0  \n",
       "24918          1         0           1                 0                 0  \n",
       "33224          1         0           1                 0                 0  \n",
       "41530          1         0           1                 0                 0  \n",
       "49836          1         0           1                 0                 0  "
      ]
     },
     "execution_count": 17,
     "metadata": {},
     "output_type": "execute_result"
    }
   ],
   "source": [
    "df_updated_prices[(df_updated_prices['id'] == 21972)][:7]"
   ]
  },
  {
   "cell_type": "code",
   "execution_count": 18,
   "metadata": {
    "scrolled": true
   },
   "outputs": [
    {
     "data": {
      "text/plain": [
       "482"
      ]
     },
     "execution_count": 18,
     "metadata": {},
     "output_type": "execute_result"
    }
   ],
   "source": [
    "len(df_updated_prices[(df_updated_prices['id'] == 21972) & (df_updated_prices['precio'].notnull())])"
   ]
  },
  {
   "cell_type": "code",
   "execution_count": 19,
   "metadata": {},
   "outputs": [
    {
     "data": {
      "text/plain": [
       "487"
      ]
     },
     "execution_count": 19,
     "metadata": {},
     "output_type": "execute_result"
    }
   ],
   "source": [
    "len(df_updated_prices[(df_updated_prices['id'] == 21972)])"
   ]
  },
  {
   "cell_type": "markdown",
   "metadata": {},
   "source": [
    "Hay algunos valores con el precio nulo que no tienen valor anterior no-nulo más próximo como se muestra arriba.\n",
    "\n",
    "Para estos valores se rellenará con el precio más antiguo del que se tenga constancia."
   ]
  },
  {
   "cell_type": "code",
   "execution_count": 20,
   "metadata": {},
   "outputs": [],
   "source": [
    "df_fill_prices = df_updated_prices.copy()\n",
    "df_fill_prices['precio'] = df_updated_prices.sort_values(by=\"fecha\", ascending=False) \\\n",
    "                                .groupby(['id'])['precio'].ffill()"
   ]
  },
  {
   "cell_type": "markdown",
   "metadata": {},
   "source": [
    "<hr>"
   ]
  },
  {
   "cell_type": "markdown",
   "metadata": {},
   "source": [
    "La columna `antiguedad` puede descartarse ya que:\n",
    "* No hay forma de calcular los valores para los ejemplo que son null. \n",
    "* Para los ejemplos no null, el valor de `antiguedad` es fijo para el mismo producto independientemente de la fecha."
   ]
  },
  {
   "cell_type": "code",
   "execution_count": 21,
   "metadata": {},
   "outputs": [],
   "source": [
    "df_drop_antiguedad = df_fill_prices.drop([\"antiguedad\"], axis=1)"
   ]
  },
  {
   "cell_type": "code",
   "execution_count": 22,
   "metadata": {},
   "outputs": [
    {
     "data": {
      "text/html": [
       "<div>\n",
       "<style scoped>\n",
       "    .dataframe tbody tr th:only-of-type {\n",
       "        vertical-align: middle;\n",
       "    }\n",
       "\n",
       "    .dataframe tbody tr th {\n",
       "        vertical-align: top;\n",
       "    }\n",
       "\n",
       "    .dataframe thead th {\n",
       "        text-align: right;\n",
       "    }\n",
       "</style>\n",
       "<table border=\"1\" class=\"dataframe\">\n",
       "  <thead>\n",
       "    <tr style=\"text-align: right;\">\n",
       "      <th></th>\n",
       "      <th>fecha</th>\n",
       "      <th>id</th>\n",
       "      <th>visitas</th>\n",
       "      <th>categoria_uno</th>\n",
       "      <th>categoria_dos</th>\n",
       "      <th>precio</th>\n",
       "      <th>campaña</th>\n",
       "      <th>unidades_vendidas</th>\n",
       "      <th>weekday</th>\n",
       "      <th>month</th>\n",
       "      <th>rotura</th>\n",
       "      <th>no_rotura</th>\n",
       "      <th>transito</th>\n",
       "      <th>dia_tipico</th>\n",
       "      <th>dia_alta_demanda</th>\n",
       "      <th>dia_baja_demanda</th>\n",
       "    </tr>\n",
       "  </thead>\n",
       "  <tbody>\n",
       "    <tr>\n",
       "      <th>0</th>\n",
       "      <td>2015-06-01</td>\n",
       "      <td>21972</td>\n",
       "      <td>0</td>\n",
       "      <td>C</td>\n",
       "      <td>75.0</td>\n",
       "      <td>5.84</td>\n",
       "      <td>0</td>\n",
       "      <td>0</td>\n",
       "      <td>0</td>\n",
       "      <td>6</td>\n",
       "      <td>0</td>\n",
       "      <td>1</td>\n",
       "      <td>0</td>\n",
       "      <td>1</td>\n",
       "      <td>0</td>\n",
       "      <td>0</td>\n",
       "    </tr>\n",
       "    <tr>\n",
       "      <th>1</th>\n",
       "      <td>2015-06-01</td>\n",
       "      <td>23910</td>\n",
       "      <td>5</td>\n",
       "      <td>C</td>\n",
       "      <td>170.0</td>\n",
       "      <td>6.07</td>\n",
       "      <td>0</td>\n",
       "      <td>3</td>\n",
       "      <td>0</td>\n",
       "      <td>6</td>\n",
       "      <td>0</td>\n",
       "      <td>1</td>\n",
       "      <td>0</td>\n",
       "      <td>1</td>\n",
       "      <td>0</td>\n",
       "      <td>0</td>\n",
       "    </tr>\n",
       "    <tr>\n",
       "      <th>2</th>\n",
       "      <td>2015-06-01</td>\n",
       "      <td>24306</td>\n",
       "      <td>13</td>\n",
       "      <td>A</td>\n",
       "      <td>46.0</td>\n",
       "      <td>7.85</td>\n",
       "      <td>0</td>\n",
       "      <td>0</td>\n",
       "      <td>0</td>\n",
       "      <td>6</td>\n",
       "      <td>0</td>\n",
       "      <td>1</td>\n",
       "      <td>0</td>\n",
       "      <td>1</td>\n",
       "      <td>0</td>\n",
       "      <td>0</td>\n",
       "    </tr>\n",
       "    <tr>\n",
       "      <th>4</th>\n",
       "      <td>2015-06-01</td>\n",
       "      <td>27144</td>\n",
       "      <td>15</td>\n",
       "      <td>E</td>\n",
       "      <td>230.0</td>\n",
       "      <td>6.12</td>\n",
       "      <td>0</td>\n",
       "      <td>0</td>\n",
       "      <td>0</td>\n",
       "      <td>6</td>\n",
       "      <td>0</td>\n",
       "      <td>1</td>\n",
       "      <td>0</td>\n",
       "      <td>1</td>\n",
       "      <td>0</td>\n",
       "      <td>0</td>\n",
       "    </tr>\n",
       "    <tr>\n",
       "      <th>5</th>\n",
       "      <td>2015-06-01</td>\n",
       "      <td>27504</td>\n",
       "      <td>7</td>\n",
       "      <td>C</td>\n",
       "      <td>157.0</td>\n",
       "      <td>10.74</td>\n",
       "      <td>0</td>\n",
       "      <td>0</td>\n",
       "      <td>0</td>\n",
       "      <td>6</td>\n",
       "      <td>0</td>\n",
       "      <td>1</td>\n",
       "      <td>0</td>\n",
       "      <td>1</td>\n",
       "      <td>0</td>\n",
       "      <td>0</td>\n",
       "    </tr>\n",
       "  </tbody>\n",
       "</table>\n",
       "</div>"
      ],
      "text/plain": [
       "       fecha     id  visitas categoria_uno  categoria_dos  precio  campaña  \\\n",
       "0 2015-06-01  21972        0             C           75.0    5.84        0   \n",
       "1 2015-06-01  23910        5             C          170.0    6.07        0   \n",
       "2 2015-06-01  24306       13             A           46.0    7.85        0   \n",
       "4 2015-06-01  27144       15             E          230.0    6.12        0   \n",
       "5 2015-06-01  27504        7             C          157.0   10.74        0   \n",
       "\n",
       "   unidades_vendidas  weekday  month  rotura  no_rotura  transito  dia_tipico  \\\n",
       "0                  0        0      6       0          1         0           1   \n",
       "1                  3        0      6       0          1         0           1   \n",
       "2                  0        0      6       0          1         0           1   \n",
       "4                  0        0      6       0          1         0           1   \n",
       "5                  0        0      6       0          1         0           1   \n",
       "\n",
       "   dia_alta_demanda  dia_baja_demanda  \n",
       "0                 0                 0  \n",
       "1                 0                 0  \n",
       "2                 0                 0  \n",
       "4                 0                 0  \n",
       "5                 0                 0  "
      ]
     },
     "execution_count": 22,
     "metadata": {},
     "output_type": "execute_result"
    }
   ],
   "source": [
    "df_drop_antiguedad.head()"
   ]
  },
  {
   "cell_type": "markdown",
   "metadata": {},
   "source": [
    "<hr>"
   ]
  },
  {
   "cell_type": "markdown",
   "metadata": {},
   "source": [
    "Para la columna `categoria_dos` hay pocos casos en los que el valor es null. Se comprobará si existe la opción de completar el campo con las filas con el mismo `id` que tengan un valor."
   ]
  },
  {
   "cell_type": "code",
   "execution_count": 23,
   "metadata": {},
   "outputs": [],
   "source": [
    "def check_categoria_dos(row):\n",
    "    aux_array = df_drop_antiguedad[(df_drop_antiguedad.id == row.id) & \\\n",
    "                              (df_drop_antiguedad[\"categoria_dos\"]).notnull()].categoria_dos\n",
    "    if len(aux_array) > 0:\n",
    "        print(new_value, row.categoria_dos)\n",
    "        "
   ]
  },
  {
   "cell_type": "code",
   "execution_count": 24,
   "metadata": {},
   "outputs": [],
   "source": [
    "index_no_cat2 = df_drop_antiguedad[\"categoria_dos\"].isnull()\n",
    "\n",
    "df_drop_antiguedad[index_no_cat2].apply(check_categoria_dos, axis=1);"
   ]
  },
  {
   "cell_type": "markdown",
   "metadata": {},
   "source": [
    "No existen productos que tengan un valor en `categoria_dos` para una fecha y ninguna para otra. Para todos los casos en los que `categoria_dos` es null, lo es para todas las filas con el mismo `id`.\n",
    "\n",
    "Se utilizará `IterativeImputer` para poder rellenar `categoria_dos` utilizando el resto de los atributos. Se hará tras la codificación de los atributos categóricos en el siguiente apartado."
   ]
  },
  {
   "cell_type": "markdown",
   "metadata": {},
   "source": [
    "Los atributos categóricos ordinales (`categoria_uno`) serán transformados a atributos numéricos para poder utilizar `IterativeImputer`."
   ]
  },
  {
   "cell_type": "code",
   "execution_count": 25,
   "metadata": {},
   "outputs": [],
   "source": [
    "from sklearn.preprocessing import LabelEncoder\n",
    "\n",
    "encoder = LabelEncoder()\n",
    "cat1_encoded = encoder.fit_transform(df_drop_antiguedad['categoria_uno'].to_numpy().reshape(-1,1).ravel())"
   ]
  },
  {
   "cell_type": "code",
   "execution_count": 26,
   "metadata": {},
   "outputs": [],
   "source": [
    "df_encoded = df_drop_antiguedad.copy()\n",
    "\n",
    "df_encoded['categoria_uno'] = cat1_encoded"
   ]
  },
  {
   "cell_type": "markdown",
   "metadata": {},
   "source": [
    "Ahora es posible rellenar el valor de `categoria_dos` utilizando `IterativeImputer`."
   ]
  },
  {
   "cell_type": "code",
   "execution_count": 27,
   "metadata": {},
   "outputs": [],
   "source": [
    "from sklearn.experimental import enable_iterative_imputer \n",
    "from sklearn.impute import IterativeImputer"
   ]
  },
  {
   "cell_type": "code",
   "execution_count": 28,
   "metadata": {},
   "outputs": [
    {
     "data": {
      "text/plain": [
       "IterativeImputer(random_state=0)"
      ]
     },
     "execution_count": 28,
     "metadata": {},
     "output_type": "execute_result"
    }
   ],
   "source": [
    "imputer = IterativeImputer(random_state=0)\n",
    "\n",
    "index_cat2 = df_encoded[\"categoria_dos\"].notnull()\n",
    "\n",
    "# Solo nos interesa rellenar \"categoria_dos\", \"precio\" no. \"fecha\" no es utilizado por IterativeImputer\n",
    "imputer.fit(df_encoded[index_cat2].drop([\"fecha\", \"precio\", \"id\"], axis=1).values) "
   ]
  },
  {
   "cell_type": "code",
   "execution_count": 29,
   "metadata": {},
   "outputs": [],
   "source": [
    "cat2_filled = imputer.transform(df_encoded[index_no_cat2].drop([\"fecha\", \"precio\", \"id\"], axis=1).values)"
   ]
  },
  {
   "cell_type": "code",
   "execution_count": 30,
   "metadata": {
    "scrolled": true
   },
   "outputs": [],
   "source": [
    "df_prep = df_encoded.copy()\n",
    "\n",
    "index_aux = list(df_encoded.drop([\"fecha\", \"precio\"], axis=1).columns).index(\"categoria_dos\")\n",
    "df_prep.loc[index_no_cat2,[\"categoria_dos\"]] = cat2_filled[:, index_aux]"
   ]
  },
  {
   "cell_type": "markdown",
   "metadata": {},
   "source": [
    "### Scaler"
   ]
  },
  {
   "cell_type": "markdown",
   "metadata": {},
   "source": [
    "Se estandarizan los atributos numéricos (excepto `id`)."
   ]
  },
  {
   "cell_type": "code",
   "execution_count": 31,
   "metadata": {},
   "outputs": [],
   "source": [
    "from sklearn.preprocessing import StandardScaler"
   ]
  },
  {
   "cell_type": "code",
   "execution_count": 32,
   "metadata": {},
   "outputs": [],
   "source": [
    "cat_att = ['categoria_uno', 'categoria_dos', 'month', 'weekday', 'rotura', 'no_rotura', 'transito',\n",
    "           'dia_tipico', 'dia_alta_demanda', 'dia_baja_demanda', 'campaña']\n",
    "\n",
    "scaler = StandardScaler()\n",
    "\n",
    "df_scaled = df_prep.copy()\n",
    "df_scaled.loc[:, [\"visitas\",\n",
    "                  \"precio\"]] = scaler.fit_transform(df_prep.drop(cat_att + [\"fecha\",\"unidades_vendidas\",\"id\"],axis=1))"
   ]
  },
  {
   "cell_type": "code",
   "execution_count": 33,
   "metadata": {
    "scrolled": true
   },
   "outputs": [
    {
     "data": {
      "text/html": [
       "<div>\n",
       "<style scoped>\n",
       "    .dataframe tbody tr th:only-of-type {\n",
       "        vertical-align: middle;\n",
       "    }\n",
       "\n",
       "    .dataframe tbody tr th {\n",
       "        vertical-align: top;\n",
       "    }\n",
       "\n",
       "    .dataframe thead th {\n",
       "        text-align: right;\n",
       "    }\n",
       "</style>\n",
       "<table border=\"1\" class=\"dataframe\">\n",
       "  <thead>\n",
       "    <tr style=\"text-align: right;\">\n",
       "      <th></th>\n",
       "      <th>fecha</th>\n",
       "      <th>id</th>\n",
       "      <th>visitas</th>\n",
       "      <th>categoria_uno</th>\n",
       "      <th>categoria_dos</th>\n",
       "      <th>precio</th>\n",
       "      <th>campaña</th>\n",
       "      <th>unidades_vendidas</th>\n",
       "      <th>weekday</th>\n",
       "      <th>month</th>\n",
       "      <th>rotura</th>\n",
       "      <th>no_rotura</th>\n",
       "      <th>transito</th>\n",
       "      <th>dia_tipico</th>\n",
       "      <th>dia_alta_demanda</th>\n",
       "      <th>dia_baja_demanda</th>\n",
       "    </tr>\n",
       "  </thead>\n",
       "  <tbody>\n",
       "    <tr>\n",
       "      <th>0</th>\n",
       "      <td>2015-06-01</td>\n",
       "      <td>21972</td>\n",
       "      <td>-0.209219</td>\n",
       "      <td>2</td>\n",
       "      <td>75.0</td>\n",
       "      <td>-1.103112</td>\n",
       "      <td>0</td>\n",
       "      <td>0</td>\n",
       "      <td>0</td>\n",
       "      <td>6</td>\n",
       "      <td>0</td>\n",
       "      <td>1</td>\n",
       "      <td>0</td>\n",
       "      <td>1</td>\n",
       "      <td>0</td>\n",
       "      <td>0</td>\n",
       "    </tr>\n",
       "    <tr>\n",
       "      <th>1</th>\n",
       "      <td>2015-06-01</td>\n",
       "      <td>23910</td>\n",
       "      <td>-0.200812</td>\n",
       "      <td>2</td>\n",
       "      <td>170.0</td>\n",
       "      <td>-1.094568</td>\n",
       "      <td>0</td>\n",
       "      <td>3</td>\n",
       "      <td>0</td>\n",
       "      <td>6</td>\n",
       "      <td>0</td>\n",
       "      <td>1</td>\n",
       "      <td>0</td>\n",
       "      <td>1</td>\n",
       "      <td>0</td>\n",
       "      <td>0</td>\n",
       "    </tr>\n",
       "    <tr>\n",
       "      <th>2</th>\n",
       "      <td>2015-06-01</td>\n",
       "      <td>24306</td>\n",
       "      <td>-0.187361</td>\n",
       "      <td>0</td>\n",
       "      <td>46.0</td>\n",
       "      <td>-1.028447</td>\n",
       "      <td>0</td>\n",
       "      <td>0</td>\n",
       "      <td>0</td>\n",
       "      <td>6</td>\n",
       "      <td>0</td>\n",
       "      <td>1</td>\n",
       "      <td>0</td>\n",
       "      <td>1</td>\n",
       "      <td>0</td>\n",
       "      <td>0</td>\n",
       "    </tr>\n",
       "    <tr>\n",
       "      <th>4</th>\n",
       "      <td>2015-06-01</td>\n",
       "      <td>27144</td>\n",
       "      <td>-0.183999</td>\n",
       "      <td>4</td>\n",
       "      <td>230.0</td>\n",
       "      <td>-1.092711</td>\n",
       "      <td>0</td>\n",
       "      <td>0</td>\n",
       "      <td>0</td>\n",
       "      <td>6</td>\n",
       "      <td>0</td>\n",
       "      <td>1</td>\n",
       "      <td>0</td>\n",
       "      <td>1</td>\n",
       "      <td>0</td>\n",
       "      <td>0</td>\n",
       "    </tr>\n",
       "    <tr>\n",
       "      <th>5</th>\n",
       "      <td>2015-06-01</td>\n",
       "      <td>27504</td>\n",
       "      <td>-0.197450</td>\n",
       "      <td>2</td>\n",
       "      <td>157.0</td>\n",
       "      <td>-0.921092</td>\n",
       "      <td>0</td>\n",
       "      <td>0</td>\n",
       "      <td>0</td>\n",
       "      <td>6</td>\n",
       "      <td>0</td>\n",
       "      <td>1</td>\n",
       "      <td>0</td>\n",
       "      <td>1</td>\n",
       "      <td>0</td>\n",
       "      <td>0</td>\n",
       "    </tr>\n",
       "  </tbody>\n",
       "</table>\n",
       "</div>"
      ],
      "text/plain": [
       "       fecha     id   visitas  categoria_uno  categoria_dos    precio  \\\n",
       "0 2015-06-01  21972 -0.209219              2           75.0 -1.103112   \n",
       "1 2015-06-01  23910 -0.200812              2          170.0 -1.094568   \n",
       "2 2015-06-01  24306 -0.187361              0           46.0 -1.028447   \n",
       "4 2015-06-01  27144 -0.183999              4          230.0 -1.092711   \n",
       "5 2015-06-01  27504 -0.197450              2          157.0 -0.921092   \n",
       "\n",
       "   campaña  unidades_vendidas  weekday  month  rotura  no_rotura  transito  \\\n",
       "0        0                  0        0      6       0          1         0   \n",
       "1        0                  3        0      6       0          1         0   \n",
       "2        0                  0        0      6       0          1         0   \n",
       "4        0                  0        0      6       0          1         0   \n",
       "5        0                  0        0      6       0          1         0   \n",
       "\n",
       "   dia_tipico  dia_alta_demanda  dia_baja_demanda  \n",
       "0           1                 0                 0  \n",
       "1           1                 0                 0  \n",
       "2           1                 0                 0  \n",
       "4           1                 0                 0  \n",
       "5           1                 0                 0  "
      ]
     },
     "execution_count": 33,
     "metadata": {},
     "output_type": "execute_result"
    }
   ],
   "source": [
    "df_scaled.head()"
   ]
  },
  {
   "cell_type": "markdown",
   "metadata": {},
   "source": [
    "## 3. Creación de Modelo(s)"
   ]
  },
  {
   "cell_type": "markdown",
   "metadata": {},
   "source": [
    "### División de conjuntos. \n",
    "\n",
    "* Entrenamiento: 70%\n",
    "* Testeo: 20%\n",
    "* Validación: 10%"
   ]
  },
  {
   "cell_type": "markdown",
   "metadata": {},
   "source": [
    "Se debe descartar como atributos `unidades_vendidas`, al ser lo que se pretende predecir, `fecha` al no ser un atributo sobre el que se pueda entrenar a un modelo e `id` al no ser un atributo relacionado directamente con cada caso."
   ]
  },
  {
   "cell_type": "code",
   "execution_count": 34,
   "metadata": {},
   "outputs": [],
   "source": [
    "from sklearn.model_selection import train_test_split\n",
    "\n",
    "X = df_scaled.drop([\"unidades_vendidas\", \"fecha\", \"id\"], axis=1).values\n",
    "y = df_scaled[\"unidades_vendidas\"].values"
   ]
  },
  {
   "cell_type": "code",
   "execution_count": 35,
   "metadata": {},
   "outputs": [],
   "source": [
    "X_train_val, X_test, y_train_val, y_test = train_test_split(X, y,test_size=.2,random_state =random_seed)"
   ]
  },
  {
   "cell_type": "code",
   "execution_count": 36,
   "metadata": {},
   "outputs": [],
   "source": [
    "X_train, X_val, y_train, y_val = train_test_split(X_train_val, y_train_val, test_size=1/8, random_state =random_seed)"
   ]
  },
  {
   "cell_type": "markdown",
   "metadata": {},
   "source": [
    "### Función de pérdida:"
   ]
  },
  {
   "cell_type": "markdown",
   "metadata": {},
   "source": [
    "Podrá ser utilizada como función de pérdida a mejorar en modelos de redes neuronales y servirá para calcular qué error tiene cada modelo."
   ]
  },
  {
   "cell_type": "code",
   "execution_count": 37,
   "metadata": {},
   "outputs": [],
   "source": [
    "from sklearn.metrics import mean_squared_error\n",
    "\n",
    "def rRMSE_np (y_real, y_pred):\n",
    "    rmse = mean_squared_error(y_real, y_pred, squared=False) # Root Mean Squared Error\n",
    "    return rmse / np.mean(y_pred) # rRMSE\n",
    "    \n",
    "def CF_np (y_real, y_pred):\n",
    "    # Cuando la demanda no haya superado a la predicción\n",
    "    return sum([i <= j for i, j in zip(y_real, y_pred)])/len(y_real) \n",
    "\n",
    "def contest_loss_np (y_real, y_pred): # y_real e y_pred son objetos numpy\n",
    "    cf =  CF_np(y_real, y_pred)\n",
    "    rrmse = rRMSE_np(y_real, y_pred)\n",
    "    return 0.7 * rrmse + 0.3 * (1 - cf)"
   ]
  },
  {
   "cell_type": "markdown",
   "metadata": {},
   "source": [
    "Se crean las mismas funciones para ser utilizadas por las librerías `tensorflow` y `keras`."
   ]
  },
  {
   "cell_type": "code",
   "execution_count": 38,
   "metadata": {},
   "outputs": [],
   "source": [
    "import keras.backend as K\n",
    "\n",
    "''' Funciones auxiliares '''\n",
    "def rRMSE(y_real, y_pred):\n",
    "    rmse = K.sqrt(K.mean(K.square(y_pred - y_real))) # Root Mean Squared Error\n",
    "    \n",
    "    return rmse / K.mean(y_pred) # rRMSE\n",
    "    \n",
    "def CF(y_real, y_pred):\n",
    "    aux = K.cast(y_real <= y_pred, K.floatx())\n",
    "    \n",
    "    cf = K.mean(aux) # Cuando la demanda no haya superado a la predicción\n",
    "    \n",
    "    return cf\n",
    "\n",
    "''' Función de pérdida del concurso '''\n",
    "def contest_loss (y_real, y_pred): # y_real e y_pred son tensores de Keras\n",
    "    \n",
    "    rrmse = rRMSE(y_real, y_pred)\n",
    "    \n",
    "    cf = CF(y_real, y_pred)\n",
    "    \n",
    "    return 0.7 * rrmse + 0.3 * (1 - cf)\n",
    "\n",
    "\n",
    "''' Función de pérdida customizada '''\n",
    "def custom_loss (y_real, y_pred): # y_real e y_pred son tensores de Keras\n",
    "    \n",
    "    rrmse = rRMSE(y_real, y_pred)\n",
    "    \n",
    "    cf = CF(y_real, y_pred)\n",
    "    \n",
    "    return 0.7 * rrmse + 0.3 * (1 - cf)"
   ]
  },
  {
   "cell_type": "markdown",
   "metadata": {},
   "source": [
    "### Random Forest Regressor"
   ]
  },
  {
   "cell_type": "markdown",
   "metadata": {},
   "source": [
    "Importancia relativa de los atributos calculada viendo cuantos nodos de los árboles usan ese atributo para reducir la impureza"
   ]
  },
  {
   "cell_type": "code",
   "execution_count": 39,
   "metadata": {},
   "outputs": [
    {
     "data": {
      "text/plain": [
       "RandomForestRegressor(n_estimators=10)"
      ]
     },
     "execution_count": 39,
     "metadata": {},
     "output_type": "execute_result"
    }
   ],
   "source": [
    "from sklearn.ensemble import RandomForestRegressor\n",
    "\n",
    "\n",
    "random_forest_regressor = RandomForestRegressor(n_estimators=10)\n",
    "random_forest_regressor.fit(X_train, y_train)"
   ]
  },
  {
   "cell_type": "code",
   "execution_count": 40,
   "metadata": {},
   "outputs": [
    {
     "name": "stdout",
     "output_type": "stream",
     "text": [
      "visitas 0.39238294584260697\n",
      "categoria_uno 0.018249574302036935\n",
      "categoria_dos 0.06882180275385408\n",
      "precio 0.2580588653304184\n",
      "campaña 0.0028967553861836215\n",
      "weekday 0.06606801449090892\n",
      "month 0.16618598716484517\n",
      "rotura 0.0023911321560905535\n",
      "no_rotura 0.005203309672692166\n",
      "transito 0.0017489592694671617\n",
      "dia_tipico 0.004566244601227773\n",
      "dia_alta_demanda 0.0064157887498053415\n",
      "dia_baja_demanda 0.007010620279862968\n"
     ]
    }
   ],
   "source": [
    "for name, score in zip(df_scaled.drop([\"unidades_vendidas\", \"fecha\", \"id\"], axis=1).columns,\n",
    "                       random_forest_regressor.feature_importances_):\n",
    "    print(name, score)"
   ]
  },
  {
   "cell_type": "markdown",
   "metadata": {},
   "source": [
    "<hr>"
   ]
  },
  {
   "cell_type": "code",
   "execution_count": 41,
   "metadata": {},
   "outputs": [],
   "source": [
    "from sklearn.model_selection import cross_val_predict \n",
    "\n",
    "cv=5\n",
    "\n",
    "pred_train_val_rf = cross_val_predict(random_forest_regressor, X_train_val, y_train_val, cv=cv, n_jobs=-1)"
   ]
  },
  {
   "cell_type": "code",
   "execution_count": 42,
   "metadata": {},
   "outputs": [
    {
     "data": {
      "text/plain": [
       "2.352203747634287"
      ]
     },
     "execution_count": 42,
     "metadata": {},
     "output_type": "execute_result"
    }
   ],
   "source": [
    "contest_loss_np(y_train_val, pred_train_val_rf)"
   ]
  },
  {
   "cell_type": "markdown",
   "metadata": {},
   "source": [
    "### XGBoost"
   ]
  },
  {
   "cell_type": "code",
   "execution_count": 43,
   "metadata": {},
   "outputs": [],
   "source": [
    "import xgboost as xg \n",
    "\n",
    "xgb_r = xg.XGBRegressor(objective ='reg:linear', \n",
    "                  n_estimators = 10, seed = random_seed) \n",
    "\n",
    "pred_train_val_xgb = cross_val_predict(xgb_r, X_train_val, y_train_val, cv=cv, n_jobs=-1)"
   ]
  },
  {
   "cell_type": "code",
   "execution_count": 44,
   "metadata": {},
   "outputs": [
    {
     "data": {
      "text/plain": [
       "2.6651251463142427"
      ]
     },
     "execution_count": 44,
     "metadata": {},
     "output_type": "execute_result"
    }
   ],
   "source": [
    "contest_loss_np(y_train_val, pred_train_val_xgb)"
   ]
  },
  {
   "cell_type": "markdown",
   "metadata": {},
   "source": [
    "### Redes Neuronales"
   ]
  },
  {
   "cell_type": "code",
   "execution_count": 45,
   "metadata": {},
   "outputs": [],
   "source": [
    "from tensorflow.python.keras.models import Sequential\n",
    "from tensorflow.python.keras.layers import Dense\n",
    "from tensorflow.python.keras.wrappers.scikit_learn import KerasRegressor\n",
    "from keras.callbacks import EarlyStopping\n",
    "from keras.optimizers import Adam\n",
    "import tensorflow as tf"
   ]
  },
  {
   "cell_type": "code",
   "execution_count": 46,
   "metadata": {},
   "outputs": [
    {
     "name": "stdout",
     "output_type": "stream",
     "text": [
      "Model: \"sequential\"\n",
      "_________________________________________________________________\n",
      "Layer (type)                 Output Shape              Param #   \n",
      "=================================================================\n",
      "dense (Dense)                (None, 50)                700       \n",
      "_________________________________________________________________\n",
      "dense_1 (Dense)              (None, 30)                1530      \n",
      "_________________________________________________________________\n",
      "dense_2 (Dense)              (None, 10)                310       \n",
      "_________________________________________________________________\n",
      "dense_3 (Dense)              (None, 5)                 55        \n",
      "_________________________________________________________________\n",
      "dense_4 (Dense)              (None, 1)                 6         \n",
      "=================================================================\n",
      "Total params: 2,601\n",
      "Trainable params: 2,601\n",
      "Non-trainable params: 0\n",
      "_________________________________________________________________\n",
      "None\n"
     ]
    }
   ],
   "source": [
    "nn = Sequential()\n",
    "nn.add(Dense(50, input_dim=len(X_train_val[0]), kernel_initializer='normal', activation='relu'))\n",
    "nn.add(Dense(30, activation='relu'))\n",
    "nn.add(Dense(10, activation='relu'))\n",
    "nn.add(Dense(5, activation='relu'))\n",
    "nn.add(Dense(1, activation='linear'))\n",
    "print(nn.summary())\n",
    "\n",
    "dot_img_file = 'model_1.png'\n",
    "tf.keras.utils.plot_model(nn, to_file=dot_img_file, show_shapes=True)\n",
    "\n",
    "es = EarlyStopping(monitor = 'loss', mode = 'min', min_delta=0.01, verbose = 1, patience=2, restore_best_weights=True);"
   ]
  },
  {
   "cell_type": "code",
   "execution_count": 47,
   "metadata": {},
   "outputs": [],
   "source": [
    "nn.compile(loss=custom_loss,\n",
    "           optimizer=Adam(learning_rate=0.001),\n",
    "           metrics=[contest_loss, rRMSE, CF])"
   ]
  },
  {
   "cell_type": "code",
   "execution_count": 48,
   "metadata": {
    "scrolled": false
   },
   "outputs": [
    {
     "name": "stdout",
     "output_type": "stream",
     "text": [
      "Epoch 1/10\n",
      "95202/95202 [==============================] - 64s 670us/step - loss: 28.0269 - contest_loss: 28.0623 - rRMSE: 40.0044 - CF: 0.8382 - val_loss: 0.7401 - val_contest_loss: 0.7401 - val_rRMSE: 1.0415 - val_CF: 0.9629\n",
      "Epoch 2/10\n",
      "95202/95202 [==============================] - 64s 676us/step - loss: 0.7114 - contest_loss: 0.7114 - rRMSE: 1.0048 - CF: 0.9731 - val_loss: 0.6968 - val_contest_loss: 0.6968 - val_rRMSE: 0.9868 - val_CF: 0.9797\n",
      "Epoch 3/10\n",
      "95202/95202 [==============================] - 67s 707us/step - loss: 0.6928 - contest_loss: 0.6928 - rRMSE: 0.9825 - CF: 0.9830 - val_loss: 0.6894 - val_contest_loss: 0.6894 - val_rRMSE: 0.9788 - val_CF: 0.9857\n",
      "Epoch 4/10\n",
      "95202/95202 [==============================] - 67s 701us/step - loss: 0.6884 - contest_loss: 0.6884 - rRMSE: 0.9776 - CF: 0.9863 - val_loss: 0.6873 - val_contest_loss: 0.6873 - val_rRMSE: 0.9763 - val_CF: 0.9870\n",
      "Epoch 5/10\n",
      "95137/95202 [============================>.] - ETA: 0s - loss: 0.6867 - contest_loss: 0.6867 - rRMSE: 0.9760 - CF: 0.9882Restoring model weights from the end of the best epoch.\n",
      "95202/95202 [==============================] - 66s 692us/step - loss: 0.6867 - contest_loss: 0.6867 - rRMSE: 0.9760 - CF: 0.9882 - val_loss: 0.6859 - val_contest_loss: 0.6859 - val_rRMSE: 0.9753 - val_CF: 0.9894\n",
      "Epoch 00005: early stopping\n"
     ]
    },
    {
     "data": {
      "text/plain": [
       "<tensorflow.python.keras.callbacks.History at 0x7fe47479d2b0>"
      ]
     },
     "execution_count": 48,
     "metadata": {},
     "output_type": "execute_result"
    }
   ],
   "source": [
    "nn.fit(X_train, y_train, validation_data = (X_val, y_val), epochs = 10, batch_size = 15, callbacks = [es])"
   ]
  },
  {
   "cell_type": "markdown",
   "metadata": {},
   "source": [
    "Se calcula la pérdida del modelo sobre el conjunto de testeo."
   ]
  },
  {
   "cell_type": "code",
   "execution_count": 49,
   "metadata": {},
   "outputs": [],
   "source": [
    "pred_test_nn = nn.predict(X_test)"
   ]
  },
  {
   "cell_type": "code",
   "execution_count": 50,
   "metadata": {},
   "outputs": [
    {
     "name": "stdout",
     "output_type": "stream",
     "text": [
      "CF:  [0.98564244]\n",
      "rRMSE:  1.0046022186550359\n"
     ]
    }
   ],
   "source": [
    "print(\"CF: \", CF_np(y_test, pred_test_nn))\n",
    "print(\"rRMSE: \", rRMSE_np(y_test, pred_test_nn))"
   ]
  },
  {
   "cell_type": "code",
   "execution_count": 51,
   "metadata": {
    "scrolled": true
   },
   "outputs": [
    {
     "data": {
      "text/plain": [
       "array([0.70752882])"
      ]
     },
     "execution_count": 51,
     "metadata": {},
     "output_type": "execute_result"
    }
   ],
   "source": [
    "contest_loss_np(y_test, pred_test_nn)"
   ]
  },
  {
   "cell_type": "markdown",
   "metadata": {},
   "source": [
    "Se realiza una impresión de los diez primeros valores de test y se ve como el modelo abusa de la métrica CF para siempre tener una cantidad suficiente para hacer frente a la demanda. Se representa gráficamente para tener una idea más clara sobre cómo actúa el modelo."
   ]
  },
  {
   "cell_type": "code",
   "execution_count": 52,
   "metadata": {},
   "outputs": [
    {
     "name": "stdout",
     "output_type": "stream",
     "text": [
      "0 [39.728176]\n",
      "0 [39.728176]\n",
      "0 [39.728176]\n",
      "0 [39.728176]\n",
      "0 [39.728176]\n",
      "9 [39.728176]\n",
      "3 [39.728176]\n",
      "3 [39.728176]\n",
      "0 [39.728176]\n",
      "0 [39.728176]\n"
     ]
    }
   ],
   "source": [
    "for i,j in zip(y_test[:10], pred_test_nn[:10]):\n",
    "    print(i,j)"
   ]
  },
  {
   "cell_type": "code",
   "execution_count": 53,
   "metadata": {},
   "outputs": [],
   "source": [
    "def plot_preds(y_test, y_pred): \n",
    "    y_test_idx_sort = np.argsort(y_test)[::-1]\n",
    "\n",
    "    plt.figure(figsize=(20, 7))\n",
    "    plt.plot(range(len(y_test)), y_test[y_test_idx_sort], label=\"Real Values\", alpha=0.8, color=\"blue\")\n",
    "    plt.plot(range(len(y_test)), y_pred[y_test_idx_sort], label=\"Predicted Values\", alpha=0.8, color=\"red\")\n",
    "    plt.ylabel(\"Unidades Vendidas\")\n",
    "    plt.xlabel(\"Productos\")\n",
    "    plt.legend()\n",
    "    plt.show()"
   ]
  },
  {
   "cell_type": "code",
   "execution_count": 54,
   "metadata": {},
   "outputs": [
    {
     "data": {
      "image/png": "[encoded data removed]",
      "text/plain": [
       "<Figure size 1440x504 with 1 Axes>"
      ]
     },
     "metadata": {
      "needs_background": "light"
     },
     "output_type": "display_data"
    }
   ],
   "source": [
    "plot_preds(y_test, pred_test_nn)"
   ]
  },
  {
   "cell_type": "markdown",
   "metadata": {},
   "source": [
    "Utilizando una función de pérdida sustituyendo la métrica rRMSE por RMSE se obtiene una gráfica que parece ser más precisa al verdadero volumen de unidades vendidas por producto por día. Pero utilizando esta pérdida, como se puede esperar, se obtiene una peor evaluación con la función objetivo al tener una mayor rRMSE. Por ello, se decide utilizar la primera de estas funciones.\n",
    "\n",
    "Como se indica en las instrucciones: *[...] Está será la métrica a minimizar: **(0.7 * rRMSE) + (0.3 * (1 - CF))**, siendo los mejores trabajos los que consigan los valores más reducidos de dicha métrica. [...]*"
   ]
  },
  {
   "cell_type": "markdown",
   "metadata": {},
   "source": [
    "![../img/index.png](../img/index.png)"
   ]
  },
  {
   "cell_type": "markdown",
   "metadata": {},
   "source": [
    "## 4. Predicción de datos no conocidos."
   ]
  },
  {
   "cell_type": "markdown",
   "metadata": {},
   "source": [
    "Se realiza el entrenamiento sobre todo nuestro conjunto de datos y se predice sobre los datos que encontramos en `Estimar2.txt`."
   ]
  },
  {
   "cell_type": "code",
   "execution_count": 91,
   "metadata": {},
   "outputs": [],
   "source": [
    "nn = Sequential()\n",
    "nn.add(Dense(50, input_dim=len(X_train_val[0]), kernel_initializer='normal', activation='relu'))\n",
    "nn.add(Dense(30, activation='relu'))\n",
    "nn.add(Dense(10, activation='relu'))\n",
    "nn.add(Dense(5, activation='relu'))\n",
    "nn.add(Dense(1, activation='linear'))\n",
    "\n",
    "nn.compile(loss=custom_loss,\n",
    "           optimizer=Adam(learning_rate=0.001),\n",
    "           metrics=[contest_loss, rRMSE, CF])"
   ]
  },
  {
   "cell_type": "code",
   "execution_count": 92,
   "metadata": {},
   "outputs": [
    {
     "name": "stdout",
     "output_type": "stream",
     "text": [
      "Epoch 1/10\n",
      "136003/136003 [==============================] - 84s 618us/step - loss: 0.6800 - contest_loss: 0.6800 - rRMSE: 0.9668 - CF: 0.9889\n",
      "Epoch 2/10\n",
      "136003/136003 [==============================] - 83s 609us/step - loss: 0.6733 - contest_loss: 0.6733 - rRMSE: 0.9568 - CF: 0.9879\n",
      "Epoch 3/10\n",
      "135982/136003 [============================>.] - ETA: 0s - loss: 0.6718 - contest_loss: 0.6718 - rRMSE: 0.9543 - CF: 0.9872Restoring model weights from the end of the best epoch.\n",
      "136003/136003 [==============================] - 84s 615us/step - loss: 0.6718 - contest_loss: 0.6718 - rRMSE: 0.9543 - CF: 0.9872\n",
      "Epoch 00003: early stopping\n"
     ]
    },
    {
     "data": {
      "text/plain": [
       "<tensorflow.python.keras.callbacks.History at 0x7fe4747ba4c0>"
      ]
     },
     "execution_count": 92,
     "metadata": {},
     "output_type": "execute_result"
    }
   ],
   "source": [
    "nn.fit(X, y, epochs = 10, batch_size = 15, callbacks = [es])"
   ]
  },
  {
   "cell_type": "markdown",
   "metadata": {},
   "source": [
    "Se lee el fichero de prueba (`Estimar2.txt`):"
   ]
  },
  {
   "cell_type": "code",
   "execution_count": 93,
   "metadata": {
    "scrolled": true
   },
   "outputs": [
    {
     "name": "stderr",
     "output_type": "stream",
     "text": [
      "/home/jaime/.local/lib/python3.8/site-packages/IPython/core/interactiveshell.py:3146: DtypeWarning: Columns (4) have mixed types.Specify dtype option on import or set low_memory=False.\n",
      "  has_raised = await self.run_ast_nodes(code_ast.body, cell_name,\n"
     ]
    }
   ],
   "source": [
    "date_parser = lambda x : datetime.strptime(x, \"%Y-%m-%d\")\n",
    "X_predict = pd.read_csv(\"../data/Estimar2.txt\", sep=\"|\", parse_dates=['fecha'],\n",
    "                     date_parser=date_parser)"
   ]
  },
  {
   "cell_type": "code",
   "execution_count": 94,
   "metadata": {
    "scrolled": true
   },
   "outputs": [
    {
     "data": {
      "text/html": [
       "<div>\n",
       "<style scoped>\n",
       "    .dataframe tbody tr th:only-of-type {\n",
       "        vertical-align: middle;\n",
       "    }\n",
       "\n",
       "    .dataframe tbody tr th {\n",
       "        vertical-align: top;\n",
       "    }\n",
       "\n",
       "    .dataframe thead th {\n",
       "        text-align: right;\n",
       "    }\n",
       "</style>\n",
       "<table border=\"1\" class=\"dataframe\">\n",
       "  <thead>\n",
       "    <tr style=\"text-align: right;\">\n",
       "      <th></th>\n",
       "      <th>fecha</th>\n",
       "      <th>id</th>\n",
       "      <th>visitas</th>\n",
       "      <th>categoria_uno</th>\n",
       "      <th>categoria_dos</th>\n",
       "      <th>estado</th>\n",
       "      <th>precio</th>\n",
       "      <th>dia_atipico</th>\n",
       "      <th>campaña</th>\n",
       "      <th>antiguedad</th>\n",
       "    </tr>\n",
       "  </thead>\n",
       "  <tbody>\n",
       "    <tr>\n",
       "      <th>0</th>\n",
       "      <td>2016-10-01</td>\n",
       "      <td>21972</td>\n",
       "      <td>5</td>\n",
       "      <td>C</td>\n",
       "      <td>75</td>\n",
       "      <td>No Rotura</td>\n",
       "      <td>5,84</td>\n",
       "      <td>0</td>\n",
       "      <td>0</td>\n",
       "      <td>5150</td>\n",
       "    </tr>\n",
       "    <tr>\n",
       "      <th>1</th>\n",
       "      <td>2016-10-02</td>\n",
       "      <td>21972</td>\n",
       "      <td>15</td>\n",
       "      <td>C</td>\n",
       "      <td>75</td>\n",
       "      <td>No Rotura</td>\n",
       "      <td>5,84</td>\n",
       "      <td>0</td>\n",
       "      <td>0</td>\n",
       "      <td>5150</td>\n",
       "    </tr>\n",
       "    <tr>\n",
       "      <th>2</th>\n",
       "      <td>2016-10-03</td>\n",
       "      <td>21972</td>\n",
       "      <td>5</td>\n",
       "      <td>C</td>\n",
       "      <td>75</td>\n",
       "      <td>No Rotura</td>\n",
       "      <td>5,84</td>\n",
       "      <td>0</td>\n",
       "      <td>0</td>\n",
       "      <td>5150</td>\n",
       "    </tr>\n",
       "    <tr>\n",
       "      <th>3</th>\n",
       "      <td>2016-10-04</td>\n",
       "      <td>21972</td>\n",
       "      <td>5</td>\n",
       "      <td>C</td>\n",
       "      <td>75</td>\n",
       "      <td>No Rotura</td>\n",
       "      <td>5,84</td>\n",
       "      <td>0</td>\n",
       "      <td>0</td>\n",
       "      <td>5150</td>\n",
       "    </tr>\n",
       "    <tr>\n",
       "      <th>4</th>\n",
       "      <td>2016-10-05</td>\n",
       "      <td>21972</td>\n",
       "      <td>0</td>\n",
       "      <td>C</td>\n",
       "      <td>75</td>\n",
       "      <td>No Rotura</td>\n",
       "      <td>5,84</td>\n",
       "      <td>0</td>\n",
       "      <td>0</td>\n",
       "      <td>5150</td>\n",
       "    </tr>\n",
       "  </tbody>\n",
       "</table>\n",
       "</div>"
      ],
      "text/plain": [
       "       fecha     id  visitas categoria_uno categoria_dos     estado precio  \\\n",
       "0 2016-10-01  21972        5             C            75  No Rotura   5,84   \n",
       "1 2016-10-02  21972       15             C            75  No Rotura   5,84   \n",
       "2 2016-10-03  21972        5             C            75  No Rotura   5,84   \n",
       "3 2016-10-04  21972        5             C            75  No Rotura   5,84   \n",
       "4 2016-10-05  21972        0             C            75  No Rotura   5,84   \n",
       "\n",
       "   dia_atipico  campaña  antiguedad  \n",
       "0            0        0        5150  \n",
       "1            0        0        5150  \n",
       "2            0        0        5150  \n",
       "3            0        0        5150  \n",
       "4            0        0        5150  "
      ]
     },
     "execution_count": 94,
     "metadata": {},
     "output_type": "execute_result"
    }
   ],
   "source": [
    "X_predict.head()"
   ]
  },
  {
   "cell_type": "code",
   "execution_count": 95,
   "metadata": {},
   "outputs": [
    {
     "name": "stdout",
     "output_type": "stream",
     "text": [
      "<class 'pandas.core.frame.DataFrame'>\n",
      "RangeIndex: 212841 entries, 0 to 212840\n",
      "Data columns (total 10 columns):\n",
      " #   Column         Non-Null Count   Dtype         \n",
      "---  ------         --------------   -----         \n",
      " 0   fecha          212841 non-null  datetime64[ns]\n",
      " 1   id             212841 non-null  int64         \n",
      " 2   visitas        212841 non-null  int64         \n",
      " 3   categoria_uno  212841 non-null  object        \n",
      " 4   categoria_dos  212841 non-null  object        \n",
      " 5   estado         212841 non-null  object        \n",
      " 6   precio         212841 non-null  object        \n",
      " 7   dia_atipico    212841 non-null  int64         \n",
      " 8   campaña        212841 non-null  int64         \n",
      " 9   antiguedad     212841 non-null  int64         \n",
      "dtypes: datetime64[ns](1), int64(5), object(4)\n",
      "memory usage: 16.2+ MB\n"
     ]
    }
   ],
   "source": [
    "X_predict.info()"
   ]
  },
  {
   "cell_type": "markdown",
   "metadata": {},
   "source": [
    "<hr>"
   ]
  },
  {
   "cell_type": "markdown",
   "metadata": {},
   "source": [
    "Se realiza todo el proceso de preprocesamiento de datos sobre los datos de testeo:"
   ]
  },
  {
   "cell_type": "code",
   "execution_count": 96,
   "metadata": {},
   "outputs": [],
   "source": [
    "# Sustitución de valores para los que categoria_dos es igual a '-' \n",
    "X_predict.loc[X_predict.categoria_dos == '-', \"categoria_dos\"] = np.nan\n",
    "X_predict[\"categoria_dos\"] = X_predict[\"categoria_dos\"].astype(np.float64) \n",
    "\n",
    "X_predict[\"weekday\"] = X_predict[\"fecha\"].map(lambda x: x.weekday()) # Lunes = 0; Domingo = 6\n",
    "X_predict[\"month\"] = X_predict[\"fecha\"].map(lambda x: x.month)\n",
    "\n",
    "X_predict['estado'] = X_predict['estado'].astype('category')\n",
    "X_predict['categoria_uno'] = X_predict['categoria_uno'].astype('category')\n",
    "\n",
    "X_predict[\"rotura\"] = X_predict[\"estado\"].map(lambda x: 1 if x=='Rotura' else 0).astype('category')\n",
    "X_predict[\"no_rotura\"] = X_predict[\"estado\"].map(lambda x: 1 if x=='No Rotura' else 0).astype('category')\n",
    "X_predict[\"transito\"] = X_predict[\"estado\"].map(lambda x: 1 if x=='Transito' else 0).astype('category')\n",
    "\n",
    "X_predict[\"dia_tipico\"] = X_predict[\"dia_atipico\"].map(lambda x: 1 if x==0 else 0)\n",
    "X_predict[\"dia_alta_demanda\"] = X_predict[\"dia_atipico\"].map(lambda x: 1 if x==1 else 0)\n",
    "X_predict[\"dia_baja_demanda\"] = X_predict[\"dia_atipico\"].map(lambda x: 1 if x==1 else 0)\n",
    "\n",
    "X_predict = X_predict.drop([\"dia_atipico\", \"estado\"], axis=1)"
   ]
  },
  {
   "cell_type": "code",
   "execution_count": 97,
   "metadata": {},
   "outputs": [],
   "source": [
    "# X_predict = X_predict.drop_duplicates(keep=\"first\")\n",
    "\n",
    "X_predict[\"precio\"] = X_predict[\"precio\"].str.replace(\",\", \".\").astype(float)\n",
    "\n",
    "X_predict['precio'] = X_predict.groupby(['id'])['precio'].ffill()\n",
    "\n",
    "X_predict['precio'] = X_predict.sort_values(by=\"fecha\", ascending=False) \\\n",
    "                                .groupby(['id'])['precio'].ffill()\n",
    "\n",
    "X_predict = X_predict.drop([\"antiguedad\"], axis=1)"
   ]
  },
  {
   "cell_type": "code",
   "execution_count": 98,
   "metadata": {},
   "outputs": [],
   "source": [
    "# Caso nan para categoria_uno con caso más común\n",
    "cat1_null = X_predict[\"categoria_uno\"].isnull()\n",
    "\n",
    "X_predict[\"categoria_uno\"][cat1_null] = 'A'"
   ]
  },
  {
   "cell_type": "code",
   "execution_count": 99,
   "metadata": {},
   "outputs": [],
   "source": [
    "X_predict[\"categoria_uno\"] = X_predict[\"categoria_uno\"].apply(lambda x: np.mode(X_predict[\"categoria_uno\"]) if x is None else x)\n",
    "\n",
    "encoder = LabelEncoder()\n",
    "\n",
    "cat1_encoded = encoder.fit_transform(X_predict['categoria_uno'].to_numpy().reshape(-1,1).ravel())\n",
    "\n",
    "X_predict['categoria_uno'] = cat1_encoded"
   ]
  },
  {
   "cell_type": "code",
   "execution_count": 100,
   "metadata": {},
   "outputs": [],
   "source": [
    "imputer = IterativeImputer(random_state=0)\n",
    "\n",
    "index_cat2 = X_predict[\"categoria_dos\"].notnull()\n",
    "index_no_cat2 = X_predict[\"categoria_dos\"].isnull()\n",
    "\n",
    "# Solo nos interesa rellenar \"categoria_dos\", \"precio\" no. Además, \"fecha\" e \"id\" no son utilizados por IterativeImputer\n",
    "imputer.fit(X_predict[index_cat2].drop([\"fecha\", \"precio\", \"id\"], axis=1).values) \n",
    "\n",
    "cat2_filled = imputer.transform(X_predict[index_no_cat2].drop([\"fecha\", \"precio\", \"id\"], axis=1).values)\n",
    "\n",
    "index_aux = list(X_predict.drop([\"fecha\", \"precio\"], axis=1).columns).index(\"categoria_dos\")\n",
    "X_predict.loc[index_no_cat2,[\"categoria_dos\"]] = cat2_filled[:, index_aux]"
   ]
  },
  {
   "cell_type": "code",
   "execution_count": 101,
   "metadata": {},
   "outputs": [],
   "source": [
    "cat_att = ['categoria_uno', 'categoria_dos', 'month', 'weekday', 'rotura', 'no_rotura', 'transito',\n",
    "           'dia_tipico', 'dia_alta_demanda', 'dia_baja_demanda', 'campaña']\n",
    "\n",
    "scaler = StandardScaler()\n",
    "\n",
    "X_predict.loc[:, [\"visitas\",\n",
    "                  \"precio\"]] = scaler.fit_transform(X_predict.drop(cat_att + [\"fecha\",\"id\"],axis=1))"
   ]
  },
  {
   "cell_type": "code",
   "execution_count": 102,
   "metadata": {},
   "outputs": [],
   "source": [
    "X_predict_prepared = X_predict.drop([\"fecha\", \"id\"], axis=1).values"
   ]
  },
  {
   "cell_type": "markdown",
   "metadata": {},
   "source": [
    "<hr>"
   ]
  },
  {
   "cell_type": "markdown",
   "metadata": {},
   "source": [
    "Se realizan las predicciones y se insertan en el fichero correspondiente."
   ]
  },
  {
   "cell_type": "code",
   "execution_count": 103,
   "metadata": {},
   "outputs": [],
   "source": [
    "pred_nn = nn.predict(X_predict_prepared)"
   ]
  },
  {
   "cell_type": "code",
   "execution_count": 104,
   "metadata": {},
   "outputs": [],
   "source": [
    "y_predict = X_predict[[\"fecha\",\"id\"]].copy()\n",
    "y_predict[\"fecha\"] = y_predict[\"fecha\"].dt.strftime('%d/%m/%Y') # FIX correccion formato fechas\n",
    "y_predict[\"unidades_vendidas\"] = pred_nn"
   ]
  },
  {
   "cell_type": "code",
   "execution_count": 105,
   "metadata": {},
   "outputs": [],
   "source": [
    "y_predict.to_csv(\"../data/Rento_UH2021.txt\", sep=\"|\", index=False)"
   ]
  },
  {
   "cell_type": "markdown",
   "metadata": {},
   "source": [
    "<hr>"
   ]
  }
 ],
 "metadata": {
  "kernelspec": {
   "display_name": "Python 3",
   "language": "python",
   "name": "python3"
  },
  "language_info": {
   "codemirror_mode": {
    "name": "ipython",
    "version": 3
   },
   "file_extension": ".py",
   "mimetype": "text/x-python",
   "name": "python",
   "nbconvert_exporter": "python",
   "pygments_lexer": "ipython3",
   "version": "3.8.6"
  }
 },
 "nbformat": 4,
 "nbformat_minor": 4
}
